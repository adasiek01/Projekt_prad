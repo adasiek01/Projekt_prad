{
 "cells": [
  {
   "cell_type": "markdown",
   "metadata": {},
   "source": [
    "Zadania:\n",
    "- **Wstęp**\n",
    "Opis równania obwodu RLC (Adam); wizualizacja; obrazki; co to układ RLC?; drgania\n",
    "- **Opis zjawiska/podstawy teoretyczne**\n",
    "Równania; Prawo Ohma (Adam), Faradaya (Adam); prawa Kirchhoffa (Mateusz); wzór dla oczka RLC wyprowadzony z praw (razem); równania analityczne (razem); implementacja; równania numeryczne\n",
    "- **Wyniki**\n",
    "wykresy; zdjęcie obwodu, nasze dane z obwodu; opisy danych\n",
    "- **Podsumowanie i wnioski**\n",
    "\n"
   ]
  },
  {
   "cell_type": "markdown",
   "metadata": {},
   "source": [
    "**Die Resonanz; Fuse(bezpiecznik); Czy układ wybuchnie przy włączaniu?; równolegle oprócz szeregowo; układy na więcej oczek; plotujemy prąd i natężenie na oporniku i spróbujemy też  na innych, równanie Szokleja-dioda. Obwód RLC z diodą (jedno oczko).**"
   ]
  },
  {
   "cell_type": "markdown",
   "metadata": {},
   "source": [
    "wiecej oczek i włącznik będzie trudny ale zamiast tego można dać różne sygnały źródła i wyplotować wyniki.\n",
    "pomysły na dalszą część pracy:\n",
    "\n",
    "\n",
    "- opisy równań jak u Asi\n",
    "- doświadczenie+zdjęcia z ładnym porównaniem danych i wnioskami\n",
    "- wyplotować dla sinusoidy prąd i napięcia na R L i C (nieustalony a później ustalony) - dla warunków 0,0\n",
    "- wziąć fale piłokształtne, kwadratowe i wyplotować tak samo, dla różnych czasów + zauważyć że układ zmienia kształt\n",
    "- można dodać prosty model bezpiecznika w jakimś układzie i zobaczyć czy się stopi (tutaj jeden układ a różne częstotliwości aż do rezonansu np)"
   ]
  },
  {
   "cell_type": "markdown",
   "metadata": {},
   "source": [
    "- **Literautura**"
   ]
  },
  {
   "cell_type": "markdown",
   "metadata": {},
   "source": [
    "- **Źródła**"
   ]
  }
 ],
 "metadata": {
  "kernelspec": {
   "display_name": "",
   "name": ""
  },
  "language_info": {
   "name": ""
  }
 },
 "nbformat": 4,
 "nbformat_minor": 5
}
