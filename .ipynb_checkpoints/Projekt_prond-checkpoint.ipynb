{
 "cells": [
  {
   "cell_type": "markdown",
   "metadata": {},
   "source": [
    "# Obwód RLC"
   ]
  },
  {
   "cell_type": "markdown",
   "metadata": {},
   "source": [
    "Co to jest **RLC**? \n",
    "**RLC** to skrót dla obwodów elektrycznych, w których skład wchodzą tylko trzy elementy pasywne: \n",
    "- rezystor (**R**)\n",
    "- cewka (**L**)\n",
    "- kondensator (**C**)"
   ]
  },
  {
   "cell_type": "markdown",
   "metadata": {},
   "source": [
    "Elementy $R L C$ mogą być połączone na różne sposoby, mogą też występować obwody bez cewki $L$ lub bez kondensatora $C$"
   ]
  },
  {
   "cell_type": "markdown",
   "metadata": {},
   "source": [
    "# Prawo Ohma"
   ]
  },
  {
   "cell_type": "markdown",
   "metadata": {},
   "source": [
    "Z prawa **Ohma** wiemy, że natężenie $I$ jest wprost proporcjonalne do napięcia $U$"
   ]
  },
  {
   "cell_type": "markdown",
   "metadata": {},
   "source": [
    "$$U = IR$$"
   ]
  },
  {
   "cell_type": "markdown",
   "metadata": {},
   "source": [
    "Możemy również przejść do równania różniczkowego, będziemy mieli do czynienia z przewodnikiem o długości $dl$ oraz powierzchni przekroju $dS$"
   ]
  },
  {
   "cell_type": "markdown",
   "metadata": {},
   "source": [
    "$$dI = \\frac{1}{R}dU$$"
   ]
  },
  {
   "cell_type": "markdown",
   "metadata": {},
   "source": [
    "Teraz możemy wyrazić natężenie prądu używając jego gęstości $\\vec{j}$"
   ]
  },
  {
   "cell_type": "markdown",
   "metadata": {},
   "source": [
    "$$dI = \\vec{j}d\\vec{S}$$"
   ]
  },
  {
   "cell_type": "markdown",
   "metadata": {},
   "source": [
    "Natomiast napięcie wyrazimy przy pomocy natężenie pola elektrycznego $\\vec{E}$"
   ]
  },
  {
   "cell_type": "markdown",
   "metadata": {},
   "source": [
    "$$dU = \\vec{E}d\\vec{l}$$"
   ]
  },
  {
   "cell_type": "markdown",
   "metadata": {},
   "source": [
    "Stąd:"
   ]
  },
  {
   "cell_type": "markdown",
   "metadata": {},
   "source": [
    "$$\\vec{j}d\\vec{S} = \\frac{1}{R}\\vec{E}d\\vec{l}$$"
   ]
  },
  {
   "cell_type": "markdown",
   "metadata": {},
   "source": [
    "Jeśli wybierzemy przekrój $dS$ prostopadle do kierunku płynącego prądu i podstawimy jako $\\frac{1}{R}$"
   ]
  },
  {
   "cell_type": "markdown",
   "metadata": {},
   "source": [
    "$$\\frac{1}{R} = σ\\frac{dS}{dl}$$"
   ]
  },
  {
   "cell_type": "markdown",
   "metadata": {},
   "source": [
    "dostaniemy"
   ]
  },
  {
   "cell_type": "markdown",
   "metadata": {},
   "source": [
    "$$\\vec{j}=σ\\vec{E}$$"
   ]
  },
  {
   "cell_type": "markdown",
   "metadata": {},
   "source": [
    "Widzimy tutaj, że gęstość prądu jest powiązana z natężeniem pola elektrycznego w przewodniku"
   ]
  },
  {
   "cell_type": "markdown",
   "metadata": {},
   "source": [
    "# Równanie główne"
   ]
  },
  {
   "cell_type": "markdown",
   "metadata": {},
   "source": [
    "Korzystając z prawa Kirchhoffa, dzięki któremu wiemy, że całkowity spadek napięcia w obwodzie zamkniętym równy jest przyłożonej sile elektromotorycznej, możemy napisać:"
   ]
  },
  {
   "cell_type": "markdown",
   "metadata": {},
   "source": [
    "$$U_R + U_L + U_C = E(t)$$"
   ]
  },
  {
   "cell_type": "markdown",
   "metadata": {},
   "source": [
    "Spadek napięcia $U_r$ na oporniku to według prawa Ohma iloczyn natężenia prądu $I$ oraz oporu $R$, stąd \n"
   ]
  },
  {
   "cell_type": "markdown",
   "metadata": {},
   "source": [
    "$$U_r = RI$$"
   ]
  },
  {
   "cell_type": "markdown",
   "metadata": {},
   "source": [
    "Według prawa **Faradaya** spadek napięcia na cewce  to iloczyn jej indukcyjności $L$ i prędkości zmian prądu w czasie $\\frac{dI}{dt}$, stąd mamy "
   ]
  },
  {
   "cell_type": "markdown",
   "metadata": {},
   "source": [
    "$$U_L = L\\frac{dI}{dt}$$"
   ]
  },
  {
   "cell_type": "markdown",
   "metadata": {},
   "source": [
    "Natomiast spadek napięcia na kondensatorze to iloraz ładunku kondensatora $q$ i jego pojemności $C$, stąd mamy"
   ]
  },
  {
   "cell_type": "markdown",
   "metadata": {},
   "source": [
    "$$U_C=\\frac{Q}{C}$$"
   ]
  },
  {
   "cell_type": "markdown",
   "metadata": {},
   "source": [
    "Nasze równanie $U_R + U_L + U_C = E(t)$ możemy zapisać jako"
   ]
  },
  {
   "cell_type": "markdown",
   "metadata": {},
   "source": [
    "$$L\\frac{dI}{dt} + RI + \\frac{Q}{C} = E(t)$$"
   ]
  },
  {
   "cell_type": "markdown",
   "metadata": {},
   "source": [
    "Wiemy, że zależność natężenia to ładunku kondensatora zapisujemy $I=\\frac{dQ}{dt}$, stąd jak różniczkujemy obustronnie względem $t$, to dostaniemy"
   ]
  },
  {
   "cell_type": "markdown",
   "metadata": {},
   "source": [
    "$$L\\frac{d^2I}{dt^2}+R\\frac{dI}{dt}+\\frac{I}{C}=\\frac{d}{dt}E(t)$$"
   ]
  },
  {
   "cell_type": "markdown",
   "metadata": {},
   "source": [
    "\n"
   ]
  },
  {
   "cell_type": "code",
   "execution_count": null,
   "metadata": {},
   "outputs": [],
   "source": []
  },
  {
   "cell_type": "code",
   "execution_count": null,
   "metadata": {},
   "outputs": [],
   "source": []
  },
  {
   "cell_type": "code",
   "execution_count": null,
   "metadata": {},
   "outputs": [],
   "source": []
  },
  {
   "cell_type": "code",
   "execution_count": null,
   "metadata": {},
   "outputs": [],
   "source": []
  },
  {
   "cell_type": "markdown",
   "metadata": {},
   "source": [
    "# Rozwiązanie analityczne równania"
   ]
  },
  {
   "cell_type": "markdown",
   "metadata": {},
   "source": [
    "Rozważymy przypadek, gdzie siła elektromotoryczna będzie funkcją okresową $E(t)=cos(t)$. Oznacza to, że mamy do czynienia z klasycznym przypadkiem prądu przemiennego. Równanie ma wtedy postać\n",
    "\n",
    "$$L\\frac{d^2I(t)}{dt^2}+R\\frac{dI(t)}{dt}+\\frac{I(t)}{C}=-\\sin(\\omega t).$$"
   ]
  },
  {
   "cell_type": "markdown",
   "metadata": {},
   "source": [
    "Na początku znajdujemy rozwiązania układu jednorodnego\n",
    "$$L\\frac{d^2I(t)}{dt^2}+R\\frac{dI(t)}{dt}+\\frac{I(t)}{C}=0.$$"
   ]
  },
  {
   "cell_type": "markdown",
   "metadata": {},
   "source": [
    "Nasz wielomian charakterystyczny będzie postaci\n",
    "$$L\\lambda^2+R\\lambda+\\frac{1}{C}=0.$$\n",
    "\n",
    "$$\\Delta = R^2 - \\frac{4L}{C};$$\n",
    "$$\\lambda_{1,2} = \\frac{-R\\pm \\sqrt{R^2 - \\frac{4L}{C}}}{2L}.$$\n",
    "\n",
    "Możemy użyć uproszczonych zmiennych $\\alpha = \\frac{R}{2L}$ oraz $\\omega_0 = \\frac{1}{\\sqrt{LC}}$. Wtedy \n",
    "\n",
    "$$\\lambda_{1,2} = -\\alpha \\pm \\sqrt{\\alpha^2-\\omega_0^2}.$$\n",
    "\n",
    "-----------------"
   ]
  },
  {
   "cell_type": "markdown",
   "metadata": {},
   "source": [
    "*  Gdy $\\Delta < 0 \\iff \\omega_0 > \\alpha$ (tłumienie słabe) rozwiązanie ogólne równania to\n",
    "\n",
    "$$I(t) = e^{-\\alpha t}(C_1 \\cos(\\sqrt{\\omega_0^2-\\alpha^2}\\,t)+C_2 \\sin(\\sqrt{\\omega_0^2-\\alpha^2}\\, t)).$$\n",
    "\n",
    "* Gdy $\\Delta = 0 \\iff \\omega_0 = \\alpha$ rozwiązanie ogólne ma postać\n",
    "\n",
    "$$I(t) = C_1 e^{-\\alpha t} + C_2 t e^{-\\alpha t}.$$\n",
    "\n",
    "\n",
    "* Gdy $\\Delta > 0 \\iff \\omega_0 < \\alpha$ (tłumienie silne) otrzymujemy rozwiązanie\n",
    "\n",
    "$$I(t) = C_1 e^{-\\alpha + \\sqrt{\\alpha^2-\\omega_0^2} t} + C_2 e^{-\\alpha - \\sqrt{\\alpha^2-\\omega_0^2} t}.$$\n",
    "\n",
    "\n",
    "----------------"
   ]
  },
  {
   "cell_type": "markdown",
   "metadata": {},
   "source": [
    "Następnie szukamy funkcji $\\varphi(t)$ - liniowo niezależnego rozwiązania układu niejednorodnego. Stosujemy metodę przewidywania.\n",
    "\n",
    "Niech \n",
    "\n",
    "$$\\varphi(t) = D_1 \\cos(\\omega t) + D_2 \\sin(\\omega t),$$\n",
    "\n",
    "$$\\varphi ' (t)=\\omega(-D_1 \\sin(\\omega t) + D_2\\cos(\\omega t)),$$\n",
    "\n",
    "$$\\varphi '' (t) = \\omega^2 (-D_1 \\cos(\\omega t)-D_2\\sin(\\omega t)).$$\n",
    "\n",
    "Po podstawieniu do bazowego równania otrzymujemy\n",
    "\n",
    "$$(-D_1 L \\omega^2 + D_2 R \\omega + \\frac{D_1}{C})\\cos(\\omega t ) + (-D_2 L \\omega^2 - D_1 R \\omega + \\frac{D_2}{C})\\sin(\\omega t) = - sin(\\omega t),$$\n",
    "\n",
    "dlatego\n",
    "\n",
    "$$\n",
    "\\left\\{\n",
    "    \\begin{array}\\\\\n",
    "        -D_1 L \\omega^2 + D_2 R \\omega + \\frac{D_1}{C} = 0\\\\\n",
    "        -D_2 L \\omega^2 - D_1 R \\omega + \\frac{D_2}{C} = -1\n",
    "    \\end{array}.\n",
    "\\right.\n",
    "$$\n",
    "Ostatecznie \n",
    "$$\n",
    "\\left\\{\n",
    "    \\begin{array}\\\\\n",
    "        -D_1 = ......\\\\\n",
    "        -D_2 = ......\n",
    "    \\end{array}.\n",
    "\\right.\n",
    "$$\n",
    "\n",
    "I rozwiązania ogólne układów niejednorodnych to odpowiednio dla wskazanych przypadków\n",
    "\n",
    "* $I(t) = e^{-\\alpha t}(C_1 \\cos(\\sqrt{\\omega_0^2-\\alpha^2}\\,t)+C_2 \\sin(\\sqrt{\\omega_0^2-\\alpha^2}\\, t)) + D_1 \\cos(\\omega t) + D_2 \\sin(\\omega t),$\n",
    "\n",
    "* $I(t) = C_1 e^{-\\alpha t} + C_2 t e^{-\\alpha t} + D_1 \\cos(\\omega t) + D_2 \\sin(\\omega t),$\n",
    "\n",
    "* $I(t) = I(t) = C_1 e^{-\\alpha + \\sqrt{\\alpha^2-\\omega_0^2}\\,t} + C_2 e^{-\\alpha - \\sqrt{\\alpha^2-\\omega_0^2}\\,t} + D_1 \\cos(\\omega t) + D_2 \\sin(\\omega t),$\n",
    "\n",
    "dla podanych powyżej wartości $D_1, D_2.$\n",
    "\n",
    "Stałe $C_1, C_2$ wyznaczamy na podstawie warunków początkowych."
   ]
  },
  {
   "cell_type": "code",
   "execution_count": null,
   "metadata": {},
   "outputs": [],
   "source": []
  }
 ],
 "metadata": {
  "kernelspec": {
   "display_name": "Python 3",
   "language": "python",
   "name": "python3"
  },
  "language_info": {
   "codemirror_mode": {
    "name": "ipython",
    "version": 3
   },
   "file_extension": ".py",
   "mimetype": "text/x-python",
   "name": "python",
   "nbconvert_exporter": "python",
   "pygments_lexer": "ipython3",
   "version": "3.8.5"
  }
 },
 "nbformat": 4,
 "nbformat_minor": 5
}
