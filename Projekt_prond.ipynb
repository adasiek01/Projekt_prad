{
 "cells": [
  {
   "cell_type": "markdown",
   "id": "caroline-sunrise",
   "metadata": {},
   "source": [
    "$\\Large{Obwód}$ $\\Large{RLC}$"
   ]
  },
  {
   "cell_type": "markdown",
   "id": "behind-stevens",
   "metadata": {},
   "source": [
    "Co to jest **RLC**? \n",
    "**RLC** to skrót dla obwodów elektrycznych, w których skład wchodzą tylko trzy elementy pasywne: \n",
    "- rezystor (**R**)\n",
    "- cewka (**L**)\n",
    "- kondensator (**C**)"
   ]
  },
  {
   "cell_type": "markdown",
   "id": "monthly-tablet",
   "metadata": {},
   "source": [
    "Elementy $R L C$ mogą być połączone na różne sposoby, mogą też występować obwody bez cewki $L$ lub bez kondensatora $C$"
   ]
  },
  {
   "cell_type": "markdown",
   "id": "neither-climb",
   "metadata": {},
   "source": [
    "$\\Large{Prawo}$ $\\Large{Ohma}$"
   ]
  },
  {
   "cell_type": "markdown",
   "id": "prime-nashville",
   "metadata": {},
   "source": [
    "Z prawa **Ohma** wiemy, że natężenie $I$ jest wprost proporcjonalne do napięcia $U$"
   ]
  },
  {
   "cell_type": "markdown",
   "id": "endangered-superior",
   "metadata": {},
   "source": [
    "$$U = IR$$"
   ]
  },
  {
   "cell_type": "markdown",
   "id": "orange-airplane",
   "metadata": {},
   "source": [
    "Możemy również przejść do równania różniczkowego, będziemy mieli do czynienia z przewodnikiem o długości $dl$ oraz powierzchni przekroju $dS$"
   ]
  },
  {
   "cell_type": "markdown",
   "id": "tracked-dylan",
   "metadata": {},
   "source": [
    "$$dI = \\frac{1}{R}dU$$"
   ]
  },
  {
   "cell_type": "markdown",
   "id": "sacred-masters",
   "metadata": {},
   "source": [
    "Teraz możemy wyrazić natężenie prądu używając jego gęstości $\\vec{j}$"
   ]
  },
  {
   "cell_type": "markdown",
   "id": "sharp-franchise",
   "metadata": {},
   "source": [
    "$$dI = \\vec{j}d\\vec{S}$$"
   ]
  },
  {
   "cell_type": "markdown",
   "id": "martial-danger",
   "metadata": {},
   "source": [
    "Natomiast napięcie wyrazimy przy pomocy natężenie pola elektrycznego $\\vec{E}$"
   ]
  },
  {
   "cell_type": "markdown",
   "id": "documentary-preparation",
   "metadata": {},
   "source": [
    "$$dU = \\vec{E}d\\vec{l}$$"
   ]
  },
  {
   "cell_type": "markdown",
   "id": "scientific-terror",
   "metadata": {},
   "source": [
    "Stąd:"
   ]
  },
  {
   "cell_type": "markdown",
   "id": "constant-shelter",
   "metadata": {},
   "source": [
    "$$\\vec{j}d\\vec{S} = \\frac{1}{R}\\vec{E}d\\vec{l}$$"
   ]
  },
  {
   "cell_type": "markdown",
   "id": "selected-midnight",
   "metadata": {},
   "source": [
    "Jeśli wybierzemy przekrój $dS$ prostopadle do kierunku płynącego prądu i podstawimy jako $\\frac{1}{R}$"
   ]
  },
  {
   "cell_type": "markdown",
   "id": "julian-colombia",
   "metadata": {},
   "source": [
    "$$\\frac{1}{R} = σ\\frac{dS}{dl}$$"
   ]
  },
  {
   "cell_type": "markdown",
   "id": "composite-uncle",
   "metadata": {},
   "source": [
    "dostaniemy"
   ]
  },
  {
   "cell_type": "markdown",
   "id": "wired-parts",
   "metadata": {},
   "source": [
    "$$\\vec{j}=σ\\vec{E}$$"
   ]
  },
  {
   "cell_type": "markdown",
   "id": "practical-writer",
   "metadata": {},
   "source": [
    "Widzimy tutaj, że gęstość prądu jest powiązana z natężeniem pola elektrycznego w przewodniku"
   ]
  },
  {
   "cell_type": "markdown",
   "id": "indonesian-mauritius",
   "metadata": {},
   "source": [
    "$\\Large{Równanie}$ $\\Large{główne}$"
   ]
  },
  {
   "cell_type": "markdown",
   "id": "considerable-norwegian",
   "metadata": {},
   "source": [
    "Korzystając z prawa Kirchhoffa, dzięki któremu wiemy, że całkowity spadek napięcia w obwodzie zamkniętym równy jest przyłożonej sile elektromotorycznej, możemy napisać:"
   ]
  },
  {
   "cell_type": "markdown",
   "id": "differential-taste",
   "metadata": {},
   "source": [
    "$$U_R + U_L + U_C = E(t)$$"
   ]
  },
  {
   "cell_type": "markdown",
   "id": "racial-pantyhose",
   "metadata": {},
   "source": [
    "Spadek napięcia $U_r$ na oporniku to według prawa Ohma iloczyn natężenia prądu $I$ oraz oporu $R$, stąd \n"
   ]
  },
  {
   "cell_type": "markdown",
   "id": "applied-centre",
   "metadata": {},
   "source": [
    "$$U_r = RI$$"
   ]
  },
  {
   "cell_type": "markdown",
   "id": "southern-printing",
   "metadata": {},
   "source": [
    "Według prawa **Faradaya** spadek napięcia na cewce  to iloczyn jej indukcyjności $L$ i prędkości zmian prądu w czasie $\\frac{dI}{dt}$, stąd mamy "
   ]
  },
  {
   "cell_type": "markdown",
   "id": "angry-sewing",
   "metadata": {},
   "source": [
    "$$U_L = L\\frac{dI}{dt}$$"
   ]
  },
  {
   "cell_type": "markdown",
   "id": "superb-topic",
   "metadata": {},
   "source": [
    "Natomiast spadek napięcia na kondensatorze to iloraz ładunku kondensatora $q$ i jego pojemności $C$, stąd mamy"
   ]
  },
  {
   "cell_type": "markdown",
   "id": "worst-methodology",
   "metadata": {},
   "source": [
    "$$U_C=\\frac{Q}{C}$$"
   ]
  },
  {
   "cell_type": "markdown",
   "id": "respiratory-chance",
   "metadata": {},
   "source": [
    "Nasze równanie $U_R + U_L + U_C = E(t)$ możemy zapisać jako"
   ]
  },
  {
   "cell_type": "markdown",
   "id": "extensive-science",
   "metadata": {},
   "source": [
    "$$L\\frac{dI}{dt} + RI + \\frac{Q}{C} = E(t)$$"
   ]
  },
  {
   "cell_type": "markdown",
   "id": "funny-florida",
   "metadata": {},
   "source": [
    "Wiemy że zależność natężenia to ładunku kondensatora zapisujemy $I=\\frac{dQ}{dt}$, stąd jak różniczkujemy obustronnie względem $t$, to dostaniemy"
   ]
  },
  {
   "cell_type": "markdown",
   "id": "quality-ontario",
   "metadata": {},
   "source": [
    "$$L\\frac{d^2I}{dt^2}+R\\frac{dI}{dt}+\\frac{I}{C}=\\frac{d}{dt}E(t)$$"
   ]
  },
  {
   "cell_type": "markdown",
   "id": "3c5cd3c0",
   "metadata": {},
   "source": []
  }
 ],
 "metadata": {
  "kernelspec": {
   "display_name": "Python 3",
   "language": "python",
   "name": "python3"
  },
  "language_info": {
   "codemirror_mode": {
    "name": "ipython",
    "version": 3
   },
   "file_extension": ".py",
   "mimetype": "text/x-python",
   "name": "python",
   "nbconvert_exporter": "python",
   "pygments_lexer": "ipython3",
   "version": "3.8.2"
  }
 },
 "nbformat": 4,
 "nbformat_minor": 5
}
