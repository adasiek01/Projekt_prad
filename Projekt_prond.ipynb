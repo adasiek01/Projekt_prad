{
 "cells": [
  {
   "cell_type": "markdown",
   "id": "central-airfare",
   "metadata": {},
   "source": [
    "Spadek napięcia $U_r$ na oporniku to według prawa Ohma iloczyn natężenia prądu **I** oraz oporu **R**, stąd $U_r = RI$"
   ]
  },
  {
   "cell_type": "markdown",
   "id": "improved-bottle",
   "metadata": {},
   "source": [
    "Według prawa **Faradaya** spadek napięcia na cewce  to iloczyn jej indukcyjności **L** i prędkości zmian prądu w czasie $\\frac{dI}{dt}$, stąd mamy $U_L = L\\frac{dI}{dt}$"
   ]
  },
  {
   "cell_type": "code",
   "execution_count": null,
   "id": "returning-audience",
   "metadata": {},
   "outputs": [],
   "source": []
  }
 ],
 "metadata": {
  "kernelspec": {
   "display_name": "Python 3",
   "language": "python",
   "name": "python3"
  },
  "language_info": {
   "codemirror_mode": {
    "name": "ipython",
    "version": 3
   },
   "file_extension": ".py",
   "mimetype": "text/x-python",
   "name": "python",
   "nbconvert_exporter": "python",
   "pygments_lexer": "ipython3",
   "version": "3.8.2"
  }
 },
 "nbformat": 4,
 "nbformat_minor": 5
}
