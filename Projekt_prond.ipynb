{
 "cells": [
  {
   "cell_type": "markdown",
   "id": "relevant-crash",
   "metadata": {},
   "source": [
    "Korzystając z prawa Kirchhoffa, dzięki któremu wiemy, że całkowity spadek napięcia w obwodzie zamkniętym równy jest przyłożonej sile elektromotorycznej, możemy napisać:"
   ]
  },
  {
   "cell_type": "markdown",
   "id": "compound-argument",
   "metadata": {},
   "source": [
    "$U_R + U_L + U_C = E(t)$"
   ]
  },
  {
   "cell_type": "markdown",
   "id": "complimentary-remainder",
   "metadata": {},
   "source": [
    "Spadek napięcia $U_r$ na oporniku to według prawa Ohma iloczyn natężenia prądu **I** oraz oporu **R**, stąd \n"
   ]
  },
  {
   "cell_type": "markdown",
   "id": "large-genesis",
   "metadata": {},
   "source": [
    "$U_r = RI$"
   ]
  },
  {
   "cell_type": "markdown",
   "id": "increased-founder",
   "metadata": {},
   "source": [
    "Według prawa **Faradaya** spadek napięcia na cewce  to iloczyn jej indukcyjności **L** i prędkości zmian prądu w czasie $\\frac{dI}{dt}$, stąd mamy "
   ]
  },
  {
   "cell_type": "markdown",
   "id": "foster-lewis",
   "metadata": {},
   "source": [
    "$U_L = L\\frac{dI}{dt}$"
   ]
  },
  {
   "cell_type": "markdown",
   "id": "female-boxing",
   "metadata": {},
   "source": [
    "Natomiast spadek napięcia na kondensatorze to iloraz ładunku kondensatora $q$ i jego pojemności $C$, stąd mamy"
   ]
  },
  {
   "cell_type": "markdown",
   "id": "caring-coverage",
   "metadata": {},
   "source": [
    "$U_C=\\frac{Q}{C}$"
   ]
  },
  {
   "cell_type": "markdown",
   "id": "skilled-arkansas",
   "metadata": {},
   "source": [
    "Nasze równanie $U_R + U_L + U_C = E(t)$ możemy zapisać jako"
   ]
  },
  {
   "cell_type": "markdown",
   "id": "ongoing-association",
   "metadata": {},
   "source": [
    "$L\\frac{dI}{dt} + RI + \\frac{Q}{C} = E(t)$"
   ]
  },
  {
   "cell_type": "markdown",
   "id": "sapphire-setting",
   "metadata": {},
   "source": [
    "Wiemy że zależność natężenia to ładunku kondensatora zapisujemy $I=\\frac{dQ}{dt}$, stąd jak różniczkujemy obustronnie względem $t$, to dostaniemy"
   ]
  },
  {
   "cell_type": "markdown",
   "id": "stopped-scott",
   "metadata": {},
   "source": [
    "$L\\frac{d^2L}{dt^2}+R\\frac{dI}{dt}+\\frac{I}{C}=\\frac{dE(t)}{dt}$"
   ]
  },
  {
   "cell_type": "code",
   "execution_count": null,
   "id": "associate-likelihood",
   "metadata": {},
   "outputs": [],
   "source": []
  },
  {
   "cell_type": "code",
   "execution_count": null,
   "id": "sealed-improvement",
   "metadata": {},
   "outputs": [],
   "source": []
  }
 ],
 "metadata": {
  "kernelspec": {
   "display_name": "Python 3",
   "language": "python",
   "name": "python3"
  },
  "language_info": {
   "codemirror_mode": {
    "name": "ipython",
    "version": 3
   },
   "file_extension": ".py",
   "mimetype": "text/x-python",
   "name": "python",
   "nbconvert_exporter": "python",
   "pygments_lexer": "ipython3",
   "version": "3.8.2"
  }
 },
 "nbformat": 4,
 "nbformat_minor": 5
}
