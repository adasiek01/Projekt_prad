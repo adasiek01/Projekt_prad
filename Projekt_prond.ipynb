{
 "cells": [
  {
   "cell_type": "markdown",
   "metadata": {},
   "source": [
    "**Równania Różniczkowe w Technice** - W13, PWr\n",
    "\n",
    "Projekt - semestr zimowy 2021/22\n",
    "\n",
    "**Temat:** *Charakterystyka przepływu prądu w układach RLC*.\n",
    "\n",
    "**Autorzy:**\n",
    "\n",
    "* Adam Kawałko, 262329\n",
    "* Mateusz Machaj, 262288"
   ]
  },
  {
   "cell_type": "code",
   "execution_count": 1,
   "metadata": {},
   "outputs": [
    {
     "data": {
      "application/javascript": [
       "\n",
       "            setTimeout(function() {\n",
       "                var nbb_cell_id = 1;\n",
       "                var nbb_unformatted_code = \"%load_ext nb_black\";\n",
       "                var nbb_formatted_code = \"%load_ext nb_black\";\n",
       "                var nbb_cells = Jupyter.notebook.get_cells();\n",
       "                for (var i = 0; i < nbb_cells.length; ++i) {\n",
       "                    if (nbb_cells[i].input_prompt_number == nbb_cell_id) {\n",
       "                        if (nbb_cells[i].get_text() == nbb_unformatted_code) {\n",
       "                             nbb_cells[i].set_text(nbb_formatted_code);\n",
       "                        }\n",
       "                        break;\n",
       "                    }\n",
       "                }\n",
       "            }, 500);\n",
       "            "
      ],
      "text/plain": [
       "<IPython.core.display.Javascript object>"
      ]
     },
     "metadata": {},
     "output_type": "display_data"
    }
   ],
   "source": [
    "%load_ext nb_black"
   ]
  },
  {
   "cell_type": "markdown",
   "metadata": {},
   "source": [
    "Import bibliotek *Python*:"
   ]
  },
  {
   "cell_type": "code",
   "execution_count": 1,
   "metadata": {},
   "outputs": [],
   "source": [
    "import numpy as np\n",
    "import matplotlib.pyplot as plt\n",
    "from IPython.core.display import HTML"
   ]
  },
  {
   "cell_type": "markdown",
   "metadata": {},
   "source": [
    "Format wyświetlanych grafik:"
   ]
  },
  {
   "cell_type": "code",
   "execution_count": 2,
   "metadata": {},
   "outputs": [
    {
     "data": {
      "text/html": [
       "\n",
       "<style>\n",
       ".output_png {\n",
       "    display: table-cell;\n",
       "    text-align: center;\n",
       "    vertical-align: middle;\n",
       "}\n",
       "</style>\n"
      ],
      "text/plain": [
       "<IPython.core.display.HTML object>"
      ]
     },
     "execution_count": 2,
     "metadata": {},
     "output_type": "execute_result"
    }
   ],
   "source": [
    "HTML(\"\"\"\n",
    "<style>\n",
    ".output_png {\n",
    "    display: table-cell;\n",
    "    text-align: center;\n",
    "    vertical-align: middle;\n",
    "}\n",
    "</style>\n",
    "\"\"\")"
   ]
  },
  {
   "cell_type": "markdown",
   "metadata": {},
   "source": [
    "# Obwód RLC"
   ]
  },
  {
   "cell_type": "markdown",
   "metadata": {},
   "source": [
    "Co to jest **RLC**? \n",
    "**RLC** to skrót dla obwodów elektrycznych, w których skład wchodzą tylko trzy elementy pasywne: \n",
    "- rezystor (**R**),\n",
    "- cewka (**L**),\n",
    "- kondensator (**C**)."
   ]
  },
  {
   "cell_type": "markdown",
   "metadata": {},
   "source": [
    "Elementy **RLC** mogą być połączone na różne sposoby, mogą też występować obwody bez cewki **L** lub bez kondensatora **C**. Nas jednak będą interesowały najciekawsze układy - z wszystkimi trzema rodzajami elementów."
   ]
  },
  {
   "cell_type": "markdown",
   "metadata": {},
   "source": [
    "Pochylimy się głównie nad ich podłączeniem szeregowym w jednym oczku, ale warto zwrócić uwagę, że konfiguracji może być wiele - na przykład równoległe podłączenia oraz układy złożone z wielu oczek. Do badania charakterystyki użyjemy też innych elementów, takich jak przełącznik czy bezpiecznik."
   ]
  },
  {
   "cell_type": "markdown",
   "metadata": {},
   "source": [
    "![Rysunek 1. Szeregowy układ RLC](images/rlc_1.png) <center> Rysunek 1. Szeregowy układ RLC"
   ]
  },
  {
   "cell_type": "markdown",
   "metadata": {},
   "source": [
    "<font color='red'>**??????????????????**</font> "
   ]
  },
  {
   "cell_type": "markdown",
   "metadata": {},
   "source": [
    "# Prawo Ohma"
   ]
  },
  {
   "cell_type": "markdown",
   "metadata": {},
   "source": [
    "Z **prawa Ohma** wiemy, że natężenie $I$ jest wprost proporcjonalne do napięcia $U$:"
   ]
  },
  {
   "cell_type": "markdown",
   "metadata": {},
   "source": [
    "$$U = IR.$$"
   ]
  },
  {
   "cell_type": "markdown",
   "metadata": {},
   "source": [
    "Możemy również przejść do równania różniczkowego. Będziemy mieli do czynienia z przewodnikiem o długości $dl$ oraz powierzchni przekroju $dS$"
   ]
  },
  {
   "cell_type": "markdown",
   "metadata": {},
   "source": [
    "$$dI = \\frac{1}{R}dU$$"
   ]
  },
  {
   "cell_type": "markdown",
   "metadata": {},
   "source": [
    "Teraz możemy wyrazić natężenie prądu używając jego gęstości $\\vec{j}$"
   ]
  },
  {
   "cell_type": "markdown",
   "metadata": {},
   "source": [
    "$$dI = \\vec{j}d\\vec{S}$$"
   ]
  },
  {
   "cell_type": "markdown",
   "metadata": {},
   "source": [
    "Natomiast napięcie wyrazimy przy pomocy natężenie pola elektrycznego $\\vec{E}$"
   ]
  },
  {
   "cell_type": "markdown",
   "metadata": {},
   "source": [
    "$$dU = \\vec{E}d\\vec{l}$$"
   ]
  },
  {
   "cell_type": "markdown",
   "metadata": {},
   "source": [
    "Stąd:"
   ]
  },
  {
   "cell_type": "markdown",
   "metadata": {},
   "source": [
    "$$\\vec{j}d\\vec{S} = \\frac{1}{R}\\vec{E}d\\vec{l}$$"
   ]
  },
  {
   "cell_type": "markdown",
   "metadata": {},
   "source": [
    "Jeśli wybierzemy przekrój $dS$ prostopadle do kierunku płynącego prądu i podstawimy jako $\\frac{1}{R}$"
   ]
  },
  {
   "cell_type": "markdown",
   "metadata": {},
   "source": [
    "$$\\frac{1}{R} = σ\\frac{dS}{dl}$$"
   ]
  },
  {
   "cell_type": "markdown",
   "metadata": {},
   "source": [
    "dostaniemy"
   ]
  },
  {
   "cell_type": "markdown",
   "metadata": {},
   "source": [
    "$$\\vec{j}=σ\\vec{E}$$"
   ]
  },
  {
   "cell_type": "markdown",
   "metadata": {},
   "source": [
    "Widzimy tutaj, że gęstość prądu jest powiązana z natężeniem pola elektrycznego w przewodniku."
   ]
  },
  {
   "cell_type": "markdown",
   "metadata": {},
   "source": [
    "<font color='red'>**??????????????????**</font> "
   ]
  },
  {
   "cell_type": "markdown",
   "metadata": {},
   "source": [
    "# Równanie główne [[1]](#bib1)"
   ]
  },
  {
   "cell_type": "markdown",
   "metadata": {},
   "source": [
    "Rozpatrzmy układ szeregowy z jednym oczkiem, źródłem prądu i trzema elementami pasywnymi: opornikiem, cewką oraz kondensatorem. \n",
    "\n",
    "Korzystając z **drugiego prawa Kirchhoffa**, dzięki któremu wiemy, że całkowity spadek napięcia w obwodzie zamkniętym równy jest przyłożonej sile elektromotorycznej, możemy napisać:"
   ]
  },
  {
   "cell_type": "markdown",
   "metadata": {},
   "source": [
    "$$U_R + U_L + U_C = {\\mathcal {E}}(t).$$"
   ]
  },
  {
   "cell_type": "markdown",
   "metadata": {},
   "source": [
    "Spadek napięcia $U_R$ na oporniku to według **prawa Ohma** iloczyn natężenia prądu $I$ oraz oporu $R$, stąd \n"
   ]
  },
  {
   "cell_type": "markdown",
   "metadata": {},
   "source": [
    "$$U_R = RI.$$"
   ]
  },
  {
   "cell_type": "markdown",
   "metadata": {},
   "source": [
    "Według **prawa Faradaya** spadek napięcia na cewce to iloczyn jej indukcyjności $L$ i prędkości zmian prądu w czasie $\\frac{dI}{dt}$, dlatego mamy "
   ]
  },
  {
   "cell_type": "markdown",
   "metadata": {},
   "source": [
    "$$U_L = L\\frac{dI}{dt}.$$"
   ]
  },
  {
   "cell_type": "markdown",
   "metadata": {},
   "source": [
    "Natomiast spadek napięcia na kondensatorze to iloraz ładunku kondensatora $q$ i jego pojemności $C$, stąd mamy"
   ]
  },
  {
   "cell_type": "markdown",
   "metadata": {},
   "source": [
    "$$U_C=\\frac{Q}{C}.$$"
   ]
  },
  {
   "cell_type": "markdown",
   "metadata": {},
   "source": [
    "Nasze równanie $U_R + U_L + U_C = {\\mathcal {E}}(t)$ możemy zapisać zatem jako"
   ]
  },
  {
   "cell_type": "markdown",
   "metadata": {},
   "source": [
    "$$L\\frac{dI}{dt} + RI + \\frac{Q}{C} = {\\mathcal {E}}.$$"
   ]
  },
  {
   "cell_type": "markdown",
   "metadata": {},
   "source": [
    "Wiemy, że zależność natężenia to ładunku kondensatora zapisujemy $I=\\frac{dQ}{dt}$, stąd różniczkując obustronnie względem $t$ dostaniemy"
   ]
  },
  {
   "cell_type": "markdown",
   "metadata": {},
   "source": [
    "$$L\\frac{d^2}{dt^2}I(t)+R\\frac{d}{dt}I(t)+\\frac{1}{C}I(t)=\\frac{d}{dt}{\\mathcal {E}}(t).$$"
   ]
  },
  {
   "cell_type": "markdown",
   "metadata": {},
   "source": [
    "\n"
   ]
  },
  {
   "cell_type": "code",
   "execution_count": null,
   "metadata": {},
   "outputs": [],
   "source": []
  },
  {
   "cell_type": "code",
   "execution_count": null,
   "metadata": {},
   "outputs": [],
   "source": []
  },
  {
   "cell_type": "code",
   "execution_count": null,
   "metadata": {},
   "outputs": [],
   "source": []
  },
  {
   "cell_type": "code",
   "execution_count": null,
   "metadata": {},
   "outputs": [],
   "source": []
  },
  {
   "cell_type": "markdown",
   "metadata": {},
   "source": [
    "# Rozwiązanie analityczne równania"
   ]
  },
  {
   "cell_type": "markdown",
   "metadata": {},
   "source": [
    "Rozważymy przypadek, gdzie siła elektromotoryczna będzie prostą funkcją okresową, np. ${\\mathcal {E}}(t)=U_0 \\cos(\\omega t)$. Oznacza to, że mamy do czynienia z klasycznym przypadkiem prądu przemiennego. Zaniedbujemy na razie kwestię przesunięcia w fazie napięcia źródła, gdyż to nie jest tak istotne dla całości rozważania. Równanie ma wtedy postać\n",
    "\n",
    "$$L\\frac{d^2}{dt^2}I(t)+R\\frac{d}{dt}I(t)+\\frac{1}{C}I(t)=-U_0\\omega \\sin(\\omega t),$$\n",
    "\n",
    "gdyż ${\\mathcal {E}}'(t) = (U_0 \\cos(\\omega t))'=-U_0\\omega \\sin(\\omega t).$"
   ]
  },
  {
   "cell_type": "markdown",
   "metadata": {},
   "source": [
    "### Rozwiązania zanikające  [[2]](#bib2)"
   ]
  },
  {
   "cell_type": "markdown",
   "metadata": {},
   "source": [
    "Na początku znajdujemy rozwiązania układu jednorodnego\n",
    "$$L\\frac{d^2I}{dt^2}+R\\frac{dI}{dt}+\\frac{I}{C}=0.$$"
   ]
  },
  {
   "cell_type": "markdown",
   "metadata": {},
   "source": [
    "Nasz wielomian charakterystyczny będzie postaci\n",
    "$$L\\lambda^2+R\\lambda+\\frac{1}{C}=0.$$\n",
    "\n",
    "$$\\Delta = R^2 - \\frac{4L}{C};$$\n",
    "$$\\lambda_{1,2} = \\frac{-R\\pm \\sqrt{R^2 - \\frac{4L}{C}}}{2L}.$$\n",
    "\n",
    "Możemy użyć uproszczonych zmiennych $\\alpha = \\frac{R}{2L}$ oraz $\\omega_0 = \\frac{1}{\\sqrt{LC}}$. Wtedy \n",
    "\n",
    "$$\\lambda_{1,2} = -\\alpha \\pm \\sqrt{\\alpha^2-\\omega_0^2}.$$\n"
   ]
  },
  {
   "cell_type": "markdown",
   "metadata": {},
   "source": [
    "*  Gdy $\\Delta < 0 \\iff \\omega_0 > \\alpha$ (tłumienie słabe) rozwiązanie ogólne równania to\n",
    "\n",
    "$$I(t) = e^{-\\alpha t}(C_1 \\cos(\\sqrt{\\omega_0^2-\\alpha^2}\\,t)+C_2 \\sin(\\sqrt{\\omega_0^2-\\alpha^2}\\, t)).$$\n",
    "\n",
    "* Gdy $\\Delta = 0 \\iff \\omega_0 = \\alpha$ rozwiązanie ogólne ma postać\n",
    "\n",
    "$$I(t) = C_1 e^{-\\alpha t} + C_2 t e^{-\\alpha t}.$$\n",
    "\n",
    "\n",
    "* Gdy $\\Delta > 0 \\iff \\omega_0 < \\alpha$ (tłumienie silne) otrzymujemy rozwiązanie\n",
    "\n",
    "$$I(t) = C_1 e^{-\\alpha + \\sqrt{\\alpha^2-\\omega_0^2} t} + C_2 e^{-\\alpha - \\sqrt{\\alpha^2-\\omega_0^2} t}.$$\n"
   ]
  },
  {
   "cell_type": "markdown",
   "metadata": {},
   "source": [
    "### Rozwiązania \"stanu stabilnego\""
   ]
  },
  {
   "cell_type": "markdown",
   "metadata": {},
   "source": [
    "Następnie szukamy funkcji $\\varphi(t)$ - liniowo niezależnego rozwiązania układu niejednorodnego. Stosujemy metodę przewidywania.\n",
    "\n",
    "Niech \n",
    "\n",
    "$$\\varphi(t) = D_1 \\cos(\\omega t) + D_2 \\sin(\\omega t),$$\n",
    "\n",
    "$$\\varphi ' (t)=\\omega(-D_1 \\sin(\\omega t) + D_2\\cos(\\omega t)),$$\n",
    "\n",
    "$$\\varphi '' (t) = \\omega^2 (-D_1 \\cos(\\omega t)-D_2\\sin(\\omega t)).$$\n",
    "\n",
    "Po podstawieniu do bazowego równania otrzymujemy\n",
    "\n",
    "$$(-D_1 L \\omega^2 + D_2 R \\omega + \\frac{D_1}{C})\\cos(\\omega t ) + (-D_2 L \\omega^2 - D_1 R \\omega + \\frac{D_2}{C})\\sin(\\omega t) = - U_0\\omega \\sin(\\omega t),$$\n",
    "\n",
    "dlatego\n",
    "\n",
    "$$\n",
    "\\left\\{\n",
    "    \\begin{array}\\\\\n",
    "        -D_1 L \\omega^2 + D_2 R \\omega + \\frac{D_1}{C} = 0\\\\\n",
    "        -D_2 L \\omega^2 - D_1 R \\omega + \\frac{D_2}{C} = -U_0 \\omega\n",
    "    \\end{array}.\n",
    "\\right.\n",
    "$$\n",
    "Ostatecznie \n",
    "$$\n",
    "\\left\\{\n",
    "    \\begin{array}\\\\\n",
    "        D_1 = U_0\\omega\\frac{R\\omega}{R^2\\omega^2+(L\\omega^2-\\frac{1}{C})^2}\\\\\n",
    "        D_2 = U_0\\omega\\frac{L\\omega^2-\\frac{1}{C}}{R^2\\omega^2+(L\\omega^2-\\frac{1}{C})^2}\n",
    "    \\end{array}.\n",
    "\\right.\n",
    "$$\n",
    "\n",
    "Równie dobrze [[3]](#bib3) można jednak zastosować zapis\n",
    "\n",
    "$$\\varphi(t) = A \\cos(\\omega t - \\theta).$$\n",
    "\n",
    "Znajdujemy zatem amplitudę i przesunięcie fazowe, prosto wyprowadzając zależności $A = \\sqrt{D_1^2+D_2^2}$ i $\\theta = \\arctan{\\frac{D_2}{D_1}}$. Zakładamy przy okazji, że $\\omega>0$, bo zerowe nie da żadnych ciekawych efektów, a ujemne jest równoznaczne z przesunięciem w fazie źródła (kosinus akurat w ogóle się by nie zmienił). Łatwiej będzie zatem analizować zachowanie układu pisząc\n",
    "\n",
    "$$\\varphi(t) = \\frac{U_0}{\\sqrt{R^2+(L\\omega-\\frac{1}{C\\omega })^2}} \\cos(\\omega t - \\arctan{(\\frac{L\\omega}{R}-\\frac{1}{RC\\omega})}).$$\n",
    "\n",
    "W bardziej klasycznej formie można to przedstawić jako\n",
    "\n",
    "$$\\varphi(t) = \\frac{\\omega}{L}\\cdot\\frac{U_0}{\\sqrt{4\\alpha^2\\omega^2+(\\omega_0^2-\\omega^2 })^2} \\cos(\\omega t - \\arctan{(\\frac{2\\alpha\\omega}{\\omega_0^2-\\omega^2}}).$$"
   ]
  },
  {
   "cell_type": "markdown",
   "metadata": {},
   "source": [
    "### Ogólne rozwiązania"
   ]
  },
  {
   "cell_type": "markdown",
   "metadata": {},
   "source": [
    "I rozwiązania ogólne układów niejednorodnych to odpowiednio dla wskazanych przypadków [[2]](#bib2):\n",
    "\n",
    "* $I(t) = e^{-\\alpha t}(C_1 \\cos(\\sqrt{\\omega_0^2-\\alpha^2}\\,t)+C_2 \\sin(\\sqrt{\\omega_0^2-\\alpha^2}\\, t)) + \\frac{\\omega}{L}\\cdot\\frac{U_0}{\\sqrt{4\\alpha^2\\omega^2+(\\omega_0^2-\\omega^2 })^2} \\cos(\\omega t - \\arctan{(\\frac{2\\alpha\\omega}{\\omega_0^2-\\omega^2}}),$\n",
    "\n",
    "* $I(t) = C_1 e^{-\\alpha t} + C_2 t e^{-\\alpha t} + \\frac{\\omega}{L}\\cdot\\frac{U_0}{\\sqrt{4\\alpha^2\\omega^2+(\\omega_0^2-\\omega^2 })^2} \\cos(\\omega t - \\arctan{(\\frac{2\\alpha\\omega}{\\omega_0^2-\\omega^2}}),$\n",
    "\n",
    "* $I(t) = I(t) = C_1 e^{-\\alpha + \\sqrt{\\alpha^2-\\omega_0^2}\\,t} + C_2 e^{-\\alpha - \\sqrt{\\alpha^2-\\omega_0^2}\\,t} + \\frac{\\omega}{L}\\cdot\\frac{U_0}{\\sqrt{4\\alpha^2\\omega^2+(\\omega_0^2-\\omega^2 })^2} \\cos(\\omega t - \\arctan{(\\frac{2\\alpha\\omega}{\\omega_0^2-\\omega^2}}).$\n",
    "\n",
    "Stałe $C_1, C_2$ wyznaczamy na podstawie warunków początkowych $I(0), \\frac{dI}{dt}(0)$."
   ]
  },
  {
   "cell_type": "code",
   "execution_count": null,
   "metadata": {},
   "outputs": [],
   "source": [
    "\n",
    "\n"
   ]
  },
  {
   "cell_type": "code",
   "execution_count": null,
   "metadata": {},
   "outputs": [],
   "source": []
  },
  {
   "cell_type": "markdown",
   "metadata": {},
   "source": [
    "# Częstotliwość rezonansowa"
   ]
  },
  {
   "cell_type": "markdown",
   "metadata": {},
   "source": [
    "Jeżeli przyjrzymy się rozwiązaniom, wyraźnie widać, że ich pierwsze człony zawsze wygasają (choć dla małego parametru $\\alpha$ w pierwszym przypadku, nie następuje to szybko). Można natomiast zauważyć, że od charakterystyki elementów składowych **RLC** oraz **źródła prądu** zależy amplituda ostatniego członu. Możemy postarać się znaleźć częstotliwość źródła prądu przemiennego, dla którego następuje rezonans - amplituda jest maksymalna."
   ]
  },
  {
   "cell_type": "markdown",
   "metadata": {},
   "source": [
    "Zapiszmy jeszcze raz\n",
    "\n",
    "$$A = \\frac{U_0}{\\sqrt{R^2+(L\\omega-\\frac{1}{C\\omega })^2}}.$$\n",
    "\n",
    "Chcemy znaleźć ekstremum, więc policzymy pochodną i przyrównamy ją do zera. Powyżej użyta jest pierwsza z podanych postaci funkcji, gdyż dla niej łatwiej jest liczyć pochodną.\n",
    "\n",
    "$$\\frac{dA}{d\\omega} = \\frac{U_0 L^2(\\frac{1}{(CL)^2 \\omega^3}-\\omega) }{(\\sqrt{R^2+(L\\omega-\\frac{1}{C\\omega })^2})^3}=0 \\iff \\omega=\\frac{1}{\\sqrt{LC}}=\\omega_0$$\n",
    "\n",
    "\n",
    "Otrzymujemy zatem potencjalne ekstremum w punkcie\n",
    "\n",
    "$$\\omega_r =\\frac{1}{\\sqrt{LC}}.$$\n",
    "\n",
    "Badając punkty wokół tego $\\omega_r$ okazuje się, że to istotnie maksimum [[4]](#bib4).\n"
   ]
  },
  {
   "cell_type": "markdown",
   "metadata": {},
   "source": [
    "Szukana częstotliwość rezonansowa źródła to zatem ostatecznie\n",
    "\n",
    "$$f_r =\\frac{1}{2\\pi\\sqrt{LC}}.$$\n"
   ]
  },
  {
   "cell_type": "markdown",
   "metadata": {},
   "source": [
    "### Wizualizacja zjawiska"
   ]
  },
  {
   "cell_type": "markdown",
   "metadata": {},
   "source": [
    "Poniżej możemy zobaczyć jak w zależności od częstotliwości źródła wygląda opisana amplituda. Przyjmujemy jakieś parametry układu i rzeczwiście widzimy w wyznaczonym punkcie wyraźny rezonans."
   ]
  },
  {
   "cell_type": "code",
   "execution_count": 99,
   "metadata": {},
   "outputs": [],
   "source": [
    "def resonance_plot(R, L, C, U0, title):\n",
    "    rng_bounds = 0.01, 1 / np.sqrt(L1 * C1) * 4\n",
    "\n",
    "    omega_rng = np.arange(*rng_bounds, 0.5)\n",
    "\n",
    "    def amplitude_res(omega, R, L, C, U0):\n",
    "        amplitude = U0 / np.sqrt(R ** 2 + (L * omega - 1 / (C * omega)) ** 2)\n",
    "        return amplitude\n",
    "\n",
    "    def res_freq_an(R, L, C, U0):\n",
    "        freq = 1 / (2 * np.pi * np.sqrt(L * C))\n",
    "        return freq\n",
    "\n",
    "    plt.figure()\n",
    "    plt.subplot()\n",
    "    plt.plot(omega_rng / 2 / np.pi, amplitude_res(omega_rng, R, L, C, U0), color='C0', label=\"Natężenie\")\n",
    "    plt.axvline(x=res_freq_an(R, L, C, U0), color='C1', label=\"Wyznaczona częstotliwość $f_r$\")\n",
    "    plt.xlabel('Częstotliwość źródła [Hz]')\n",
    "    plt.ylabel('Amplituda niegasnącego rozwiązania [A]')\n",
    "    plt.title(title)\n",
    "    plt.grid()\n",
    "    plt.legend()\n",
    "    plt.show()"
   ]
  },
  {
   "cell_type": "code",
   "execution_count": 100,
   "metadata": {},
   "outputs": [
    {
     "data": {
      "image/png": "[encoded data removed]",
      "text/plain": [
       "<Figure size 432x288 with 1 Axes>"
      ]
     },
     "metadata": {
      "needs_background": "light"
     },
     "output_type": "display_data"
    }
   ],
   "source": [
    "R1, L1, C1, U01 = 20, 1, 0.001, 30\n",
    "resonance_plot(R1, L1, C1, U01, 'Ustalone drgania układu RLC z kosinusoidalnym źródłem')"
   ]
  },
  {
   "cell_type": "markdown",
   "metadata": {},
   "source": [
    "<center> Wykres 1."
   ]
  },
  {
   "cell_type": "markdown",
   "metadata": {},
   "source": [
    "Można patrzeć na ten wykres jako na opis drgań już po upływie pewnego czasu - kiedy rozwiązania układu jednorodnego wygasną."
   ]
  },
  {
   "cell_type": "markdown",
   "metadata": {},
   "source": [
    "Gdy spróbujemy manipulować danymi, kształty wykresu ulegną zmianie, ale zawsze wyznaczony punkt będzie punktem rezonansu."
   ]
  },
  {
   "cell_type": "code",
   "execution_count": 102,
   "metadata": {},
   "outputs": [
    {
     "data": {
      "image/png": "[encoded data removed]",
      "text/plain": [
       "<Figure size 432x288 with 1 Axes>"
      ]
     },
     "metadata": {
      "needs_background": "light"
     },
     "output_type": "display_data"
    }
   ],
   "source": [
    "R2, L2, C2, U02 = 100, 1, 0.01, 30\n",
    "resonance_plot(R2, L2, C2, U02, 'Ustalone drgania układu RLC z kosinusoidalnym źródłem - przypadek 2.')"
   ]
  },
  {
   "cell_type": "markdown",
   "metadata": {},
   "source": [
    "<center> Wykres 2."
   ]
  },
  {
   "cell_type": "code",
   "execution_count": null,
   "metadata": {},
   "outputs": [],
   "source": []
  },
  {
   "cell_type": "code",
   "execution_count": null,
   "metadata": {},
   "outputs": [],
   "source": []
  },
  {
   "cell_type": "markdown",
   "metadata": {},
   "source": [
    "# Metody numeryczne"
   ]
  },
  {
   "cell_type": "code",
   "execution_count": 3,
   "metadata": {},
   "outputs": [],
   "source": [
    "def preparation(R, L, C, U0, omega, phase):\n",
    "    def form(t, i, i_prim):\n",
    "        return -(U0 * omega * np.sin(omega * t + phase) + R * i_prim + i / C) / L\n",
    "\n",
    "    return form"
   ]
  },
  {
   "cell_type": "markdown",
   "metadata": {},
   "source": [
    "Metoda eulera:"
   ]
  },
  {
   "cell_type": "code",
   "execution_count": 99,
   "metadata": {},
   "outputs": [],
   "source": [
    "def euler_second(t0, tn, dt, init_condit, form):\n",
    "    grid_t = np.arange(t0, tn, dt)\n",
    "    grid_i = grid_t.copy()\n",
    "    grid_i.fill(0)\n",
    "    grid_i_prim = grid_t.copy()\n",
    "    grid_i_prim.fill(0)\n",
    "\n",
    "    grid_i[0] = init_condit[0]\n",
    "    grid_i_prim[0] = init_condit[1]\n",
    "\n",
    "    for ind, t in enumerate(grid_t[1:]):\n",
    "        ind += 1\n",
    "        prev_i = grid_i[ind - 1]\n",
    "        prev_i_prim = grid_i_prim[ind - 1]\n",
    "        grid_i_prim[ind] = prev_i_prim + dt * form(t, prev_i, prev_i_prim)\n",
    "        grid_i[ind] = prev_i + dt * prev_i_prim\n",
    "\n",
    "    return grid_t, grid_i"
   ]
  },
  {
   "cell_type": "code",
   "execution_count": 101,
   "metadata": {},
   "outputs": [],
   "source": [
    "def midpoint_second(t0, tn, dt, init_condit, form):\n",
    "    grid_t = np.arange(t0, tn, dt)\n",
    "    grid_i = grid_t.copy()\n",
    "    grid_i.fill(0)\n",
    "    grid_i_prim = grid_t.copy()\n",
    "    grid_i_prim.fill(0)\n",
    "\n",
    "    grid_i[0] = init_condit[0]\n",
    "    grid_i_prim[0] = init_condit[1]\n",
    "    \n",
    "    for ind, t in enumerate(grid_t[1:]):\n",
    "        ind += 1\n",
    "        prev_i = grid_i[ind - 1]\n",
    "        prev_i_prim = grid_i_prim[ind - 1]\n",
    "        \n",
    "        grid_i_prim[ind] = prev_i_prim + dt * form(\n",
    "            t + dt / 2,\n",
    "            prev_i + dt * prev_i_prim / 2,\n",
    "            prev_i_prim + dt * form(t, prev_i, prev_i_prim) / 2,\n",
    "        )\n",
    "        \n",
    "        grid_i[ind] = prev_i + dt * (prev_i_prim + grid_i_prim[ind]) / 2\n",
    "    \n",
    "    return grid_t, grid_i"
   ]
  },
  {
   "cell_type": "code",
   "execution_count": 128,
   "metadata": {},
   "outputs": [],
   "source": [
    "adam = euler_second(\n",
    "    0, 1, 0.001, (1, 0.2), preparation(10, 1, 0.0001, 30, 70, -np.pi / 2)\n",
    ")\n",
    "ewa = midpoint_second(\n",
    "    0, 1, 0.001, (1, 0.2), preparation(10, 1, 0.0001, 30, 70, -np.pi / 2)\n",
    ")\n",
    "mateo = euler_second(\n",
    "    0, 1, 0.0001, (0, 0), preparation(10, 1, 0.0001, 30, 70, -np.pi / 2)\n",
    ")"
   ]
  },
  {
   "cell_type": "code",
   "execution_count": 129,
   "metadata": {},
   "outputs": [
    {
     "data": {
      "image/png": "[encoded data removed]",
      "text/plain": [
       "<Figure size 432x288 with 1 Axes>"
      ]
     },
     "metadata": {
      "needs_background": "light"
     },
     "output_type": "display_data"
    }
   ],
   "source": [
    "# plt.plot(*adam)\n",
    "\n",
    "# plt.plot(*ewa)\n",
    "plt.plot(*mateo)\n",
    "plt.show()"
   ]
  },
  {
   "cell_type": "code",
   "execution_count": 55,
   "metadata": {},
   "outputs": [],
   "source": [
    "def cum_diff(arr1, arr2):\n",
    "    diffs = arr1 - arr2[::10]\n",
    "    abs_diffs = np.abs(diffs)\n",
    "    return np.cumsum(abs_diffs)"
   ]
  },
  {
   "cell_type": "code",
   "execution_count": 42,
   "metadata": {},
   "outputs": [
    {
     "data": {
      "text/plain": [
       "[<matplotlib.lines.Line2D at 0x19387bd3340>]"
      ]
     },
     "execution_count": 42,
     "metadata": {},
     "output_type": "execute_result"
    },
    {
     "data": {
      "image/png": "[encoded data removed]",
      "text/plain": [
       "<Figure size 432x288 with 1 Axes>"
      ]
     },
     "metadata": {
      "needs_background": "light"
     },
     "output_type": "display_data"
    }
   ],
   "source": [
    "plt.plot(adam[0], cum_diff(adam[1], mateo[1]))\n",
    "plt.plot(adam[0], cum_diff(ewa[1], mateo[1]))"
   ]
  },
  {
   "cell_type": "markdown",
   "metadata": {},
   "source": [
    "# Bibliografia"
   ]
  },
  {
   "cell_type": "markdown",
   "metadata": {},
   "source": [
    "<a id=\"bib1\">[1]</a> M. Gewert; Z. Skoczylas, *Równania różniczkowe liniowe drugiego rzędu*, [w:] *Równania różniczkowe zwyczajne*, Wrocław 2016, s. 92-94.\n",
    "\n",
    "<a id=\"bib2\">[2]</a> Ł. Płociniczak, *Ordinary differential equations in science and technology*, 2020, s. 50-57; 62.\n",
    "\n",
    "<a id=\"bib3\">[3]</a> Tamże, s. 63.\n",
    "\n",
    "<a id=\"bib4\">[4]</a> M. Szulim, *Rezonans w obwodach elektrycznych*, *Wykład: Obwody i sygnały 1*. [dostęp: 01.01.2022]. Dostęp w Internecie: https://zoise.wel.wat.edu.pl/dydaktyka/WEL%20niestacjonarne/Wyklady/07_Rezonans_obwod_elektryczny.pdf.\n",
    "\n",
    "...71-73; 85-105.\n"
   ]
  },
  {
   "cell_type": "markdown",
   "metadata": {},
   "source": [
    "Schematy układów zostały wygenerowane z pomocą strony Circuit Diagram. [dostęp: 01.01.2022]. Dostęp w Internecie: https://www.circuit-diagram.org/editor/."
   ]
  },
  {
   "cell_type": "code",
   "execution_count": null,
   "metadata": {},
   "outputs": [],
   "source": []
  }
 ],
 "metadata": {
  "kernelspec": {
   "display_name": "Python 3",
   "language": "python",
   "name": "python3"
  },
  "language_info": {
   "codemirror_mode": {
    "name": "ipython",
    "version": 3
   },
   "file_extension": ".py",
   "mimetype": "text/x-python",
   "name": "python",
   "nbconvert_exporter": "python",
   "pygments_lexer": "ipython3",
   "version": "3.8.5"
  }
 },
 "nbformat": 4,
 "nbformat_minor": 5
}
