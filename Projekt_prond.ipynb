{
 "cells": [
  {
   "cell_type": "markdown",
   "id": "technical-friday",
   "metadata": {},
   "source": [
    "**Równania Różniczkowe w Technice** - W13, PWr\n",
    "\n",
    "Projekt - semestr zimowy 2021/22\n",
    "\n",
    "**Temat:** *Charakterystyka przepływu prądu w układach RLC*.\n",
    "\n",
    "**Autorzy:**\n",
    "\n",
    "* Adam Kawałko, 262329\n",
    "* Mateusz Machaj, 262288"
   ]
  },
  {
   "cell_type": "markdown",
   "id": "religious-history",
   "metadata": {},
   "source": [
    "# Opis"
   ]
  },
  {
   "cell_type": "markdown",
   "id": "finite-damage",
   "metadata": {},
   "source": [
    "W naszej pracy przedstawimy działanie obwodu RLC, rozwiążemy równanie różniczkowe na kilka sposobów.\n",
    "Będziemy korzystać z praw Kirchhoffa, prawa Ohma oraz prawa Faradaya. Postaramy się także zaprezentować eksperyment.\n",
    "Uzyskane wyniki przedstawimy na wykresach oraz w podsumowaniu."
   ]
  },
  {
   "cell_type": "code",
   "execution_count": 1,
   "id": "sacred-nelson",
   "metadata": {
    "collapsed": true,
    "jupyter": {
     "outputs_hidden": true
    },
    "tags": []
   },
   "outputs": [
    {
     "ename": "ModuleNotFoundError",
     "evalue": "No module named 'nb_black'",
     "output_type": "error",
     "traceback": [
      "\u001b[1;31m---------------------------------------------------------------------------\u001b[0m",
      "\u001b[1;31mModuleNotFoundError\u001b[0m                       Traceback (most recent call last)",
      "\u001b[1;32m<ipython-input-1-50ec12b286b4>\u001b[0m in \u001b[0;36m<module>\u001b[1;34m\u001b[0m\n\u001b[1;32m----> 1\u001b[1;33m \u001b[0mget_ipython\u001b[0m\u001b[1;33m(\u001b[0m\u001b[1;33m)\u001b[0m\u001b[1;33m.\u001b[0m\u001b[0mrun_line_magic\u001b[0m\u001b[1;33m(\u001b[0m\u001b[1;34m'load_ext'\u001b[0m\u001b[1;33m,\u001b[0m \u001b[1;34m'nb_black'\u001b[0m\u001b[1;33m)\u001b[0m\u001b[1;33m\u001b[0m\u001b[1;33m\u001b[0m\u001b[0m\n\u001b[0m",
      "\u001b[1;32mc:\\users\\adam\\appdata\\local\\programs\\python\\python38-32\\lib\\site-packages\\IPython\\core\\interactiveshell.py\u001b[0m in \u001b[0;36mrun_line_magic\u001b[1;34m(self, magic_name, line, _stack_depth)\u001b[0m\n\u001b[0;32m   2334\u001b[0m                 \u001b[0mkwargs\u001b[0m\u001b[1;33m[\u001b[0m\u001b[1;34m'local_ns'\u001b[0m\u001b[1;33m]\u001b[0m \u001b[1;33m=\u001b[0m \u001b[0mself\u001b[0m\u001b[1;33m.\u001b[0m\u001b[0mget_local_scope\u001b[0m\u001b[1;33m(\u001b[0m\u001b[0mstack_depth\u001b[0m\u001b[1;33m)\u001b[0m\u001b[1;33m\u001b[0m\u001b[1;33m\u001b[0m\u001b[0m\n\u001b[0;32m   2335\u001b[0m             \u001b[1;32mwith\u001b[0m \u001b[0mself\u001b[0m\u001b[1;33m.\u001b[0m\u001b[0mbuiltin_trap\u001b[0m\u001b[1;33m:\u001b[0m\u001b[1;33m\u001b[0m\u001b[1;33m\u001b[0m\u001b[0m\n\u001b[1;32m-> 2336\u001b[1;33m                 \u001b[0mresult\u001b[0m \u001b[1;33m=\u001b[0m \u001b[0mfn\u001b[0m\u001b[1;33m(\u001b[0m\u001b[1;33m*\u001b[0m\u001b[0margs\u001b[0m\u001b[1;33m,\u001b[0m \u001b[1;33m**\u001b[0m\u001b[0mkwargs\u001b[0m\u001b[1;33m)\u001b[0m\u001b[1;33m\u001b[0m\u001b[1;33m\u001b[0m\u001b[0m\n\u001b[0m\u001b[0;32m   2337\u001b[0m             \u001b[1;32mreturn\u001b[0m \u001b[0mresult\u001b[0m\u001b[1;33m\u001b[0m\u001b[1;33m\u001b[0m\u001b[0m\n\u001b[0;32m   2338\u001b[0m \u001b[1;33m\u001b[0m\u001b[0m\n",
      "\u001b[1;32m<decorator-gen-58>\u001b[0m in \u001b[0;36mload_ext\u001b[1;34m(self, module_str)\u001b[0m\n",
      "\u001b[1;32mc:\\users\\adam\\appdata\\local\\programs\\python\\python38-32\\lib\\site-packages\\IPython\\core\\magic.py\u001b[0m in \u001b[0;36m<lambda>\u001b[1;34m(f, *a, **k)\u001b[0m\n\u001b[0;32m    185\u001b[0m     \u001b[1;31m# but it's overkill for just that one bit of state.\u001b[0m\u001b[1;33m\u001b[0m\u001b[1;33m\u001b[0m\u001b[1;33m\u001b[0m\u001b[0m\n\u001b[0;32m    186\u001b[0m     \u001b[1;32mdef\u001b[0m \u001b[0mmagic_deco\u001b[0m\u001b[1;33m(\u001b[0m\u001b[0marg\u001b[0m\u001b[1;33m)\u001b[0m\u001b[1;33m:\u001b[0m\u001b[1;33m\u001b[0m\u001b[1;33m\u001b[0m\u001b[0m\n\u001b[1;32m--> 187\u001b[1;33m         \u001b[0mcall\u001b[0m \u001b[1;33m=\u001b[0m \u001b[1;32mlambda\u001b[0m \u001b[0mf\u001b[0m\u001b[1;33m,\u001b[0m \u001b[1;33m*\u001b[0m\u001b[0ma\u001b[0m\u001b[1;33m,\u001b[0m \u001b[1;33m**\u001b[0m\u001b[0mk\u001b[0m\u001b[1;33m:\u001b[0m \u001b[0mf\u001b[0m\u001b[1;33m(\u001b[0m\u001b[1;33m*\u001b[0m\u001b[0ma\u001b[0m\u001b[1;33m,\u001b[0m \u001b[1;33m**\u001b[0m\u001b[0mk\u001b[0m\u001b[1;33m)\u001b[0m\u001b[1;33m\u001b[0m\u001b[1;33m\u001b[0m\u001b[0m\n\u001b[0m\u001b[0;32m    188\u001b[0m \u001b[1;33m\u001b[0m\u001b[0m\n\u001b[0;32m    189\u001b[0m         \u001b[1;32mif\u001b[0m \u001b[0mcallable\u001b[0m\u001b[1;33m(\u001b[0m\u001b[0marg\u001b[0m\u001b[1;33m)\u001b[0m\u001b[1;33m:\u001b[0m\u001b[1;33m\u001b[0m\u001b[1;33m\u001b[0m\u001b[0m\n",
      "\u001b[1;32mc:\\users\\adam\\appdata\\local\\programs\\python\\python38-32\\lib\\site-packages\\IPython\\core\\magics\\extension.py\u001b[0m in \u001b[0;36mload_ext\u001b[1;34m(self, module_str)\u001b[0m\n\u001b[0;32m     31\u001b[0m         \u001b[1;32mif\u001b[0m \u001b[1;32mnot\u001b[0m \u001b[0mmodule_str\u001b[0m\u001b[1;33m:\u001b[0m\u001b[1;33m\u001b[0m\u001b[1;33m\u001b[0m\u001b[0m\n\u001b[0;32m     32\u001b[0m             \u001b[1;32mraise\u001b[0m \u001b[0mUsageError\u001b[0m\u001b[1;33m(\u001b[0m\u001b[1;34m'Missing module name.'\u001b[0m\u001b[1;33m)\u001b[0m\u001b[1;33m\u001b[0m\u001b[1;33m\u001b[0m\u001b[0m\n\u001b[1;32m---> 33\u001b[1;33m         \u001b[0mres\u001b[0m \u001b[1;33m=\u001b[0m \u001b[0mself\u001b[0m\u001b[1;33m.\u001b[0m\u001b[0mshell\u001b[0m\u001b[1;33m.\u001b[0m\u001b[0mextension_manager\u001b[0m\u001b[1;33m.\u001b[0m\u001b[0mload_extension\u001b[0m\u001b[1;33m(\u001b[0m\u001b[0mmodule_str\u001b[0m\u001b[1;33m)\u001b[0m\u001b[1;33m\u001b[0m\u001b[1;33m\u001b[0m\u001b[0m\n\u001b[0m\u001b[0;32m     34\u001b[0m \u001b[1;33m\u001b[0m\u001b[0m\n\u001b[0;32m     35\u001b[0m         \u001b[1;32mif\u001b[0m \u001b[0mres\u001b[0m \u001b[1;33m==\u001b[0m \u001b[1;34m'already loaded'\u001b[0m\u001b[1;33m:\u001b[0m\u001b[1;33m\u001b[0m\u001b[1;33m\u001b[0m\u001b[0m\n",
      "\u001b[1;32mc:\\users\\adam\\appdata\\local\\programs\\python\\python38-32\\lib\\site-packages\\IPython\\core\\extensions.py\u001b[0m in \u001b[0;36mload_extension\u001b[1;34m(self, module_str)\u001b[0m\n\u001b[0;32m     78\u001b[0m             \u001b[1;32mif\u001b[0m \u001b[0mmodule_str\u001b[0m \u001b[1;32mnot\u001b[0m \u001b[1;32min\u001b[0m \u001b[0msys\u001b[0m\u001b[1;33m.\u001b[0m\u001b[0mmodules\u001b[0m\u001b[1;33m:\u001b[0m\u001b[1;33m\u001b[0m\u001b[1;33m\u001b[0m\u001b[0m\n\u001b[0;32m     79\u001b[0m                 \u001b[1;32mwith\u001b[0m \u001b[0mprepended_to_syspath\u001b[0m\u001b[1;33m(\u001b[0m\u001b[0mself\u001b[0m\u001b[1;33m.\u001b[0m\u001b[0mipython_extension_dir\u001b[0m\u001b[1;33m)\u001b[0m\u001b[1;33m:\u001b[0m\u001b[1;33m\u001b[0m\u001b[1;33m\u001b[0m\u001b[0m\n\u001b[1;32m---> 80\u001b[1;33m                     \u001b[0mmod\u001b[0m \u001b[1;33m=\u001b[0m \u001b[0mimport_module\u001b[0m\u001b[1;33m(\u001b[0m\u001b[0mmodule_str\u001b[0m\u001b[1;33m)\u001b[0m\u001b[1;33m\u001b[0m\u001b[1;33m\u001b[0m\u001b[0m\n\u001b[0m\u001b[0;32m     81\u001b[0m                     \u001b[1;32mif\u001b[0m \u001b[0mmod\u001b[0m\u001b[1;33m.\u001b[0m\u001b[0m__file__\u001b[0m\u001b[1;33m.\u001b[0m\u001b[0mstartswith\u001b[0m\u001b[1;33m(\u001b[0m\u001b[0mself\u001b[0m\u001b[1;33m.\u001b[0m\u001b[0mipython_extension_dir\u001b[0m\u001b[1;33m)\u001b[0m\u001b[1;33m:\u001b[0m\u001b[1;33m\u001b[0m\u001b[1;33m\u001b[0m\u001b[0m\n\u001b[0;32m     82\u001b[0m                         print((\"Loading extensions from {dir} is deprecated. \"\n",
      "\u001b[1;32mc:\\users\\adam\\appdata\\local\\programs\\python\\python38-32\\lib\\importlib\\__init__.py\u001b[0m in \u001b[0;36mimport_module\u001b[1;34m(name, package)\u001b[0m\n\u001b[0;32m    125\u001b[0m                 \u001b[1;32mbreak\u001b[0m\u001b[1;33m\u001b[0m\u001b[1;33m\u001b[0m\u001b[0m\n\u001b[0;32m    126\u001b[0m             \u001b[0mlevel\u001b[0m \u001b[1;33m+=\u001b[0m \u001b[1;36m1\u001b[0m\u001b[1;33m\u001b[0m\u001b[1;33m\u001b[0m\u001b[0m\n\u001b[1;32m--> 127\u001b[1;33m     \u001b[1;32mreturn\u001b[0m \u001b[0m_bootstrap\u001b[0m\u001b[1;33m.\u001b[0m\u001b[0m_gcd_import\u001b[0m\u001b[1;33m(\u001b[0m\u001b[0mname\u001b[0m\u001b[1;33m[\u001b[0m\u001b[0mlevel\u001b[0m\u001b[1;33m:\u001b[0m\u001b[1;33m]\u001b[0m\u001b[1;33m,\u001b[0m \u001b[0mpackage\u001b[0m\u001b[1;33m,\u001b[0m \u001b[0mlevel\u001b[0m\u001b[1;33m)\u001b[0m\u001b[1;33m\u001b[0m\u001b[1;33m\u001b[0m\u001b[0m\n\u001b[0m\u001b[0;32m    128\u001b[0m \u001b[1;33m\u001b[0m\u001b[0m\n\u001b[0;32m    129\u001b[0m \u001b[1;33m\u001b[0m\u001b[0m\n",
      "\u001b[1;32mc:\\users\\adam\\appdata\\local\\programs\\python\\python38-32\\lib\\importlib\\_bootstrap.py\u001b[0m in \u001b[0;36m_gcd_import\u001b[1;34m(name, package, level)\u001b[0m\n",
      "\u001b[1;32mc:\\users\\adam\\appdata\\local\\programs\\python\\python38-32\\lib\\importlib\\_bootstrap.py\u001b[0m in \u001b[0;36m_find_and_load\u001b[1;34m(name, import_)\u001b[0m\n",
      "\u001b[1;32mc:\\users\\adam\\appdata\\local\\programs\\python\\python38-32\\lib\\importlib\\_bootstrap.py\u001b[0m in \u001b[0;36m_find_and_load_unlocked\u001b[1;34m(name, import_)\u001b[0m\n",
      "\u001b[1;31mModuleNotFoundError\u001b[0m: No module named 'nb_black'"
     ]
    }
   ],
   "source": [
    "%load_ext nb_black"
   ]
  },
  {
   "cell_type": "markdown",
   "id": "applicable-membrane",
   "metadata": {},
   "source": [
    "Import bibliotek *Python*:"
   ]
  },
  {
   "cell_type": "code",
   "execution_count": 2,
   "id": "abandoned-domestic",
   "metadata": {},
   "outputs": [],
   "source": [
    "import numpy as np\n",
    "import matplotlib.pyplot as plt\n",
    "from IPython.core.display import HTML"
   ]
  },
  {
   "cell_type": "markdown",
   "id": "ecological-accessory",
   "metadata": {},
   "source": [
    "Format wyświetlanych grafik:"
   ]
  },
  {
   "cell_type": "code",
   "execution_count": 3,
   "id": "drawn-spank",
   "metadata": {},
   "outputs": [
    {
     "data": {
      "text/html": [
       "\n",
       "<style>\n",
       ".output_png {\n",
       "    display: table-cell;\n",
       "    text-align: center;\n",
       "    vertical-align: middle;\n",
       "}\n",
       "</style>\n"
      ],
      "text/plain": [
       "<IPython.core.display.HTML object>"
      ]
     },
     "execution_count": 3,
     "metadata": {},
     "output_type": "execute_result"
    }
   ],
   "source": [
    "HTML(\"\"\"\n",
    "<style>\n",
    ".output_png {\n",
    "    display: table-cell;\n",
    "    text-align: center;\n",
    "    vertical-align: middle;\n",
    "}\n",
    "</style>\n",
    "\"\"\")"
   ]
  },
  {
   "cell_type": "markdown",
   "id": "criminal-belize",
   "metadata": {},
   "source": [
    "# Obwód RLC"
   ]
  },
  {
   "cell_type": "markdown",
   "id": "streaming-platinum",
   "metadata": {},
   "source": [
    "Co to jest **RLC**? \n",
    "**RLC** to skrót dla obwodów elektrycznych, w których skład wchodzą tylko trzy elementy pasywne: \n",
    "- rezystor (**R**),\n",
    "- cewka (**L**),\n",
    "- kondensator (**C**)."
   ]
  },
  {
   "cell_type": "markdown",
   "id": "confidential-sussex",
   "metadata": {},
   "source": [
    "Elementy **RLC** mogą być połączone na różne sposoby, mogą też występować obwody bez cewki **L** lub bez kondensatora **C**. Nas jednak będą interesowały najciekawsze układy - z wszystkimi trzema rodzajami elementów."
   ]
  },
  {
   "cell_type": "markdown",
   "id": "fewer-winter",
   "metadata": {},
   "source": [
    "Pochylimy się głównie nad ich podłączeniem szeregowym w jednym oczku, ale warto zwrócić uwagę, że konfiguracji może być wiele - na przykład równoległe podłączenia oraz układy złożone z wielu oczek. Do badania charakterystyki użyjemy też innych elementów, takich jak przełącznik czy bezpiecznik."
   ]
  },
  {
   "cell_type": "markdown",
   "id": "indian-database",
   "metadata": {},
   "source": [
    "![Rysunek 1. Szeregowy układ RLC](images/rlc_1.png) <center> Rysunek 1. Szeregowy układ RLC"
   ]
  },
  {
   "cell_type": "markdown",
   "id": "suspected-footwear",
   "metadata": {},
   "source": [
    "<font color='red'>**??????????????????**</font> "
   ]
  },
  {
   "cell_type": "markdown",
   "id": "intelligent-chuck",
   "metadata": {},
   "source": [
    "# Prawo Ohma"
   ]
  },
  {
   "cell_type": "markdown",
   "id": "stuck-agreement",
   "metadata": {},
   "source": [
    "Z **prawa Ohma** wiemy, że natężenie $I$ jest wprost proporcjonalne do napięcia $U$:"
   ]
  },
  {
   "cell_type": "markdown",
   "id": "naughty-ability",
   "metadata": {},
   "source": [
    "$$U = IR.$$"
   ]
  },
  {
   "cell_type": "markdown",
   "id": "noted-proxy",
   "metadata": {},
   "source": [
    "Możemy również przejść do równania różniczkowego. Będziemy mieli do czynienia z przewodnikiem o długości $dl$ oraz powierzchni przekroju $dS$"
   ]
  },
  {
   "cell_type": "markdown",
   "id": "aggressive-target",
   "metadata": {},
   "source": [
    "$$dI = \\frac{1}{R}dU$$"
   ]
  },
  {
   "cell_type": "markdown",
   "id": "bronze-thought",
   "metadata": {},
   "source": [
    "Teraz możemy wyrazić natężenie prądu używając jego gęstości $\\vec{j}$"
   ]
  },
  {
   "cell_type": "markdown",
   "id": "rising-release",
   "metadata": {},
   "source": [
    "$$dI = \\vec{j}d\\vec{S}$$"
   ]
  },
  {
   "cell_type": "markdown",
   "id": "blind-merit",
   "metadata": {},
   "source": [
    "Natomiast napięcie wyrazimy przy pomocy natężenie pola elektrycznego $\\vec{E}$"
   ]
  },
  {
   "cell_type": "markdown",
   "id": "cosmetic-connection",
   "metadata": {},
   "source": [
    "$$dU = \\vec{E}d\\vec{l}$$"
   ]
  },
  {
   "cell_type": "markdown",
   "id": "opening-fancy",
   "metadata": {},
   "source": [
    "Stąd:"
   ]
  },
  {
   "cell_type": "markdown",
   "id": "liberal-serve",
   "metadata": {},
   "source": [
    "$$\\vec{j}d\\vec{S} = \\frac{1}{R}\\vec{E}d\\vec{l}$$"
   ]
  },
  {
   "cell_type": "markdown",
   "id": "dressed-margin",
   "metadata": {},
   "source": [
    "Jeśli wybierzemy przekrój $dS$ prostopadle do kierunku płynącego prądu i podstawimy jako $\\frac{1}{R}$"
   ]
  },
  {
   "cell_type": "markdown",
   "id": "broke-annual",
   "metadata": {},
   "source": [
    "$$\\frac{1}{R} = σ\\frac{dS}{dl}$$"
   ]
  },
  {
   "cell_type": "markdown",
   "id": "contrary-procedure",
   "metadata": {},
   "source": [
    "dostaniemy"
   ]
  },
  {
   "cell_type": "markdown",
   "id": "imposed-cuisine",
   "metadata": {},
   "source": [
    "$$\\vec{j}=σ\\vec{E}$$"
   ]
  },
  {
   "cell_type": "markdown",
   "id": "gentle-textbook",
   "metadata": {},
   "source": [
    "Widzimy tutaj, że gęstość prądu jest powiązana z natężeniem pola elektrycznego w przewodniku."
   ]
  },
  {
   "cell_type": "markdown",
   "id": "raised-blocking",
   "metadata": {},
   "source": [
    "<font color='red'>**??????????????????**</font> "
   ]
  },
  {
   "cell_type": "markdown",
   "id": "improving-fashion",
   "metadata": {},
   "source": [
    "# Równanie główne \n",
    "[[1]](#bib1)"
   ]
  },
  {
   "cell_type": "markdown",
   "id": "endless-trance",
   "metadata": {},
   "source": [
    "Rozpatrzmy układ szeregowy z jednym oczkiem, źródłem prądu i trzema elementami pasywnymi: opornikiem, cewką oraz kondensatorem. \n",
    "\n",
    "Korzystając z **drugiego prawa Kirchhoffa**, dzięki któremu wiemy, że całkowity spadek napięcia w obwodzie zamkniętym równy jest przyłożonej sile elektromotorycznej, możemy napisać:"
   ]
  },
  {
   "cell_type": "markdown",
   "id": "dynamic-patient",
   "metadata": {},
   "source": [
    "$$U_R + U_L + U_C = {\\mathcal {E}}(t).$$"
   ]
  },
  {
   "cell_type": "markdown",
   "id": "adjusted-aging",
   "metadata": {},
   "source": [
    "Spadek napięcia $U_R$ na oporniku to według **prawa Ohma** iloczyn natężenia prądu $I$ oraz oporu $R$, stąd \n"
   ]
  },
  {
   "cell_type": "markdown",
   "id": "informed-insider",
   "metadata": {},
   "source": [
    "$$U_R = RI.$$"
   ]
  },
  {
   "cell_type": "markdown",
   "id": "freelance-making",
   "metadata": {},
   "source": [
    "Według **prawa Faradaya** spadek napięcia na cewce to iloczyn jej indukcyjności $L$ i prędkości zmian prądu w czasie $\\frac{dI}{dt}$, dlatego mamy "
   ]
  },
  {
   "cell_type": "markdown",
   "id": "satisfactory-dividend",
   "metadata": {},
   "source": [
    "$$U_L = L\\frac{dI}{dt}.$$"
   ]
  },
  {
   "cell_type": "markdown",
   "id": "weird-tournament",
   "metadata": {},
   "source": [
    "Natomiast spadek napięcia na kondensatorze to iloraz ładunku kondensatora $q$ i jego pojemności $C$, stąd mamy"
   ]
  },
  {
   "cell_type": "markdown",
   "id": "yellow-position",
   "metadata": {},
   "source": [
    "$$U_C=\\frac{Q}{C}.$$"
   ]
  },
  {
   "cell_type": "markdown",
   "id": "seven-broad",
   "metadata": {},
   "source": [
    "Nasze równanie $U_R + U_L + U_C = {\\mathcal {E}}(t)$ możemy zapisać zatem jako"
   ]
  },
  {
   "cell_type": "markdown",
   "id": "married-defense",
   "metadata": {},
   "source": [
    "$$L\\frac{dI}{dt} + RI + \\frac{Q}{C} = {\\mathcal {E}}.$$"
   ]
  },
  {
   "cell_type": "markdown",
   "id": "charged-swing",
   "metadata": {},
   "source": [
    "Wiemy, że zależność natężenia to ładunku kondensatora zapisujemy $I=\\frac{dQ}{dt}$, stąd różniczkując obustronnie względem $t$ dostaniemy"
   ]
  },
  {
   "cell_type": "markdown",
   "id": "integrated-mattress",
   "metadata": {},
   "source": [
    "$$L\\frac{d^2}{dt^2}I(t)+R\\frac{d}{dt}I(t)+\\frac{1}{C}I(t)=\\frac{d}{dt}{\\mathcal {E}}(t).$$"
   ]
  },
  {
   "cell_type": "markdown",
   "id": "automotive-berkeley",
   "metadata": {},
   "source": [
    "\n"
   ]
  },
  {
   "cell_type": "code",
   "execution_count": null,
   "id": "stopped-module",
   "metadata": {},
   "outputs": [],
   "source": []
  },
  {
   "cell_type": "code",
   "execution_count": null,
   "id": "atmospheric-torture",
   "metadata": {},
   "outputs": [],
   "source": []
  },
  {
   "cell_type": "code",
   "execution_count": null,
   "id": "august-sydney",
   "metadata": {},
   "outputs": [],
   "source": []
  },
  {
   "cell_type": "code",
   "execution_count": null,
   "id": "facial-columbia",
   "metadata": {},
   "outputs": [],
   "source": []
  },
  {
   "cell_type": "markdown",
   "id": "armed-warehouse",
   "metadata": {},
   "source": [
    "# Rozwiązanie analityczne równania"
   ]
  },
  {
   "cell_type": "markdown",
   "id": "sweet-positive",
   "metadata": {},
   "source": [
    "Rozważymy przypadek, gdzie siła elektromotoryczna będzie prostą funkcją okresową, np. ${\\mathcal {E}}(t)=U_0 \\cos(\\omega t)$. Oznacza to, że mamy do czynienia z klasycznym przypadkiem prądu przemiennego. Zaniedbujemy na razie kwestię przesunięcia w fazie napięcia źródła, gdyż to nie jest tak istotne dla całości rozważania. Równanie ma wtedy postać\n",
    "\n",
    "$$L\\frac{d^2}{dt^2}I(t)+R\\frac{d}{dt}I(t)+\\frac{1}{C}I(t)=-U_0\\omega \\sin(\\omega t),$$\n",
    "\n",
    "gdyż ${\\mathcal {E}}'(t) = (U_0 \\cos(\\omega t))'=-U_0\\omega \\sin(\\omega t).$"
   ]
  },
  {
   "cell_type": "markdown",
   "id": "preliminary-invite",
   "metadata": {},
   "source": [
    "### Rozwiązania zanikające  \n",
    "[[2]](#bib2)"
   ]
  },
  {
   "cell_type": "markdown",
   "id": "comic-investing",
   "metadata": {},
   "source": [
    "Na początku znajdujemy rozwiązania układu jednorodnego\n",
    "$$L\\frac{d^2I}{dt^2}+R\\frac{dI}{dt}+\\frac{I}{C}=0.$$"
   ]
  },
  {
   "cell_type": "markdown",
   "id": "genetic-palestine",
   "metadata": {},
   "source": [
    "Nasz wielomian charakterystyczny będzie postaci\n",
    "$$L\\lambda^2+R\\lambda+\\frac{1}{C}=0.$$\n",
    "\n",
    "$$\\Delta = R^2 - \\frac{4L}{C};$$\n",
    "$$\\lambda_{1,2} = \\frac{-R\\pm \\sqrt{R^2 - \\frac{4L}{C}}}{2L}.$$\n",
    "\n",
    "Możemy użyć uproszczonych zmiennych $\\alpha = \\frac{R}{2L}$ oraz $\\omega_0 = \\frac{1}{\\sqrt{LC}}$. Wtedy \n",
    "\n",
    "$$\\lambda_{1,2} = -\\alpha \\pm \\sqrt{\\alpha^2-\\omega_0^2}.$$\n"
   ]
  },
  {
   "cell_type": "markdown",
   "id": "increasing-authority",
   "metadata": {},
   "source": [
    "*  Gdy $\\Delta < 0 \\iff \\omega_0 > \\alpha$ (tłumienie słabe) rozwiązanie ogólne równania to\n",
    "\n",
    "$$I(t) = e^{-\\alpha t}(C_1 \\cos(\\sqrt{\\omega_0^2-\\alpha^2}\\,t)+C_2 \\sin(\\sqrt{\\omega_0^2-\\alpha^2}\\, t)).$$\n",
    "\n",
    "* Gdy $\\Delta = 0 \\iff \\omega_0 = \\alpha$ rozwiązanie ogólne ma postać\n",
    "\n",
    "$$I(t) = C_1 e^{-\\alpha t} + C_2 t e^{-\\alpha t}.$$\n",
    "\n",
    "\n",
    "* Gdy $\\Delta > 0 \\iff \\omega_0 < \\alpha$ (tłumienie silne) otrzymujemy rozwiązanie\n",
    "\n",
    "$$I(t) = C_1 e^{-\\alpha + \\sqrt{\\alpha^2-\\omega_0^2} t} + C_2 e^{-\\alpha - \\sqrt{\\alpha^2-\\omega_0^2} t}.$$\n"
   ]
  },
  {
   "cell_type": "markdown",
   "id": "heated-rating",
   "metadata": {},
   "source": [
    "### Rozwiązania \"stanu stabilnego\""
   ]
  },
  {
   "cell_type": "markdown",
   "id": "residential-burst",
   "metadata": {},
   "source": [
    "Następnie szukamy funkcji $\\varphi(t)$ - liniowo niezależnego rozwiązania układu niejednorodnego. Stosujemy metodę przewidywania.\n",
    "\n",
    "Niech \n",
    "\n",
    "$$\\varphi(t) = D_1 \\cos(\\omega t) + D_2 \\sin(\\omega t),$$\n",
    "\n",
    "$$\\varphi ' (t)=\\omega(-D_1 \\sin(\\omega t) + D_2\\cos(\\omega t)),$$\n",
    "\n",
    "$$\\varphi '' (t) = \\omega^2 (-D_1 \\cos(\\omega t)-D_2\\sin(\\omega t)).$$\n",
    "\n",
    "Po podstawieniu do bazowego równania otrzymujemy\n",
    "\n",
    "$$(-D_1 L \\omega^2 + D_2 R \\omega + \\frac{D_1}{C})\\cos(\\omega t ) + (-D_2 L \\omega^2 - D_1 R \\omega + \\frac{D_2}{C})\\sin(\\omega t) = - U_0\\omega \\sin(\\omega t),$$\n",
    "\n",
    "dlatego\n",
    "\n",
    "$$\n",
    "\\left\\{\n",
    "    \\begin{array}\\\\\n",
    "        -D_1 L \\omega^2 + D_2 R \\omega + \\frac{D_1}{C} = 0\\\\\n",
    "        -D_2 L \\omega^2 - D_1 R \\omega + \\frac{D_2}{C} = -U_0 \\omega\n",
    "    \\end{array}.\n",
    "\\right.\n",
    "$$\n",
    "Ostatecznie \n",
    "$$\n",
    "\\left\\{\n",
    "    \\begin{array}\\\\\n",
    "        D_1 = U_0\\omega\\frac{R\\omega}{R^2\\omega^2+(L\\omega^2-\\frac{1}{C})^2}\\\\\n",
    "        D_2 = U_0\\omega\\frac{L\\omega^2-\\frac{1}{C}}{R^2\\omega^2+(L\\omega^2-\\frac{1}{C})^2}\n",
    "    \\end{array}.\n",
    "\\right.\n",
    "$$\n",
    "\n",
    "Równie dobrze [[3]](#bib3) można jednak zastosować zapis\n",
    "\n",
    "$$\\varphi(t) = A \\cos(\\omega t - \\theta).$$\n",
    "\n",
    "Znajdujemy zatem amplitudę i przesunięcie fazowe, prosto wyprowadzając zależności $A = \\sqrt{D_1^2+D_2^2}$ i $\\theta = \\arctan{\\frac{D_2}{D_1}}$. Zakładamy przy okazji, że $\\omega>0$, bo zerowe nie da żadnych ciekawych efektów, a ujemne jest równoznaczne z przesunięciem w fazie źródła (kosinus akurat w ogóle się by nie zmienił). Łatwiej będzie zatem analizować zachowanie układu pisząc\n",
    "\n",
    "$$\\varphi(t) = \\frac{U_0}{\\sqrt{R^2+(L\\omega-\\frac{1}{C\\omega })^2}} \\cos(\\omega t - \\arctan{(\\frac{L\\omega}{R}-\\frac{1}{RC\\omega})}).$$\n",
    "\n",
    "W bardziej klasycznej formie można to przedstawić jako\n",
    "\n",
    "$$\\varphi(t) = \\frac{\\omega}{L}\\cdot\\frac{U_0}{\\sqrt{4\\alpha^2\\omega^2+(\\omega_0^2-\\omega^2 })^2} \\cos(\\omega t - \\arctan{(\\frac{2\\alpha\\omega}{\\omega_0^2-\\omega^2}}).$$"
   ]
  },
  {
   "cell_type": "markdown",
   "id": "british-authorization",
   "metadata": {},
   "source": [
    "### Ogólne rozwiązania"
   ]
  },
  {
   "cell_type": "markdown",
   "id": "dedicated-average",
   "metadata": {},
   "source": [
    "I rozwiązania ogólne układów niejednorodnych to odpowiednio dla wskazanych przypadków [[2]](#bib2):\n",
    "\n",
    "* $I(t) = e^{-\\alpha t}(C_1 \\cos(\\sqrt{\\omega_0^2-\\alpha^2}\\,t)+C_2 \\sin(\\sqrt{\\omega_0^2-\\alpha^2}\\, t)) + \\frac{\\omega}{L}\\cdot\\frac{U_0}{\\sqrt{4\\alpha^2\\omega^2+(\\omega_0^2-\\omega^2 })^2} \\cos(\\omega t - \\arctan{(\\frac{2\\alpha\\omega}{\\omega_0^2-\\omega^2}}),$\n",
    "\n",
    "* $I(t) = C_1 e^{-\\alpha t} + C_2 t e^{-\\alpha t} + \\frac{\\omega}{L}\\cdot\\frac{U_0}{\\sqrt{4\\alpha^2\\omega^2+(\\omega_0^2-\\omega^2 })^2} \\cos(\\omega t - \\arctan{(\\frac{2\\alpha\\omega}{\\omega_0^2-\\omega^2}}),$\n",
    "\n",
    "* $I(t) = I(t) = C_1 e^{-\\alpha + \\sqrt{\\alpha^2-\\omega_0^2}\\,t} + C_2 e^{-\\alpha - \\sqrt{\\alpha^2-\\omega_0^2}\\,t} + \\frac{\\omega}{L}\\cdot\\frac{U_0}{\\sqrt{4\\alpha^2\\omega^2+(\\omega_0^2-\\omega^2 })^2} \\cos(\\omega t - \\arctan{(\\frac{2\\alpha\\omega}{\\omega_0^2-\\omega^2}}).$\n",
    "\n",
    "Stałe $C_1, C_2$ wyznaczamy na podstawie warunków początkowych $I(0), \\frac{dI}{dt}(0)$."
   ]
  },
  {
   "cell_type": "markdown",
   "id": "adaptive-necessity",
   "metadata": {},
   "source": [
    "# Częstotliwość rezonansowa"
   ]
  },
  {
   "cell_type": "markdown",
   "id": "tired-lodge",
   "metadata": {},
   "source": [
    "Jeżeli przyjrzymy się rozwiązaniom, wyraźnie widać, że ich pierwsze człony zawsze wygasają (choć dla małego parametru $\\alpha$ w pierwszym przypadku, nie następuje to szybko). Można natomiast zauważyć, że od charakterystyki elementów składowych **RLC** oraz **źródła prądu** zależy amplituda ostatniego członu. Możemy postarać się znaleźć częstotliwość źródła prądu przemiennego, dla którego następuje rezonans - amplituda jest maksymalna."
   ]
  },
  {
   "cell_type": "markdown",
   "id": "norman-habitat",
   "metadata": {},
   "source": [
    "Zapiszmy jeszcze raz\n",
    "\n",
    "$$A = \\frac{U_0}{\\sqrt{R^2+(L\\omega-\\frac{1}{C\\omega })^2}}.$$\n",
    "\n",
    "Chcemy znaleźć ekstremum, więc policzymy pochodną i przyrównamy ją do zera. Powyżej użyta jest pierwsza z podanych postaci funkcji, gdyż dla niej łatwiej jest liczyć pochodną.\n",
    "\n",
    "$$\\frac{dA}{d\\omega} = \\frac{U_0 L^2(\\frac{1}{(CL)^2 \\omega^3}-\\omega) }{(\\sqrt{R^2+(L\\omega-\\frac{1}{C\\omega })^2})^3}=0 \\iff \\omega=\\frac{1}{\\sqrt{LC}}=\\omega_0$$\n",
    "\n",
    "\n",
    "Otrzymujemy zatem potencjalne ekstremum w punkcie\n",
    "\n",
    "$$\\omega_r =\\frac{1}{\\sqrt{LC}}.$$\n",
    "\n",
    "Badając punkty wokół tego $\\omega_r$ okazuje się, że to istotnie maksimum [[4]](#bib4).\n"
   ]
  },
  {
   "cell_type": "markdown",
   "id": "casual-riverside",
   "metadata": {},
   "source": [
    "Szukana częstotliwość rezonansowa źródła to zatem ostatecznie\n",
    "\n",
    "$$f_r =\\frac{1}{2\\pi\\sqrt{LC}}.$$\n"
   ]
  },
  {
   "cell_type": "markdown",
   "id": "suited-transcript",
   "metadata": {},
   "source": [
    "### Wizualizacja zjawiska"
   ]
  },
  {
   "cell_type": "markdown",
   "id": "wireless-wesley",
   "metadata": {},
   "source": [
    "Poniżej możemy zobaczyć jak w zależności od częstotliwości źródła wygląda opisana amplituda. Przyjmujemy jakieś parametry układu i rzeczwiście widzimy w wyznaczonym punkcie wyraźny rezonans."
   ]
  },
  {
   "cell_type": "code",
   "execution_count": 4,
   "id": "atmospheric-static",
   "metadata": {},
   "outputs": [],
   "source": [
    "def resonance_plot(R, L, C, U0, title):\n",
    "    rng_bounds = 0.01, 1 / np.sqrt(L1 * C1) * 4\n",
    "\n",
    "    omega_rng = np.arange(*rng_bounds, 0.5)\n",
    "\n",
    "    def amplitude_res(omega, R, L, C, U0):\n",
    "        amplitude = U0 / np.sqrt(R ** 2 + (L * omega - 1 / (C * omega)) ** 2)\n",
    "        return amplitude\n",
    "\n",
    "    def res_freq_an(R, L, C, U0):\n",
    "        freq = 1 / (2 * np.pi * np.sqrt(L * C))\n",
    "        return freq\n",
    "\n",
    "    plt.figure()\n",
    "    plt.subplot()\n",
    "    plt.plot(omega_rng / 2 / np.pi, amplitude_res(omega_rng, R, L, C, U0), color='C0', label=\"Natężenie\")\n",
    "    plt.axvline(x=res_freq_an(R, L, C, U0), color='C1', label=\"Wyznaczona częstotliwość $f_r$\")\n",
    "    plt.xlabel('Częstotliwość źródła [Hz]')\n",
    "    plt.ylabel('Amplituda niegasnącego rozwiązania [A]')\n",
    "    plt.title(title)\n",
    "    plt.grid()\n",
    "    plt.legend()\n",
    "    plt.show()"
   ]
  },
  {
   "cell_type": "code",
   "execution_count": 5,
   "id": "graphic-twenty",
   "metadata": {},
   "outputs": [
    {
     "data": {
      "image/png": "[encoded data removed]",
      "text/plain": [
       "<Figure size 432x288 with 1 Axes>"
      ]
     },
     "metadata": {
      "needs_background": "light"
     },
     "output_type": "display_data"
    }
   ],
   "source": [
    "R1, L1, C1, U01 = 20, 1, 0.001, 30\n",
    "resonance_plot(R1, L1, C1, U01, 'Ustalone drgania układu RLC z kosinusoidalnym źródłem')"
   ]
  },
  {
   "cell_type": "markdown",
   "id": "olympic-briefing",
   "metadata": {},
   "source": [
    "<center> Wykres 1."
   ]
  },
  {
   "cell_type": "markdown",
   "id": "urban-restriction",
   "metadata": {},
   "source": [
    "Można patrzeć na ten wykres jako na opis drgań już po upływie pewnego czasu - kiedy rozwiązania układu jednorodnego wygasną."
   ]
  },
  {
   "cell_type": "markdown",
   "id": "standing-oakland",
   "metadata": {},
   "source": [
    "Gdy spróbujemy manipulować danymi, kształty wykresu ulegną zmianie, ale zawsze wyznaczony punkt będzie punktem rezonansu."
   ]
  },
  {
   "cell_type": "code",
   "execution_count": 6,
   "id": "happy-microwave",
   "metadata": {},
   "outputs": [
    {
     "data": {
      "image/png": "[encoded data removed]",
      "text/plain": [
       "<Figure size 432x288 with 1 Axes>"
      ]
     },
     "metadata": {
      "needs_background": "light"
     },
     "output_type": "display_data"
    }
   ],
   "source": [
    "R2, L2, C2, U02 = 100, 1, 0.01, 30\n",
    "resonance_plot(R2, L2, C2, U02, 'Ustalone drgania układu RLC z kosinusoidalnym źródłem - przypadek 2.')"
   ]
  },
  {
   "cell_type": "markdown",
   "id": "effective-force",
   "metadata": {},
   "source": [
    "<center> Wykres 2."
   ]
  },
  {
   "cell_type": "markdown",
   "id": "banner-company",
   "metadata": {},
   "source": [
    "# Metody numeryczne\n",
    "[[5]](#bib5)"
   ]
  },
  {
   "cell_type": "markdown",
   "id": "worst-collectible",
   "metadata": {},
   "source": [
    "Metody numeryczne rozwiązują problemy korzystając z operacji na liczbach. Wyniki są zazwyczaj przybliżone, lecz może je określić sami, ze względu na nasze potrzeby."
   ]
  },
  {
   "cell_type": "code",
   "execution_count": 7,
   "id": "classical-coffee",
   "metadata": {},
   "outputs": [],
   "source": [
    "def preparation(R, L, C, U0, omega, phase):\n",
    "    def form(t, i, i_prim):\n",
    "        return -(U0 * omega * np.sin(omega * t + phase) + R * i_prim + i / C) / L\n",
    "\n",
    "    return form"
   ]
  },
  {
   "cell_type": "markdown",
   "id": "intermediate-automation",
   "metadata": {},
   "source": [
    "# Metoda Eulera \n",
    "[[6]](#bib6)"
   ]
  },
  {
   "cell_type": "markdown",
   "id": "dangerous-maple",
   "metadata": {},
   "source": [
    "Metoda Eulera pomaga rozwiązywać równania różniczkowe. Opiera się na interpretacji geometrycznej równania.\n",
    "Została ona ujawniona w 1768 roku w podręczniku Leonharda Eulera pt. Institutiones calculi differentialis, czyli „Kształcenie w rachunku różniczkowym”."
   ]
  },
  {
   "cell_type": "code",
   "execution_count": null,
   "id": "american-velvet",
   "metadata": {},
   "outputs": [],
   "source": [
    "def euler_second(t0, tn, dt, init_condit, form):\n",
    "    grid_t = np.arange(t0, tn, dt)\n",
    "    grid_i = grid_t.copy()\n",
    "    grid_i.fill(0)\n",
    "    grid_i_prim = grid_t.copy()\n",
    "    grid_i_prim.fill(0)\n",
    "\n",
    "    grid_i[0] = init_condit[0]\n",
    "    grid_i_prim[0] = init_condit[1]\n",
    "\n",
    "    for ind, t in enumerate(grid_t[1:]):\n",
    "        ind += 1\n",
    "        prev_i = grid_i[ind - 1]\n",
    "        prev_i_prim = grid_i_prim[ind - 1]\n",
    "        grid_i_prim[ind] = prev_i_prim + dt * form(t, prev_i, prev_i_prim)\n",
    "        grid_i[ind] = prev_i + dt * prev_i_prim\n",
    "\n",
    "    return grid_t, grid_i"
   ]
  },
  {
   "cell_type": "markdown",
   "id": "logical-english",
   "metadata": {},
   "source": [
    "# Metoda MidPoint\n",
    "[[7]](#bib7)"
   ]
  },
  {
   "cell_type": "markdown",
   "id": "fallen-substance",
   "metadata": {},
   "source": [
    "Metoda Midpoint zostałą opracowana na podstwie metody Eulera, \n",
    "aczkolwiek zastosowano w niej rozwinęcie w szereg Taylora z dokładnością o jeden krok wiecej niż w metodzie Eulera.\n",
    "W metodzie tej nachylenie jest szacowane na podstawie wartości 'y' w środku przedziału."
   ]
  },
  {
   "cell_type": "code",
   "execution_count": null,
   "id": "respective-termination",
   "metadata": {},
   "outputs": [],
   "source": [
    "def midpoint_second(t0, tn, dt, init_condit, form):\n",
    "    grid_t = np.arange(t0, tn, dt)\n",
    "    grid_i = grid_t.copy()\n",
    "    grid_i.fill(0)\n",
    "    grid_i_prim = grid_t.copy()\n",
    "    grid_i_prim.fill(0)\n",
    "\n",
    "    grid_i[0] = init_condit[0]\n",
    "    grid_i_prim[0] = init_condit[1]\n",
    "    \n",
    "    for ind, t in enumerate(grid_t[1:]):\n",
    "        ind += 1\n",
    "        prev_i = grid_i[ind - 1]\n",
    "        prev_i_prim = grid_i_prim[ind - 1]\n",
    "        \n",
    "        grid_i_prim[ind] = prev_i_prim + dt * form(\n",
    "            t + dt / 2,\n",
    "            prev_i + dt * prev_i_prim / 2,\n",
    "            prev_i_prim + dt * form(t, prev_i, prev_i_prim) / 2,\n",
    "        )\n",
    "        \n",
    "        grid_i[ind] = prev_i + dt * (prev_i_prim + grid_i_prim[ind]) / 2\n",
    "    \n",
    "    return grid_t, grid_i"
   ]
  },
  {
   "cell_type": "code",
   "execution_count": null,
   "id": "occasional-output",
   "metadata": {},
   "outputs": [],
   "source": [
    "adam = euler_second(\n",
    "    0, 1, 0.001, (1, 0.2), preparation(10, 1, 0.0001, 30, 40, -np.pi / 2)\n",
    ")\n",
    "ewa = midpoint_second(\n",
    "    0, 1, 0.001, (1, 0.2), preparation(10, 1, 0.0001, 30, 40, -np.pi / 2)\n",
    ")\n",
    "mateo = euler_second(\n",
    "    0, 1, 0.0001, (0, 0), preparation(10, 1, 0.000015, 5, 2*np.pi*40, -np.pi / 2)\n",
    ")"
   ]
  },
  {
   "cell_type": "code",
   "execution_count": null,
   "id": "broke-sodium",
   "metadata": {},
   "outputs": [],
   "source": [
    "# plt.plot(*adam)\n",
    "\n",
    "# plt.plot(*ewa)\n",
    "plt.plot(*mateo)\n",
    "plt.grid()\n",
    "plt.show()"
   ]
  },
  {
   "cell_type": "code",
   "execution_count": null,
   "id": "first-division",
   "metadata": {},
   "outputs": [],
   "source": [
    "def cum_diff(arr1, arr2):\n",
    "    diffs = arr1 - arr2[::10]\n",
    "    abs_diffs = np.abs(diffs)\n",
    "    return np.cumsum(abs_diffs)"
   ]
  },
  {
   "cell_type": "code",
   "execution_count": null,
   "id": "advance-guarantee",
   "metadata": {},
   "outputs": [],
   "source": [
    "plt.plot(adam[0], cum_diff(adam[1], mateo[1]))\n",
    "plt.plot(adam[0], cum_diff(ewa[1], mateo[1]))"
   ]
  },
  {
   "cell_type": "markdown",
   "id": "searching-investment",
   "metadata": {},
   "source": [
    "# Bibliografia"
   ]
  },
  {
   "cell_type": "markdown",
   "id": "structured-baptist",
   "metadata": {},
   "source": [
    "<a id=\"bib1\">[1]</a> M. Gewert; Z. Skoczylas, *Równania różniczkowe liniowe drugiego rzędu*, [w:] *Równania różniczkowe zwyczajne*, Wrocław 2016, s. 92-94.\n",
    "\n",
    "<a id=\"bib2\">[2]</a> Ł. Płociniczak, *Ordinary differential equations in science and technology*, 2020, s. 50-57; 62.\n",
    "\n",
    "<a id=\"bib3\">[3]</a> Tamże, s. 63.\n",
    "\n",
    "<a id=\"bib4\">[4]</a> M. Szulim, *Rezonans w obwodach elektrycznych*, *Wykład: Obwody i sygnały 1*. [dostęp: 01.01.2022]. Dostęp w Internecie: https://zoise.wel.wat.edu.pl/dydaktyka/WEL%20niestacjonarne/Wyklady/07_Rezonans_obwod_elektryczny.pdf.\n",
    "\n",
    "...71-73; 85-105.\n",
    "\n",
    "<a id=\"bib5\">[5]</a> https://pl.wikipedia.org/wiki/Metoda_numeryczna\n",
    "\n",
    "<a id=\"bib6\">[6]</a> https://pl.wikipedia.org/wiki/Metoda_Eulera\n",
    "\n",
    "<a id=\"bib7\">[7]</a> http://www.if.pw.edu.pl/~agatka/numeryczne/wyklad_08.pdf; https://edu.pjwstk.edu.pl/wyklady/fiz/scb/Wyklad2/w2.xml"
   ]
  },
  {
   "cell_type": "markdown",
   "id": "touched-thought",
   "metadata": {},
   "source": [
    "Schematy układów zostały wygenerowane z pomocą strony Circuit Diagram. [dostęp: 01.01.2022]. Dostęp w Internecie: https://www.circuit-diagram.org/editor/."
   ]
  },
  {
   "cell_type": "code",
   "execution_count": null,
   "id": "abstract-employee",
   "metadata": {},
   "outputs": [],
   "source": []
  }
 ],
 "metadata": {
  "kernelspec": {
   "display_name": "Python 3",
   "language": "python",
   "name": "python3"
  },
  "language_info": {
   "codemirror_mode": {
    "name": "ipython",
    "version": 3
   },
   "file_extension": ".py",
   "mimetype": "text/x-python",
   "name": "python",
   "nbconvert_exporter": "python",
   "pygments_lexer": "ipython3",
   "version": "3.8.2"
  }
 },
 "nbformat": 4,
 "nbformat_minor": 5
}
