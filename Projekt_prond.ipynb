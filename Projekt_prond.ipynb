{
 "cells": [
  {
   "cell_type": "markdown",
   "id": "sensitive-heating",
   "metadata": {},
   "source": [
    "**Równania Różniczkowe w Technice** - W13, PWr\n",
    "\n",
    "Projekt - semestr zimowy 2021/22\n",
    "\n",
    "**Temat:** *Charakterystyka przepływu prądu w układach RLC*.\n",
    "\n",
    "**Autorzy:**\n",
    "\n",
    "* Adam Kawałko, 262329\n",
    "* Mateusz Machaj, 262288"
   ]
  },
  {
   "cell_type": "markdown",
   "id": "acknowledged-jacket",
   "metadata": {},
   "source": [
    "# Opis"
   ]
  },
  {
   "cell_type": "markdown",
   "id": "assisted-bouquet",
   "metadata": {},
   "source": [
    "W naszej pracy przedstawimy działanie obwodu RLC, rozwiążemy równanie różniczkowe na kilka sposobów.\n",
    "Będziemy korzystać z praw Kirchhoffa, prawa Ohma oraz prawa Faradaya. Postaramy się także zaprezentować eksperyment.\n",
    "Uzyskane wyniki przedstawimy na wykresach oraz w podsumowaniu."
   ]
  },
  {
   "cell_type": "code",
   "execution_count": 5,
   "id": "understanding-georgia",
   "metadata": {
    "tags": []
   },
   "outputs": [
    {
     "ename": "ModuleNotFoundError",
     "evalue": "No module named 'nb_black'",
     "output_type": "error",
     "traceback": [
      "\u001b[1;31m---------------------------------------------------------------------------\u001b[0m",
      "\u001b[1;31mModuleNotFoundError\u001b[0m                       Traceback (most recent call last)",
      "\u001b[1;32m<ipython-input-5-50ec12b286b4>\u001b[0m in \u001b[0;36m<module>\u001b[1;34m\u001b[0m\n\u001b[1;32m----> 1\u001b[1;33m \u001b[0mget_ipython\u001b[0m\u001b[1;33m(\u001b[0m\u001b[1;33m)\u001b[0m\u001b[1;33m.\u001b[0m\u001b[0mrun_line_magic\u001b[0m\u001b[1;33m(\u001b[0m\u001b[1;34m'load_ext'\u001b[0m\u001b[1;33m,\u001b[0m \u001b[1;34m'nb_black'\u001b[0m\u001b[1;33m)\u001b[0m\u001b[1;33m\u001b[0m\u001b[1;33m\u001b[0m\u001b[0m\n\u001b[0m",
      "\u001b[1;32mc:\\users\\adam\\appdata\\local\\programs\\python\\python38-32\\lib\\site-packages\\IPython\\core\\interactiveshell.py\u001b[0m in \u001b[0;36mrun_line_magic\u001b[1;34m(self, magic_name, line, _stack_depth)\u001b[0m\n\u001b[0;32m   2334\u001b[0m                 \u001b[0mkwargs\u001b[0m\u001b[1;33m[\u001b[0m\u001b[1;34m'local_ns'\u001b[0m\u001b[1;33m]\u001b[0m \u001b[1;33m=\u001b[0m \u001b[0mself\u001b[0m\u001b[1;33m.\u001b[0m\u001b[0mget_local_scope\u001b[0m\u001b[1;33m(\u001b[0m\u001b[0mstack_depth\u001b[0m\u001b[1;33m)\u001b[0m\u001b[1;33m\u001b[0m\u001b[1;33m\u001b[0m\u001b[0m\n\u001b[0;32m   2335\u001b[0m             \u001b[1;32mwith\u001b[0m \u001b[0mself\u001b[0m\u001b[1;33m.\u001b[0m\u001b[0mbuiltin_trap\u001b[0m\u001b[1;33m:\u001b[0m\u001b[1;33m\u001b[0m\u001b[1;33m\u001b[0m\u001b[0m\n\u001b[1;32m-> 2336\u001b[1;33m                 \u001b[0mresult\u001b[0m \u001b[1;33m=\u001b[0m \u001b[0mfn\u001b[0m\u001b[1;33m(\u001b[0m\u001b[1;33m*\u001b[0m\u001b[0margs\u001b[0m\u001b[1;33m,\u001b[0m \u001b[1;33m**\u001b[0m\u001b[0mkwargs\u001b[0m\u001b[1;33m)\u001b[0m\u001b[1;33m\u001b[0m\u001b[1;33m\u001b[0m\u001b[0m\n\u001b[0m\u001b[0;32m   2337\u001b[0m             \u001b[1;32mreturn\u001b[0m \u001b[0mresult\u001b[0m\u001b[1;33m\u001b[0m\u001b[1;33m\u001b[0m\u001b[0m\n\u001b[0;32m   2338\u001b[0m \u001b[1;33m\u001b[0m\u001b[0m\n",
      "\u001b[1;32m<decorator-gen-58>\u001b[0m in \u001b[0;36mload_ext\u001b[1;34m(self, module_str)\u001b[0m\n",
      "\u001b[1;32mc:\\users\\adam\\appdata\\local\\programs\\python\\python38-32\\lib\\site-packages\\IPython\\core\\magic.py\u001b[0m in \u001b[0;36m<lambda>\u001b[1;34m(f, *a, **k)\u001b[0m\n\u001b[0;32m    185\u001b[0m     \u001b[1;31m# but it's overkill for just that one bit of state.\u001b[0m\u001b[1;33m\u001b[0m\u001b[1;33m\u001b[0m\u001b[1;33m\u001b[0m\u001b[0m\n\u001b[0;32m    186\u001b[0m     \u001b[1;32mdef\u001b[0m \u001b[0mmagic_deco\u001b[0m\u001b[1;33m(\u001b[0m\u001b[0marg\u001b[0m\u001b[1;33m)\u001b[0m\u001b[1;33m:\u001b[0m\u001b[1;33m\u001b[0m\u001b[1;33m\u001b[0m\u001b[0m\n\u001b[1;32m--> 187\u001b[1;33m         \u001b[0mcall\u001b[0m \u001b[1;33m=\u001b[0m \u001b[1;32mlambda\u001b[0m \u001b[0mf\u001b[0m\u001b[1;33m,\u001b[0m \u001b[1;33m*\u001b[0m\u001b[0ma\u001b[0m\u001b[1;33m,\u001b[0m \u001b[1;33m**\u001b[0m\u001b[0mk\u001b[0m\u001b[1;33m:\u001b[0m \u001b[0mf\u001b[0m\u001b[1;33m(\u001b[0m\u001b[1;33m*\u001b[0m\u001b[0ma\u001b[0m\u001b[1;33m,\u001b[0m \u001b[1;33m**\u001b[0m\u001b[0mk\u001b[0m\u001b[1;33m)\u001b[0m\u001b[1;33m\u001b[0m\u001b[1;33m\u001b[0m\u001b[0m\n\u001b[0m\u001b[0;32m    188\u001b[0m \u001b[1;33m\u001b[0m\u001b[0m\n\u001b[0;32m    189\u001b[0m         \u001b[1;32mif\u001b[0m \u001b[0mcallable\u001b[0m\u001b[1;33m(\u001b[0m\u001b[0marg\u001b[0m\u001b[1;33m)\u001b[0m\u001b[1;33m:\u001b[0m\u001b[1;33m\u001b[0m\u001b[1;33m\u001b[0m\u001b[0m\n",
      "\u001b[1;32mc:\\users\\adam\\appdata\\local\\programs\\python\\python38-32\\lib\\site-packages\\IPython\\core\\magics\\extension.py\u001b[0m in \u001b[0;36mload_ext\u001b[1;34m(self, module_str)\u001b[0m\n\u001b[0;32m     31\u001b[0m         \u001b[1;32mif\u001b[0m \u001b[1;32mnot\u001b[0m \u001b[0mmodule_str\u001b[0m\u001b[1;33m:\u001b[0m\u001b[1;33m\u001b[0m\u001b[1;33m\u001b[0m\u001b[0m\n\u001b[0;32m     32\u001b[0m             \u001b[1;32mraise\u001b[0m \u001b[0mUsageError\u001b[0m\u001b[1;33m(\u001b[0m\u001b[1;34m'Missing module name.'\u001b[0m\u001b[1;33m)\u001b[0m\u001b[1;33m\u001b[0m\u001b[1;33m\u001b[0m\u001b[0m\n\u001b[1;32m---> 33\u001b[1;33m         \u001b[0mres\u001b[0m \u001b[1;33m=\u001b[0m \u001b[0mself\u001b[0m\u001b[1;33m.\u001b[0m\u001b[0mshell\u001b[0m\u001b[1;33m.\u001b[0m\u001b[0mextension_manager\u001b[0m\u001b[1;33m.\u001b[0m\u001b[0mload_extension\u001b[0m\u001b[1;33m(\u001b[0m\u001b[0mmodule_str\u001b[0m\u001b[1;33m)\u001b[0m\u001b[1;33m\u001b[0m\u001b[1;33m\u001b[0m\u001b[0m\n\u001b[0m\u001b[0;32m     34\u001b[0m \u001b[1;33m\u001b[0m\u001b[0m\n\u001b[0;32m     35\u001b[0m         \u001b[1;32mif\u001b[0m \u001b[0mres\u001b[0m \u001b[1;33m==\u001b[0m \u001b[1;34m'already loaded'\u001b[0m\u001b[1;33m:\u001b[0m\u001b[1;33m\u001b[0m\u001b[1;33m\u001b[0m\u001b[0m\n",
      "\u001b[1;32mc:\\users\\adam\\appdata\\local\\programs\\python\\python38-32\\lib\\site-packages\\IPython\\core\\extensions.py\u001b[0m in \u001b[0;36mload_extension\u001b[1;34m(self, module_str)\u001b[0m\n\u001b[0;32m     78\u001b[0m             \u001b[1;32mif\u001b[0m \u001b[0mmodule_str\u001b[0m \u001b[1;32mnot\u001b[0m \u001b[1;32min\u001b[0m \u001b[0msys\u001b[0m\u001b[1;33m.\u001b[0m\u001b[0mmodules\u001b[0m\u001b[1;33m:\u001b[0m\u001b[1;33m\u001b[0m\u001b[1;33m\u001b[0m\u001b[0m\n\u001b[0;32m     79\u001b[0m                 \u001b[1;32mwith\u001b[0m \u001b[0mprepended_to_syspath\u001b[0m\u001b[1;33m(\u001b[0m\u001b[0mself\u001b[0m\u001b[1;33m.\u001b[0m\u001b[0mipython_extension_dir\u001b[0m\u001b[1;33m)\u001b[0m\u001b[1;33m:\u001b[0m\u001b[1;33m\u001b[0m\u001b[1;33m\u001b[0m\u001b[0m\n\u001b[1;32m---> 80\u001b[1;33m                     \u001b[0mmod\u001b[0m \u001b[1;33m=\u001b[0m \u001b[0mimport_module\u001b[0m\u001b[1;33m(\u001b[0m\u001b[0mmodule_str\u001b[0m\u001b[1;33m)\u001b[0m\u001b[1;33m\u001b[0m\u001b[1;33m\u001b[0m\u001b[0m\n\u001b[0m\u001b[0;32m     81\u001b[0m                     \u001b[1;32mif\u001b[0m \u001b[0mmod\u001b[0m\u001b[1;33m.\u001b[0m\u001b[0m__file__\u001b[0m\u001b[1;33m.\u001b[0m\u001b[0mstartswith\u001b[0m\u001b[1;33m(\u001b[0m\u001b[0mself\u001b[0m\u001b[1;33m.\u001b[0m\u001b[0mipython_extension_dir\u001b[0m\u001b[1;33m)\u001b[0m\u001b[1;33m:\u001b[0m\u001b[1;33m\u001b[0m\u001b[1;33m\u001b[0m\u001b[0m\n\u001b[0;32m     82\u001b[0m                         print((\"Loading extensions from {dir} is deprecated. \"\n",
      "\u001b[1;32mc:\\users\\adam\\appdata\\local\\programs\\python\\python38-32\\lib\\importlib\\__init__.py\u001b[0m in \u001b[0;36mimport_module\u001b[1;34m(name, package)\u001b[0m\n\u001b[0;32m    125\u001b[0m                 \u001b[1;32mbreak\u001b[0m\u001b[1;33m\u001b[0m\u001b[1;33m\u001b[0m\u001b[0m\n\u001b[0;32m    126\u001b[0m             \u001b[0mlevel\u001b[0m \u001b[1;33m+=\u001b[0m \u001b[1;36m1\u001b[0m\u001b[1;33m\u001b[0m\u001b[1;33m\u001b[0m\u001b[0m\n\u001b[1;32m--> 127\u001b[1;33m     \u001b[1;32mreturn\u001b[0m \u001b[0m_bootstrap\u001b[0m\u001b[1;33m.\u001b[0m\u001b[0m_gcd_import\u001b[0m\u001b[1;33m(\u001b[0m\u001b[0mname\u001b[0m\u001b[1;33m[\u001b[0m\u001b[0mlevel\u001b[0m\u001b[1;33m:\u001b[0m\u001b[1;33m]\u001b[0m\u001b[1;33m,\u001b[0m \u001b[0mpackage\u001b[0m\u001b[1;33m,\u001b[0m \u001b[0mlevel\u001b[0m\u001b[1;33m)\u001b[0m\u001b[1;33m\u001b[0m\u001b[1;33m\u001b[0m\u001b[0m\n\u001b[0m\u001b[0;32m    128\u001b[0m \u001b[1;33m\u001b[0m\u001b[0m\n\u001b[0;32m    129\u001b[0m \u001b[1;33m\u001b[0m\u001b[0m\n",
      "\u001b[1;32mc:\\users\\adam\\appdata\\local\\programs\\python\\python38-32\\lib\\importlib\\_bootstrap.py\u001b[0m in \u001b[0;36m_gcd_import\u001b[1;34m(name, package, level)\u001b[0m\n",
      "\u001b[1;32mc:\\users\\adam\\appdata\\local\\programs\\python\\python38-32\\lib\\importlib\\_bootstrap.py\u001b[0m in \u001b[0;36m_find_and_load\u001b[1;34m(name, import_)\u001b[0m\n",
      "\u001b[1;32mc:\\users\\adam\\appdata\\local\\programs\\python\\python38-32\\lib\\importlib\\_bootstrap.py\u001b[0m in \u001b[0;36m_find_and_load_unlocked\u001b[1;34m(name, import_)\u001b[0m\n",
      "\u001b[1;31mModuleNotFoundError\u001b[0m: No module named 'nb_black'"
     ]
    }
   ],
   "source": [
    "%load_ext nb_black"
   ]
  },
  {
   "cell_type": "markdown",
   "id": "altered-nylon",
   "metadata": {},
   "source": [
    "Import bibliotek *Python*:"
   ]
  },
  {
   "cell_type": "code",
   "execution_count": 6,
   "id": "welsh-gross",
   "metadata": {},
   "outputs": [],
   "source": [
    "import numpy as np\n",
    "import matplotlib.pyplot as plt\n",
    "from IPython.core.display import HTML"
   ]
  },
  {
   "cell_type": "markdown",
   "id": "grand-panama",
   "metadata": {},
   "source": [
    "Format wyświetlanych grafik:"
   ]
  },
  {
   "cell_type": "code",
   "execution_count": 7,
   "id": "proof-living",
   "metadata": {},
   "outputs": [
    {
     "data": {
      "text/html": [
       "\n",
       "<style>\n",
       ".output_png {\n",
       "    display: table-cell;\n",
       "    text-align: center;\n",
       "    vertical-align: middle;\n",
       "}\n",
       "</style>\n"
      ],
      "text/plain": [
       "<IPython.core.display.HTML object>"
      ]
     },
     "execution_count": 7,
     "metadata": {},
     "output_type": "execute_result"
    }
   ],
   "source": [
    "HTML(\n",
    "    \"\"\"\n",
    "<style>\n",
    ".output_png {\n",
    "    display: table-cell;\n",
    "    text-align: center;\n",
    "    vertical-align: middle;\n",
    "}\n",
    "</style>\n",
    "\"\"\"\n",
    ")"
   ]
  },
  {
   "cell_type": "markdown",
   "id": "single-sheffield",
   "metadata": {},
   "source": [
    "# Obwód RLC"
   ]
  },
  {
   "cell_type": "markdown",
   "id": "automotive-blogger",
   "metadata": {},
   "source": [
    "Co to jest **RLC**? \n",
    "**RLC** to skrót dla obwodów elektrycznych, w których skład wchodzą tylko trzy elementy pasywne: \n",
    "- rezystor (**R**),\n",
    "- cewka (**L**),\n",
    "- kondensator (**C**)."
   ]
  },
  {
   "cell_type": "markdown",
   "id": "latter-saturday",
   "metadata": {},
   "source": [
    "Elementy **RLC** mogą być połączone na różne sposoby, mogą też występować obwody bez cewki **L** lub bez kondensatora **C**. Nas jednak będą interesowały najciekawsze układy - z wszystkimi trzema rodzajami elementów."
   ]
  },
  {
   "cell_type": "markdown",
   "id": "reverse-pickup",
   "metadata": {},
   "source": [
    "Pochylimy się głównie nad ich podłączeniem szeregowym w jednym oczku, ale warto zwrócić uwagę, że konfiguracji może być wiele - na przykład równoległe podłączenia oraz układy złożone z wielu oczek. Do badania charakterystyki użyjemy też innych elementów, takich jak przełącznik czy bezpiecznik."
   ]
  },
  {
   "cell_type": "markdown",
   "id": "polar-hollow",
   "metadata": {},
   "source": [
    "![Rysunek 1. Szeregowy układ RLC](images/rlc_1.png) <center> Rysunek 1. Szeregowy układ RLC"
   ]
  },
  {
   "cell_type": "markdown",
   "id": "extraordinary-pursuit",
   "metadata": {},
   "source": [
    "<font color='red'>**??????????????????**</font> "
   ]
  },
  {
   "cell_type": "markdown",
   "id": "tested-auditor",
   "metadata": {},
   "source": [
    "# Prawo Ohma"
   ]
  },
  {
   "cell_type": "markdown",
   "id": "integrated-inquiry",
   "metadata": {},
   "source": [
    "Z **prawa Ohma** wiemy, że natężenie $I$ jest wprost proporcjonalne do napięcia $U$:"
   ]
  },
  {
   "cell_type": "markdown",
   "id": "verbal-sound",
   "metadata": {},
   "source": [
    "$$U = IR.$$"
   ]
  },
  {
   "cell_type": "markdown",
   "id": "criminal-shape",
   "metadata": {},
   "source": [
    "Możemy również przejść do równania różniczkowego. Będziemy mieli do czynienia z przewodnikiem o długości $dl$ oraz powierzchni przekroju $dS$"
   ]
  },
  {
   "cell_type": "markdown",
   "id": "rational-discipline",
   "metadata": {},
   "source": [
    "$$dI = \\frac{1}{R}dU$$"
   ]
  },
  {
   "cell_type": "markdown",
   "id": "ultimate-catering",
   "metadata": {},
   "source": [
    "Teraz możemy wyrazić natężenie prądu używając jego gęstości $\\vec{j}$"
   ]
  },
  {
   "cell_type": "markdown",
   "id": "quick-oregon",
   "metadata": {},
   "source": [
    "$$dI = \\vec{j}d\\vec{S}$$"
   ]
  },
  {
   "cell_type": "markdown",
   "id": "fuzzy-eclipse",
   "metadata": {},
   "source": [
    "Natomiast napięcie wyrazimy przy pomocy natężenie pola elektrycznego $\\vec{E}$"
   ]
  },
  {
   "cell_type": "markdown",
   "id": "sticky-decline",
   "metadata": {},
   "source": [
    "$$dU = \\vec{E}d\\vec{l}$$"
   ]
  },
  {
   "cell_type": "markdown",
   "id": "informed-madonna",
   "metadata": {},
   "source": [
    "Stąd:"
   ]
  },
  {
   "cell_type": "markdown",
   "id": "jewish-albuquerque",
   "metadata": {},
   "source": [
    "$$\\vec{j}d\\vec{S} = \\frac{1}{R}\\vec{E}d\\vec{l}$$"
   ]
  },
  {
   "cell_type": "markdown",
   "id": "another-atmosphere",
   "metadata": {},
   "source": [
    "Jeśli wybierzemy przekrój $dS$ prostopadle do kierunku płynącego prądu i podstawimy jako $\\frac{1}{R}$"
   ]
  },
  {
   "cell_type": "markdown",
   "id": "fixed-wrong",
   "metadata": {},
   "source": [
    "$$\\frac{1}{R} = σ\\frac{dS}{dl}$$"
   ]
  },
  {
   "cell_type": "markdown",
   "id": "hairy-chapel",
   "metadata": {},
   "source": [
    "dostaniemy"
   ]
  },
  {
   "cell_type": "markdown",
   "id": "personalized-commitment",
   "metadata": {},
   "source": [
    "$$\\vec{j}=σ\\vec{E}$$"
   ]
  },
  {
   "cell_type": "markdown",
   "id": "motivated-chair",
   "metadata": {},
   "source": [
    "Widzimy tutaj, że gęstość prądu jest powiązana z natężeniem pola elektrycznego w przewodniku."
   ]
  },
  {
   "cell_type": "markdown",
   "id": "southeast-granny",
   "metadata": {},
   "source": [
    "<font color='red'>**??????????????????**</font> "
   ]
  },
  {
   "cell_type": "markdown",
   "id": "capable-penalty",
   "metadata": {},
   "source": [
    "# Równanie główne \n",
    "[[1]](#bib1)"
   ]
  },
  {
   "cell_type": "markdown",
   "id": "norwegian-malawi",
   "metadata": {},
   "source": [
    "Rozpatrzmy układ szeregowy z jednym oczkiem, źródłem prądu i trzema elementami pasywnymi: opornikiem, cewką oraz kondensatorem. \n",
    "\n",
    "Korzystając z **drugiego prawa Kirchhoffa**, dzięki któremu wiemy, że całkowity spadek napięcia w obwodzie zamkniętym równy jest przyłożonej sile elektromotorycznej, możemy napisać:"
   ]
  },
  {
   "cell_type": "markdown",
   "id": "supreme-designation",
   "metadata": {},
   "source": [
    "$$U_R + U_L + U_C = {\\mathcal {E}}(t).$$"
   ]
  },
  {
   "cell_type": "markdown",
   "id": "elementary-sister",
   "metadata": {},
   "source": [
    "Spadek napięcia $U_R$ na oporniku to według **prawa Ohma** iloczyn natężenia prądu $I$ oraz oporu $R$, stąd \n"
   ]
  },
  {
   "cell_type": "markdown",
   "id": "raised-fence",
   "metadata": {},
   "source": [
    "$$U_R = RI.$$"
   ]
  },
  {
   "cell_type": "markdown",
   "id": "peripheral-default",
   "metadata": {},
   "source": [
    "Według **prawa Faradaya** spadek napięcia na cewce to iloczyn jej indukcyjności $L$ i prędkości zmian prądu w czasie $\\frac{dI}{dt}$, dlatego mamy "
   ]
  },
  {
   "cell_type": "markdown",
   "id": "requested-mediterranean",
   "metadata": {},
   "source": [
    "$$U_L = L\\frac{dI}{dt}.$$"
   ]
  },
  {
   "cell_type": "markdown",
   "id": "present-qatar",
   "metadata": {},
   "source": [
    "Natomiast spadek napięcia na kondensatorze to iloraz ładunku kondensatora $q$ i jego pojemności $C$, stąd mamy"
   ]
  },
  {
   "cell_type": "markdown",
   "id": "lucky-language",
   "metadata": {},
   "source": [
    "$$U_C=\\frac{Q}{C}.$$"
   ]
  },
  {
   "cell_type": "markdown",
   "id": "knowing-orbit",
   "metadata": {},
   "source": [
    "Nasze równanie $U_R + U_L + U_C = {\\mathcal {E}}(t)$ możemy zapisać zatem jako"
   ]
  },
  {
   "cell_type": "markdown",
   "id": "pressed-master",
   "metadata": {},
   "source": [
    "$$L\\frac{dI}{dt} + RI + \\frac{Q}{C} = {\\mathcal {E}}.$$"
   ]
  },
  {
   "cell_type": "markdown",
   "id": "guilty-hungarian",
   "metadata": {},
   "source": [
    "Wiemy, że zależność natężenia to ładunku kondensatora zapisujemy $I=\\frac{dQ}{dt}$, stąd różniczkując obustronnie względem $t$ dostaniemy"
   ]
  },
  {
   "cell_type": "markdown",
   "id": "bridal-detective",
   "metadata": {},
   "source": [
    "$$L\\frac{d^2}{dt^2}I(t)+R\\frac{d}{dt}I(t)+\\frac{1}{C}I(t)=\\frac{d}{dt}{\\mathcal {E}}(t).$$"
   ]
  },
  {
   "cell_type": "markdown",
   "id": "later-hawaii",
   "metadata": {},
   "source": [
    "\n"
   ]
  },
  {
   "cell_type": "code",
   "execution_count": null,
   "id": "alike-major",
   "metadata": {},
   "outputs": [],
   "source": []
  },
  {
   "cell_type": "code",
   "execution_count": null,
   "id": "grand-dryer",
   "metadata": {},
   "outputs": [],
   "source": []
  },
  {
   "cell_type": "code",
   "execution_count": null,
   "id": "homeless-peripheral",
   "metadata": {},
   "outputs": [],
   "source": []
  },
  {
   "cell_type": "code",
   "execution_count": null,
   "id": "amber-homeless",
   "metadata": {},
   "outputs": [],
   "source": []
  },
  {
   "cell_type": "markdown",
   "id": "olive-coupon",
   "metadata": {},
   "source": [
    "# Rozwiązanie analityczne równania"
   ]
  },
  {
   "cell_type": "markdown",
   "id": "improved-beginning",
   "metadata": {},
   "source": [
    "Rozważymy przypadek, gdzie siła elektromotoryczna będzie prostą funkcją okresową, np. ${\\mathcal {E}}(t)=U_0 \\cos(\\omega t)$. Oznacza to, że mamy do czynienia z klasycznym przypadkiem prądu przemiennego. Zaniedbujemy na razie kwestię przesunięcia w fazie napięcia źródła, gdyż to nie jest tak istotne dla całości rozważania. Równanie ma wtedy postać\n",
    "\n",
    "$$L\\frac{d^2}{dt^2}I(t)+R\\frac{d}{dt}I(t)+\\frac{1}{C}I(t)=-U_0\\omega \\sin(\\omega t),$$\n",
    "\n",
    "gdyż ${\\mathcal {E}}'(t) = (U_0 \\cos(\\omega t))'=-U_0\\omega \\sin(\\omega t).$"
   ]
  },
  {
   "cell_type": "markdown",
   "id": "smaller-korean",
   "metadata": {},
   "source": [
    "### Rozwiązania zanikające  \n",
    "[[2]](#bib2)"
   ]
  },
  {
   "cell_type": "markdown",
   "id": "dominant-hepatitis",
   "metadata": {},
   "source": [
    "Na początku znajdujemy rozwiązania układu jednorodnego\n",
    "$$L\\frac{d^2I}{dt^2}+R\\frac{dI}{dt}+\\frac{I}{C}=0.$$"
   ]
  },
  {
   "cell_type": "markdown",
   "id": "christian-compact",
   "metadata": {},
   "source": [
    "Nasz wielomian charakterystyczny będzie postaci\n",
    "$$L\\lambda^2+R\\lambda+\\frac{1}{C}=0.$$\n",
    "\n",
    "$$\\Delta = R^2 - \\frac{4L}{C};$$\n",
    "$$\\lambda_{1,2} = \\frac{-R\\pm \\sqrt{R^2 - \\frac{4L}{C}}}{2L}.$$\n",
    "\n",
    "Możemy użyć uproszczonych zmiennych $\\alpha = \\frac{R}{2L}$ oraz $\\omega_0 = \\frac{1}{\\sqrt{LC}}$. Wtedy \n",
    "\n",
    "$$\\lambda_{1,2} = -\\alpha \\pm \\sqrt{\\alpha^2-\\omega_0^2}.$$\n"
   ]
  },
  {
   "cell_type": "markdown",
   "id": "broke-scholar",
   "metadata": {},
   "source": [
    "*  Gdy $\\Delta < 0 \\iff \\omega_0 > \\alpha$ (tłumienie słabe) rozwiązanie ogólne równania to\n",
    "\n",
    "$$I(t) = e^{-\\alpha t}(C_1 \\cos(\\sqrt{\\omega_0^2-\\alpha^2}\\,t)+C_2 \\sin(\\sqrt{\\omega_0^2-\\alpha^2}\\, t)).$$\n",
    "\n",
    "* Gdy $\\Delta = 0 \\iff \\omega_0 = \\alpha$ rozwiązanie ogólne ma postać\n",
    "\n",
    "$$I(t) = C_1 e^{-\\alpha t} + C_2 t e^{-\\alpha t}.$$\n",
    "\n",
    "\n",
    "* Gdy $\\Delta > 0 \\iff \\omega_0 < \\alpha$ (tłumienie silne) otrzymujemy rozwiązanie\n",
    "\n",
    "$$I(t) = C_1 e^{-\\alpha + \\sqrt{\\alpha^2-\\omega_0^2} t} + C_2 e^{-\\alpha - \\sqrt{\\alpha^2-\\omega_0^2} t}.$$\n"
   ]
  },
  {
   "cell_type": "markdown",
   "id": "arranged-decade",
   "metadata": {},
   "source": [
    "### Rozwiązania \"stanu stabilnego\""
   ]
  },
  {
   "cell_type": "markdown",
   "id": "complimentary-baghdad",
   "metadata": {},
   "source": [
    "Następnie szukamy funkcji $\\varphi(t)$ - liniowo niezależnego rozwiązania układu niejednorodnego. Stosujemy metodę przewidywania.\n",
    "\n",
    "Niech \n",
    "\n",
    "$$\\varphi(t) = D_1 \\cos(\\omega t) + D_2 \\sin(\\omega t),$$\n",
    "\n",
    "$$\\varphi ' (t)=\\omega(-D_1 \\sin(\\omega t) + D_2\\cos(\\omega t)),$$\n",
    "\n",
    "$$\\varphi '' (t) = \\omega^2 (-D_1 \\cos(\\omega t)-D_2\\sin(\\omega t)).$$\n",
    "\n",
    "Po podstawieniu do bazowego równania otrzymujemy\n",
    "\n",
    "$$(-D_1 L \\omega^2 + D_2 R \\omega + \\frac{D_1}{C})\\cos(\\omega t ) + (-D_2 L \\omega^2 - D_1 R \\omega + \\frac{D_2}{C})\\sin(\\omega t) = - U_0\\omega \\sin(\\omega t),$$\n",
    "\n",
    "dlatego\n",
    "\n",
    "$$\n",
    "\\left\\{\n",
    "    \\begin{array}\\\\\n",
    "        -D_1 L \\omega^2 + D_2 R \\omega + \\frac{D_1}{C} = 0\\\\\n",
    "        -D_2 L \\omega^2 - D_1 R \\omega + \\frac{D_2}{C} = -U_0 \\omega\n",
    "    \\end{array}.\n",
    "\\right.\n",
    "$$\n",
    "Ostatecznie \n",
    "$$\n",
    "\\left\\{\n",
    "    \\begin{array}\\\\\n",
    "        D_1 = U_0\\omega\\frac{R\\omega}{R^2\\omega^2+(L\\omega^2-\\frac{1}{C})^2}\\\\\n",
    "        D_2 = U_0\\omega\\frac{L\\omega^2-\\frac{1}{C}}{R^2\\omega^2+(L\\omega^2-\\frac{1}{C})^2}\n",
    "    \\end{array}.\n",
    "\\right.\n",
    "$$\n",
    "\n",
    "Równie dobrze [[3]](#bib3) można jednak zastosować zapis\n",
    "\n",
    "$$\\varphi(t) = A \\cos(\\omega t - \\theta).$$\n",
    "\n",
    "Znajdujemy zatem amplitudę i przesunięcie fazowe, prosto wyprowadzając zależności $A = \\sqrt{D_1^2+D_2^2}$ i $\\theta = \\arctan{\\frac{D_2}{D_1}}$. Zakładamy przy okazji, że $\\omega>0$, bo zerowe nie da żadnych ciekawych efektów, a ujemne jest równoznaczne z przesunięciem w fazie źródła (kosinus akurat w ogóle się by nie zmienił). Łatwiej będzie zatem analizować zachowanie układu pisząc\n",
    "\n",
    "$$\\varphi(t) = \\frac{U_0}{\\sqrt{R^2+(L\\omega-\\frac{1}{C\\omega })^2}} \\cos(\\omega t - \\arctan{(\\frac{L\\omega}{R}-\\frac{1}{RC\\omega})}).$$\n",
    "\n",
    "W bardziej klasycznej formie można to przedstawić jako\n",
    "\n",
    "$$\\varphi(t) = \\frac{\\omega}{L}\\cdot\\frac{U_0}{\\sqrt{4\\alpha^2\\omega^2+(\\omega_0^2-\\omega^2 })^2} \\cos(\\omega t - \\arctan{(\\frac{2\\alpha\\omega}{\\omega_0^2-\\omega^2}}).$$"
   ]
  },
  {
   "cell_type": "markdown",
   "id": "limited-indonesian",
   "metadata": {},
   "source": [
    "### Ogólne rozwiązania"
   ]
  },
  {
   "cell_type": "markdown",
   "id": "brazilian-proxy",
   "metadata": {},
   "source": [
    "I rozwiązania ogólne układów niejednorodnych to odpowiednio dla wskazanych przypadków [[2]](#bib2):\n",
    "\n",
    "* $I(t) = e^{-\\alpha t}(C_1 \\cos(\\sqrt{\\omega_0^2-\\alpha^2}\\,t)+C_2 \\sin(\\sqrt{\\omega_0^2-\\alpha^2}\\, t)) + \\frac{\\omega}{L}\\cdot\\frac{U_0}{\\sqrt{4\\alpha^2\\omega^2+(\\omega_0^2-\\omega^2 })^2} \\cos(\\omega t - \\arctan{(\\frac{2\\alpha\\omega}{\\omega_0^2-\\omega^2}}),$\n",
    "\n",
    "* $I(t) = C_1 e^{-\\alpha t} + C_2 t e^{-\\alpha t} + \\frac{\\omega}{L}\\cdot\\frac{U_0}{\\sqrt{4\\alpha^2\\omega^2+(\\omega_0^2-\\omega^2 })^2} \\cos(\\omega t - \\arctan{(\\frac{2\\alpha\\omega}{\\omega_0^2-\\omega^2}}),$\n",
    "\n",
    "* $I(t) = I(t) = C_1 e^{-\\alpha + \\sqrt{\\alpha^2-\\omega_0^2}\\,t} + C_2 e^{-\\alpha - \\sqrt{\\alpha^2-\\omega_0^2}\\,t} + \\frac{\\omega}{L}\\cdot\\frac{U_0}{\\sqrt{4\\alpha^2\\omega^2+(\\omega_0^2-\\omega^2 })^2} \\cos(\\omega t - \\arctan{(\\frac{2\\alpha\\omega}{\\omega_0^2-\\omega^2}}).$\n",
    "\n",
    "Stałe $C_1, C_2$ wyznaczamy na podstawie warunków początkowych $I(0), \\frac{dI}{dt}(0)$."
   ]
  },
  {
   "cell_type": "markdown",
   "id": "prerequisite-jewel",
   "metadata": {},
   "source": [
    "# Częstotliwość rezonansowa"
   ]
  },
  {
   "cell_type": "markdown",
   "id": "spiritual-rebate",
   "metadata": {},
   "source": [
    "Jeżeli przyjrzymy się rozwiązaniom, wyraźnie widać, że ich pierwsze człony zawsze wygasają (choć dla małego parametru $\\alpha$ w pierwszym przypadku, nie następuje to szybko). Można natomiast zauważyć, że od charakterystyki elementów składowych **RLC** oraz **źródła prądu** zależy amplituda ostatniego członu. Możemy postarać się znaleźć częstotliwość źródła prądu przemiennego, dla którego następuje rezonans - amplituda jest maksymalna."
   ]
  },
  {
   "cell_type": "markdown",
   "id": "cardiovascular-sullivan",
   "metadata": {},
   "source": [
    "Zapiszmy jeszcze raz\n",
    "\n",
    "$$A = \\frac{U_0}{\\sqrt{R^2+(L\\omega-\\frac{1}{C\\omega })^2}}.$$\n",
    "\n",
    "Chcemy znaleźć ekstremum, więc policzymy pochodną i przyrównamy ją do zera. Powyżej użyta jest pierwsza z podanych postaci funkcji, gdyż dla niej łatwiej jest liczyć pochodną.\n",
    "\n",
    "$$\\frac{dA}{d\\omega} = \\frac{U_0 L^2(\\frac{1}{(CL)^2 \\omega^3}-\\omega) }{(\\sqrt{R^2+(L\\omega-\\frac{1}{C\\omega })^2})^3}=0 \\iff \\omega=\\frac{1}{\\sqrt{LC}}=\\omega_0$$\n",
    "\n",
    "\n",
    "Otrzymujemy zatem potencjalne ekstremum w punkcie\n",
    "\n",
    "$$\\omega_r =\\frac{1}{\\sqrt{LC}}.$$\n",
    "\n",
    "Badając punkty wokół tego $\\omega_r$ okazuje się, że to istotnie maksimum [[4]](#bib4).\n"
   ]
  },
  {
   "cell_type": "markdown",
   "id": "suspected-mailman",
   "metadata": {},
   "source": [
    "Szukana częstotliwość rezonansowa źródła to zatem ostatecznie\n",
    "\n",
    "$$f_r =\\frac{1}{2\\pi\\sqrt{LC}}.$$\n"
   ]
  },
  {
   "cell_type": "markdown",
   "id": "equipped-cuisine",
   "metadata": {},
   "source": [
    "### Wizualizacja zjawiska"
   ]
  },
  {
   "cell_type": "markdown",
   "id": "curious-junior",
   "metadata": {},
   "source": [
    "Poniżej możemy zobaczyć jak w zależności od częstotliwości źródła wygląda opisana amplituda. Przyjmujemy jakieś parametry układu i rzeczwiście widzimy w wyznaczonym punkcie wyraźny rezonans."
   ]
  },
  {
   "cell_type": "code",
   "execution_count": 8,
   "id": "expanded-granny",
   "metadata": {},
   "outputs": [],
   "source": [
    "def resonance_plot(R, L, C, U0, title):\n",
    "    rng_bounds = 0.01, 1 / np.sqrt(L1 * C1) * 4\n",
    "\n",
    "    omega_rng = np.arange(*rng_bounds, 0.5)\n",
    "\n",
    "    def amplitude_res(omega, R, L, C, U0):\n",
    "        amplitude = U0 / np.sqrt(R ** 2 + (L * omega - 1 / (C * omega)) ** 2)\n",
    "        return amplitude\n",
    "\n",
    "    def res_freq_an(R, L, C, U0):\n",
    "        freq = 1 / (2 * np.pi * np.sqrt(L * C))\n",
    "        return freq\n",
    "\n",
    "    plt.figure()\n",
    "    plt.subplot()\n",
    "    plt.plot(\n",
    "        omega_rng / 2 / np.pi,\n",
    "        amplitude_res(omega_rng, R, L, C, U0),\n",
    "        color=\"C0\",\n",
    "        label=\"Natężenie\",\n",
    "    )\n",
    "    plt.axvline(\n",
    "        x=res_freq_an(R, L, C, U0), color=\"C1\", label=\"Wyznaczona częstotliwość $f_r$\"\n",
    "    )\n",
    "    plt.xlabel(\"Częstotliwość źródła [Hz]\")\n",
    "    plt.ylabel(\"Amplituda niegasnącego rozwiązania [A]\")\n",
    "    plt.title(title)\n",
    "    plt.grid()\n",
    "    plt.legend()\n",
    "    plt.show()"
   ]
  },
  {
   "cell_type": "code",
   "execution_count": 9,
   "id": "native-aviation",
   "metadata": {},
   "outputs": [
    {
     "data": {
      "image/png": "[encoded data removed]",
      "text/plain": [
       "<Figure size 432x288 with 1 Axes>"
      ]
     },
     "metadata": {
      "needs_background": "light"
     },
     "output_type": "display_data"
    }
   ],
   "source": [
    "R1, L1, C1, U01 = 20, 1, 0.001, 30\n",
    "resonance_plot(R1, L1, C1, U01, \"Ustalone drgania układu RLC z kosinusoidalnym źródłem\")"
   ]
  },
  {
   "cell_type": "markdown",
   "id": "million-label",
   "metadata": {},
   "source": [
    "<center> Wykres 1."
   ]
  },
  {
   "cell_type": "markdown",
   "id": "freelance-invitation",
   "metadata": {},
   "source": [
    "Można patrzeć na ten wykres jako na opis drgań już po upływie pewnego czasu - kiedy rozwiązania układu jednorodnego wygasną."
   ]
  },
  {
   "cell_type": "markdown",
   "id": "monetary-population",
   "metadata": {},
   "source": [
    "Gdy spróbujemy manipulować danymi, kształty wykresu ulegną zmianie, ale zawsze wyznaczony punkt będzie punktem rezonansu."
   ]
  },
  {
   "cell_type": "code",
   "execution_count": 10,
   "id": "norman-enlargement",
   "metadata": {},
   "outputs": [
    {
     "data": {
      "image/png": "[encoded data removed]",
      "text/plain": [
       "<Figure size 432x288 with 1 Axes>"
      ]
     },
     "metadata": {
      "needs_background": "light"
     },
     "output_type": "display_data"
    }
   ],
   "source": [
    "R2, L2, C2, U02 = 100, 1, 0.01, 30\n",
    "resonance_plot(\n",
    "    R2,\n",
    "    L2,\n",
    "    C2,\n",
    "    U02,\n",
    "    \"Ustalone drgania układu RLC z kosinusoidalnym źródłem - przypadek 2.\",\n",
    ")"
   ]
  },
  {
   "cell_type": "markdown",
   "id": "wound-question",
   "metadata": {},
   "source": [
    "<center> Wykres 2."
   ]
  },
  {
   "cell_type": "markdown",
   "id": "directed-antenna",
   "metadata": {},
   "source": [
    "# Metody numeryczne\n",
    "[[5]](#bib5)"
   ]
  },
  {
   "cell_type": "markdown",
   "id": "living-significance",
   "metadata": {},
   "source": [
    "Metody numeryczne rozwiązują problemy korzystając z operacji na liczbach. Wyniki są zazwyczaj przybliżone, lecz może je określić sami, ze względu na nasze potrzeby."
   ]
  },
  {
   "cell_type": "code",
   "execution_count": 11,
   "id": "horizontal-advantage",
   "metadata": {},
   "outputs": [],
   "source": [
    "def preparation(R, L, C, U0, omega, phase):\n",
    "    def form(t, i, i_prim):\n",
    "        return -(U0 * omega * np.sin(omega * t + phase) + R * i_prim + i / C) / L\n",
    "\n",
    "    return form"
   ]
  },
  {
   "cell_type": "markdown",
   "id": "everyday-corpus",
   "metadata": {},
   "source": [
    "# Metoda Eulera \n",
    "[[6]](#bib6)"
   ]
  },
  {
   "cell_type": "markdown",
   "id": "afraid-frequency",
   "metadata": {},
   "source": [
    "Metoda Eulera pomaga rozwiązywać równania różniczkowe. Opiera się na interpretacji geometrycznej równania.\n",
    "Została ona ujawniona w 1768 roku w podręczniku Leonharda Eulera pt. Institutiones calculi differentialis, czyli „Kształcenie w rachunku różniczkowym”."
   ]
  },
  {
   "cell_type": "markdown",
   "id": "presidential-scanner",
   "metadata": {},
   "source": [
    "Zastępujemy pochodną różnicą skończoną"
   ]
  },
  {
   "cell_type": "markdown",
   "id": "unexpected-prerequisite",
   "metadata": {},
   "source": [
    "Dla $h>0$ mamy:"
   ]
  },
  {
   "cell_type": "markdown",
   "id": "palestinian-behalf",
   "metadata": {},
   "source": [
    "$$t_n = h n$$"
   ]
  },
  {
   "cell_type": "markdown",
   "id": "choice-catalog",
   "metadata": {},
   "source": [
    "Wykorzystując sieczną przybliżamy styczną"
   ]
  },
  {
   "cell_type": "markdown",
   "id": "portuguese-house",
   "metadata": {},
   "source": [
    "$$y'(t_n) \\approx \\delta_+ y(t_n) = \\frac{y(t_n+h)-y(t_n)}{h}$$"
   ]
  },
  {
   "cell_type": "markdown",
   "id": "sized-breach",
   "metadata": {},
   "source": [
    "Stąd uzyskujemy również"
   ]
  },
  {
   "cell_type": "markdown",
   "id": "structured-conference",
   "metadata": {},
   "source": [
    "$$t_n+h = nh + h = \\left(n+1\\right)h = t_{n+1}$$"
   ]
  },
  {
   "cell_type": "markdown",
   "id": "varied-insurance",
   "metadata": {},
   "source": [
    "Otrzymujemy"
   ]
  },
  {
   "cell_type": "markdown",
   "id": "developmental-jacket",
   "metadata": {},
   "source": [
    "$$y'(t_n)\\approx \\frac{y(t_{n})-y(t_{n-1})}{h}$$"
   ]
  },
  {
   "cell_type": "markdown",
   "id": "experienced-giant",
   "metadata": {},
   "source": [
    "Dość często przydatna może okazać się metoda Eulera w przód (ang. forward Euler method- explicit)"
   ]
  },
  {
   "cell_type": "markdown",
   "id": "cleared-benjamin",
   "metadata": {},
   "source": [
    "$$f(t_{n-1}, y(t_{n-1}))\\approx \\frac{y(t_n) - y(t_{n-1})}{h}$$"
   ]
  },
  {
   "cell_type": "markdown",
   "id": "brief-creator",
   "metadata": {},
   "source": [
    "Podstawiając  $yn$  jako numeryczne przybliżenie  $y(tn)$  otrzymujemy"
   ]
  },
  {
   "cell_type": "markdown",
   "id": "disabled-carroll",
   "metadata": {},
   "source": [
    "$$y_n = y_{n-1} + h f(t_{n-1}, y_{n-1})$$"
   ]
  },
  {
   "cell_type": "markdown",
   "id": "checked-merchant",
   "metadata": {},
   "source": [
    "W naszym algorytmie rozszerzamy metodę do równań drugiego rzędu."
   ]
  },
  {
   "cell_type": "markdown",
   "id": "colonial-scientist",
   "metadata": {},
   "source": [
    "Analogicznie do powyższej metody różniczkowania, funkcja oblicza też kolejne całki."
   ]
  },
  {
   "cell_type": "code",
   "execution_count": 12,
   "id": "split-brass",
   "metadata": {},
   "outputs": [],
   "source": [
    "def euler_second(t0, tn, dt, init_condit, form):\n",
    "    grid_t = np.arange(t0, tn, dt)\n",
    "    grid_i = grid_t.copy()\n",
    "    grid_i.fill(0)\n",
    "    grid_i_prim = grid_t.copy()\n",
    "    grid_i_prim.fill(0)\n",
    "    grid_q = grid_t.copy()\n",
    "    grid_q.fill(0)\n",
    "\n",
    "    grid_i[0] = init_condit[0]\n",
    "    grid_i_prim[0] = init_condit[1]\n",
    "    grid_q[0] = init_condit[2]\n",
    "\n",
    "    for ind, t in enumerate(grid_t[1:]):\n",
    "        ind += 1\n",
    "        prev_i = grid_i[ind - 1]\n",
    "        prev_i_prim = grid_i_prim[ind - 1]\n",
    "        grid_i_prim[ind] = prev_i_prim + dt * form(t, prev_i, prev_i_prim)\n",
    "        grid_i[ind] = prev_i + dt * prev_i_prim\n",
    "        grid_q[ind] = grid_q[ind - 1] + dt * grid_i[ind]\n",
    "\n",
    "    return grid_t, grid_i, grid_i_prim, grid_q"
   ]
  },
  {
   "cell_type": "markdown",
   "id": "animal-recipe",
   "metadata": {},
   "source": [
    "# Metoda MidPoint\n",
    "[[7]](#bib7)"
   ]
  },
  {
   "cell_type": "markdown",
   "id": "royal-probability",
   "metadata": {},
   "source": [
    "Metoda Midpoint zostałą opracowana na podstwie metody Eulera, \n",
    "aczkolwiek zastosowano w niej rozwinęcie w szereg Taylora z dokładnością o jeden krok wiecej niż w metodzie Eulera.\n",
    "W metodzie tej nachylenie jest szacowane na podstawie wartości 'y' w środku przedziału."
   ]
  },
  {
   "cell_type": "markdown",
   "id": "recovered-continent",
   "metadata": {},
   "source": [
    "Postępujemy na początku tak samo jak w metodzie Eulera"
   ]
  },
  {
   "cell_type": "markdown",
   "id": "respiratory-suspect",
   "metadata": {},
   "source": [
    "Aczkolwiek nasz forma przybierze troszkę inną postać"
   ]
  },
  {
   "cell_type": "markdown",
   "id": "pressed-gathering",
   "metadata": {},
   "source": [
    "$$f(t_{n-1}+\\frac{h}{2}, y_{n-1}+\\frac{h}{2}f(t_{n-1},y_{n-1}))\\approx \\frac{y(t_n) - y(t_{n-1})}{h}$$"
   ]
  },
  {
   "cell_type": "markdown",
   "id": "possible-brake",
   "metadata": {},
   "source": [
    "Tutaj również rozszerzamu naszą metodę do równań drugiego rzędu."
   ]
  },
  {
   "cell_type": "markdown",
   "id": "overhead-anaheim",
   "metadata": {},
   "source": [
    "Analogicznie do powyższej metody różniczkowania, funkcja oblicza też kolejne całki."
   ]
  },
  {
   "cell_type": "code",
   "execution_count": 13,
   "id": "divided-coordinate",
   "metadata": {},
   "outputs": [],
   "source": [
    "def midpoint_second(t0, tn, dt, init_condit, form):\n",
    "    grid_t = np.arange(t0, tn, dt)\n",
    "    grid_i = grid_t.copy()\n",
    "    grid_i.fill(0)\n",
    "    grid_i_prim = grid_t.copy()\n",
    "    grid_i_prim.fill(0)\n",
    "    grid_q = grid_t.copy()\n",
    "    grid_q.fill(0)\n",
    "\n",
    "    grid_i[0] = init_condit[0]\n",
    "    grid_i_prim[0] = init_condit[1]\n",
    "    grid_q[0] = init_condit[2]\n",
    "\n",
    "    for ind, t in enumerate(grid_t[1:]):\n",
    "        ind += 1\n",
    "        prev_i = grid_i[ind - 1]\n",
    "        prev_i_prim = grid_i_prim[ind - 1]\n",
    "        prev_q = grid_q[ind - 1]\n",
    "\n",
    "        grid_i_prim[ind] = prev_i_prim + dt * form(\n",
    "            t + dt / 2,\n",
    "            prev_i + dt * prev_i_prim / 2,\n",
    "            prev_i_prim + dt * form(t, prev_i, prev_i_prim) / 2,\n",
    "        )\n",
    "\n",
    "        grid_i[ind] = prev_i + dt * (prev_i_prim + grid_i_prim[ind]) / 2\n",
    "        grid_q[ind] = prev_q + dt * (prev_i + grid_i[ind]) / 2\n",
    "\n",
    "    return grid_t, grid_i, grid_i_prim, grid_q"
   ]
  },
  {
   "cell_type": "code",
   "execution_count": 14,
   "id": "vulnerable-arizona",
   "metadata": {},
   "outputs": [],
   "source": [
    "R = 200\n",
    "L = 10\n",
    "C = 0.0001\n",
    "U0 = 400\n",
    "omega = 40\n",
    "phase = 1/2"
   ]
  },
  {
   "cell_type": "code",
   "execution_count": 20,
   "id": "cubic-folks",
   "metadata": {},
   "outputs": [],
   "source": [
    "dobra_metoda = midpoint_second(\n",
    "    0, 2, 0.001, (0, 0, 0), preparation(10, 1, 0.0001, 30, 40, -np.pi / 2)\n",
    ")"
   ]
  },
  {
   "cell_type": "code",
   "execution_count": 28,
   "id": "scientific-conversion",
   "metadata": {},
   "outputs": [
    {
     "data": {
      "image/png": "[encoded data removed]",
      "text/plain": [
       "<Figure size 432x288 with 1 Axes>"
      ]
     },
     "metadata": {
      "needs_background": "light"
     },
     "output_type": "display_data"
    }
   ],
   "source": [
    "plt.plot(dobra_metoda[0], 1000*dobra_metoda[1])\n",
    "plt.plot(dobra_metoda[0], R*dobra_metoda[1])\n",
    "plt.grid()\n",
    "plt.show()"
   ]
  },
  {
   "cell_type": "markdown",
   "id": "experimental-jerusalem",
   "metadata": {},
   "source": [
    "Wykres przedstawia spadek napięcia na oporniku. Jak widzimy, nie ma tutaj przesunięcia w fazie pomiędzy natężeniem, a napięciem."
   ]
  },
  {
   "cell_type": "markdown",
   "id": "quarterly-backing",
   "metadata": {},
   "source": [
    "Mnożymy tabelę natężeń przez 1000 dla lepszej widoczności wykresu."
   ]
  },
  {
   "cell_type": "code",
   "execution_count": 27,
   "id": "through-jason",
   "metadata": {},
   "outputs": [
    {
     "data": {
      "image/png": "[encoded data removed]",
      "text/plain": [
       "<Figure size 432x288 with 1 Axes>"
      ]
     },
     "metadata": {
      "needs_background": "light"
     },
     "output_type": "display_data"
    }
   ],
   "source": [
    "plt.plot(dobra_metoda[0], 1000*dobra_metoda[1])\n",
    "plt.plot(dobra_metoda[0], L*dobra_metoda[2])\n",
    "plt.grid()\n",
    "plt.show()"
   ]
  },
  {
   "cell_type": "code",
   "execution_count": null,
   "id": "subjective-fantasy",
   "metadata": {},
   "outputs": [],
   "source": [
    "Wykres przedstawia spadek napięcia na cewce. Natomiast tutaj widzimy to przesunięcie w fazie, ponieważ we wzorze używamy pochodnej natężenia."
   ]
  },
  {
   "cell_type": "markdown",
   "id": "impaired-think",
   "metadata": {},
   "source": [
    "Mnożymy tabelę natężeń przez 1000 dla lepszej widoczności wykresu."
   ]
  },
  {
   "cell_type": "code",
   "execution_count": 29,
   "id": "opposite-opinion",
   "metadata": {},
   "outputs": [
    {
     "data": {
      "image/png": "[encoded data removed]",
      "text/plain": [
       "<Figure size 432x288 with 1 Axes>"
      ]
     },
     "metadata": {
      "needs_background": "light"
     },
     "output_type": "display_data"
    }
   ],
   "source": [
    "plt.plot(dobra_metoda[0], 1000*dobra_metoda[1])\n",
    "plt.plot(dobra_metoda[0], dobra_metoda[3]/C)\n",
    "plt.grid()\n",
    "plt.show()"
   ]
  },
  {
   "cell_type": "markdown",
   "id": "gothic-cambridge",
   "metadata": {},
   "source": [
    "Wykres przedstawia spadek napięcia na kondesatorze. Tutaj również mamy przesunięcie w fazie, ponieważ we wzorze używamy całki natężenia."
   ]
  },
  {
   "cell_type": "markdown",
   "id": "controlled-scottish",
   "metadata": {},
   "source": [
    "Mnożymy tabelę natężeń przez 1000 dla lepszej widoczności wykresu."
   ]
  },
  {
   "cell_type": "markdown",
   "id": "excess-chase",
   "metadata": {},
   "source": [
    "# PRÓBY"
   ]
  },
  {
   "cell_type": "code",
   "execution_count": 20,
   "id": "instructional-intro",
   "metadata": {},
   "outputs": [
    {
     "data": {
      "application/javascript": [
       "\n",
       "            setTimeout(function() {\n",
       "                var nbb_cell_id = 20;\n",
       "                var nbb_unformatted_code = \"adam = euler_second(\\n    0, 1, 0.001, (0, 0, 0), preparation(10, 1, 0.0001, 30, 40, -np.pi / 2)\\n)\\newa = midpoint_second(\\n    0, 1, 0.001, (0, 0, 0), preparation(10, 1, 0.0001, 30, 40, -np.pi / 2)\\n)\\nmateo = euler_second(\\n    0, 1, 0.0001, (0, 0, 0), preparation(10, 1, 0.000015, 5, 2*np.pi*40, -np.pi / 2)\\n)\";\n",
       "                var nbb_formatted_code = \"adam = euler_second(\\n    0, 1, 0.001, (0, 0, 0), preparation(10, 1, 0.0001, 30, 40, -np.pi / 2)\\n)\\newa = midpoint_second(\\n    0, 1, 0.001, (0, 0, 0), preparation(10, 1, 0.0001, 30, 40, -np.pi / 2)\\n)\\nmateo = euler_second(\\n    0, 1, 0.0001, (0, 0, 0), preparation(10, 1, 0.000015, 5, 2 * np.pi * 40, -np.pi / 2)\\n)\";\n",
       "                var nbb_cells = Jupyter.notebook.get_cells();\n",
       "                for (var i = 0; i < nbb_cells.length; ++i) {\n",
       "                    if (nbb_cells[i].input_prompt_number == nbb_cell_id) {\n",
       "                        if (nbb_cells[i].get_text() == nbb_unformatted_code) {\n",
       "                             nbb_cells[i].set_text(nbb_formatted_code);\n",
       "                        }\n",
       "                        break;\n",
       "                    }\n",
       "                }\n",
       "            }, 500);\n",
       "            "
      ],
      "text/plain": [
       "<IPython.core.display.Javascript object>"
      ]
     },
     "metadata": {},
     "output_type": "display_data"
    }
   ],
   "source": [
    "adam = euler_second(\n",
    "    0, 1, 0.001, (0, 0, 0), preparation(10, 1, 0.0001, 30, 40, -np.pi / 2)\n",
    ")\n",
    "ewa = midpoint_second(\n",
    "    0, 1, 0.001, (0, 0, 0), preparation(10, 1, 0.0001, 30, 40, -np.pi / 2)\n",
    ")\n",
    "mateo = euler_second(\n",
    "    0, 1, 0.0001, (0, 0, 0), preparation(10, 1, 0.000015, 5, 2 * np.pi * 40, -np.pi / 2)\n",
    ")"
   ]
  },
  {
   "cell_type": "code",
   "execution_count": null,
   "id": "arctic-pakistan",
   "metadata": {},
   "outputs": [],
   "source": []
  },
  {
   "cell_type": "code",
   "execution_count": 33,
   "id": "occasional-elder",
   "metadata": {},
   "outputs": [
    {
     "data": {
      "image/png": "[encoded data removed]",
      "text/plain": [
       "<Figure size 432x288 with 1 Axes>"
      ]
     },
     "metadata": {
      "needs_background": "light"
     },
     "output_type": "display_data"
    },
    {
     "data": {
      "application/javascript": [
       "\n",
       "            setTimeout(function() {\n",
       "                var nbb_cell_id = 33;\n",
       "                var nbb_unformatted_code = \"# plt.plot(*adam)\\n\\nplt.plot(ewa[0], ewa[1])\\n# plt.plot(ewa[0], ewa[2])\\nplt.plot(ewa[0], ewa[3])\\n\\nplt.grid()\\nplt.show()\";\n",
       "                var nbb_formatted_code = \"# plt.plot(*adam)\\n\\nplt.plot(ewa[0], ewa[1])\\n# plt.plot(ewa[0], ewa[2])\\nplt.plot(ewa[0], ewa[3])\\n\\nplt.grid()\\nplt.show()\";\n",
       "                var nbb_cells = Jupyter.notebook.get_cells();\n",
       "                for (var i = 0; i < nbb_cells.length; ++i) {\n",
       "                    if (nbb_cells[i].input_prompt_number == nbb_cell_id) {\n",
       "                        if (nbb_cells[i].get_text() == nbb_unformatted_code) {\n",
       "                             nbb_cells[i].set_text(nbb_formatted_code);\n",
       "                        }\n",
       "                        break;\n",
       "                    }\n",
       "                }\n",
       "            }, 500);\n",
       "            "
      ],
      "text/plain": [
       "<IPython.core.display.Javascript object>"
      ]
     },
     "metadata": {},
     "output_type": "display_data"
    }
   ],
   "source": [
    "# plt.plot(*adam)\n",
    "\n",
    "plt.plot(ewa[0], ewa[1])\n",
    "# plt.plot(ewa[0], ewa[2])\n",
    "plt.plot(ewa[0], ewa[3])\n",
    "\n",
    "plt.grid()\n",
    "plt.show()"
   ]
  },
  {
   "cell_type": "code",
   "execution_count": 10,
   "id": "sixth-platinum",
   "metadata": {},
   "outputs": [],
   "source": [
    "def cum_diff(arr1, arr2):\n",
    "    diffs = arr1 - arr2[::10]\n",
    "    abs_diffs = np.abs(diffs)\n",
    "    return np.cumsum(abs_diffs)"
   ]
  },
  {
   "cell_type": "code",
   "execution_count": null,
   "id": "directed-mauritius",
   "metadata": {},
   "outputs": [],
   "source": [
    "plt.plot(adam[0], cum_diff(adam[1], mateo[1]))\n",
    "plt.plot(adam[0], cum_diff(ewa[1], mateo[1]))"
   ]
  },
  {
   "cell_type": "markdown",
   "id": "desperate-visibility",
   "metadata": {},
   "source": [
    "# Bibliografia"
   ]
  },
  {
   "cell_type": "markdown",
   "id": "wrong-highway",
   "metadata": {},
   "source": [
    "<a id=\"bib1\">[1]</a> M. Gewert; Z. Skoczylas, *Równania różniczkowe liniowe drugiego rzędu*, [w:] *Równania różniczkowe zwyczajne*, Wrocław 2016, s. 92-94.\n",
    "\n",
    "<a id=\"bib2\">[2]</a> Ł. Płociniczak, *Ordinary differential equations in science and technology*, 2020, s. 50-57; 62.\n",
    "\n",
    "<a id=\"bib3\">[3]</a> Tamże, s. 63.\n",
    "\n",
    "<a id=\"bib4\">[4]</a> M. Szulim, *Rezonans w obwodach elektrycznych*, *Wykład: Obwody i sygnały 1*. [dostęp: 01.01.2022]. Dostęp w Internecie: https://zoise.wel.wat.edu.pl/dydaktyka/WEL%20niestacjonarne/Wyklady/07_Rezonans_obwod_elektryczny.pdf.\n",
    "\n",
    "...71-73; 85-105.\n",
    "\n",
    "<a id=\"bib5\">[5]</a> https://pl.wikipedia.org/wiki/Metoda_numeryczna\n",
    "\n",
    "<a id=\"bib6\">[6]</a> https://pl.wikipedia.org/wiki/Metoda_Eulera \n",
    "\n",
    "John C. Butcher, Numerical Methods for Ordinary Differential Equations, New York: John Wiley & Sons, 2003\n",
    "\n",
    "<a id=\"bib7\">[7]</a> http://www.if.pw.edu.pl/~agatka/numeryczne/wyklad_08.pdf; https://edu.pjwstk.edu.pl/wyklady/fiz/scb/Wyklad2/w2.xml\n",
    "\n",
    "Süli & Mayers 2003, p. 328"
   ]
  },
  {
   "cell_type": "markdown",
   "id": "spectacular-combat",
   "metadata": {},
   "source": [
    "Schematy układów zostały wygenerowane z pomocą strony Circuit Diagram. [dostęp: 01.01.2022]. Dostęp w Internecie: https://www.circuit-diagram.org/editor/."
   ]
  }
 ],
 "metadata": {
  "kernelspec": {
   "display_name": "Python 3",
   "language": "python",
   "name": "python3"
  },
  "language_info": {
   "codemirror_mode": {
    "name": "ipython",
    "version": 3
   },
   "file_extension": ".py",
   "mimetype": "text/x-python",
   "name": "python",
   "nbconvert_exporter": "python",
   "pygments_lexer": "ipython3",
   "version": "3.8.2"
  }
 },
 "nbformat": 4,
 "nbformat_minor": 5
}
