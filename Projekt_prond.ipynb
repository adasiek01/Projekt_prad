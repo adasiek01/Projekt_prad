{
 "cells": [
  {
   "cell_type": "markdown",
   "id": "proprietary-fleece",
   "metadata": {},
   "source": [
    "**Równania Różniczkowe w Technice** - W13, PWr\n",
    "\n",
    "Projekt - semestr zimowy 2021/22\n",
    "\n",
    "**Temat:** *Charakterystyka przepływu prądu w układach RLC*.\n",
    "\n",
    "**Autorzy:**\n",
    "\n",
    "* Adam Kawałko, 262329\n",
    "* Mateusz Machaj, 262288"
   ]
  },
  {
   "cell_type": "markdown",
   "id": "authorized-reduction",
   "metadata": {},
   "source": [
    "# Opis"
   ]
  },
  {
   "cell_type": "markdown",
   "id": "exceptional-attendance",
   "metadata": {},
   "source": [
    "W naszej pracy przedstawimy działanie obwodu RLC, rozwiążemy równanie różniczkowe na kilka sposobów.\n",
    "Będziemy korzystać z praw Kirchhoffa, prawa Ohma oraz prawa Faradaya. Postaramy się także zaprezentować eksperyment.\n",
    "Uzyskane wyniki przedstawimy na wykresach oraz w podsumowaniu."
   ]
  },
  {
   "cell_type": "code",
   "execution_count": 2,
   "id": "moving-category",
   "metadata": {
    "tags": []
   },
   "outputs": [
    {
     "ename": "ModuleNotFoundError",
     "evalue": "No module named 'nb_black'",
     "output_type": "error",
     "traceback": [
      "\u001b[1;31m---------------------------------------------------------------------------\u001b[0m",
      "\u001b[1;31mModuleNotFoundError\u001b[0m                       Traceback (most recent call last)",
      "\u001b[1;32m<ipython-input-2-50ec12b286b4>\u001b[0m in \u001b[0;36m<module>\u001b[1;34m\u001b[0m\n\u001b[1;32m----> 1\u001b[1;33m \u001b[0mget_ipython\u001b[0m\u001b[1;33m(\u001b[0m\u001b[1;33m)\u001b[0m\u001b[1;33m.\u001b[0m\u001b[0mrun_line_magic\u001b[0m\u001b[1;33m(\u001b[0m\u001b[1;34m'load_ext'\u001b[0m\u001b[1;33m,\u001b[0m \u001b[1;34m'nb_black'\u001b[0m\u001b[1;33m)\u001b[0m\u001b[1;33m\u001b[0m\u001b[1;33m\u001b[0m\u001b[0m\n\u001b[0m",
      "\u001b[1;32mc:\\users\\adam\\appdata\\local\\programs\\python\\python38-32\\lib\\site-packages\\IPython\\core\\interactiveshell.py\u001b[0m in \u001b[0;36mrun_line_magic\u001b[1;34m(self, magic_name, line, _stack_depth)\u001b[0m\n\u001b[0;32m   2334\u001b[0m                 \u001b[0mkwargs\u001b[0m\u001b[1;33m[\u001b[0m\u001b[1;34m'local_ns'\u001b[0m\u001b[1;33m]\u001b[0m \u001b[1;33m=\u001b[0m \u001b[0mself\u001b[0m\u001b[1;33m.\u001b[0m\u001b[0mget_local_scope\u001b[0m\u001b[1;33m(\u001b[0m\u001b[0mstack_depth\u001b[0m\u001b[1;33m)\u001b[0m\u001b[1;33m\u001b[0m\u001b[1;33m\u001b[0m\u001b[0m\n\u001b[0;32m   2335\u001b[0m             \u001b[1;32mwith\u001b[0m \u001b[0mself\u001b[0m\u001b[1;33m.\u001b[0m\u001b[0mbuiltin_trap\u001b[0m\u001b[1;33m:\u001b[0m\u001b[1;33m\u001b[0m\u001b[1;33m\u001b[0m\u001b[0m\n\u001b[1;32m-> 2336\u001b[1;33m                 \u001b[0mresult\u001b[0m \u001b[1;33m=\u001b[0m \u001b[0mfn\u001b[0m\u001b[1;33m(\u001b[0m\u001b[1;33m*\u001b[0m\u001b[0margs\u001b[0m\u001b[1;33m,\u001b[0m \u001b[1;33m**\u001b[0m\u001b[0mkwargs\u001b[0m\u001b[1;33m)\u001b[0m\u001b[1;33m\u001b[0m\u001b[1;33m\u001b[0m\u001b[0m\n\u001b[0m\u001b[0;32m   2337\u001b[0m             \u001b[1;32mreturn\u001b[0m \u001b[0mresult\u001b[0m\u001b[1;33m\u001b[0m\u001b[1;33m\u001b[0m\u001b[0m\n\u001b[0;32m   2338\u001b[0m \u001b[1;33m\u001b[0m\u001b[0m\n",
      "\u001b[1;32m<decorator-gen-58>\u001b[0m in \u001b[0;36mload_ext\u001b[1;34m(self, module_str)\u001b[0m\n",
      "\u001b[1;32mc:\\users\\adam\\appdata\\local\\programs\\python\\python38-32\\lib\\site-packages\\IPython\\core\\magic.py\u001b[0m in \u001b[0;36m<lambda>\u001b[1;34m(f, *a, **k)\u001b[0m\n\u001b[0;32m    185\u001b[0m     \u001b[1;31m# but it's overkill for just that one bit of state.\u001b[0m\u001b[1;33m\u001b[0m\u001b[1;33m\u001b[0m\u001b[1;33m\u001b[0m\u001b[0m\n\u001b[0;32m    186\u001b[0m     \u001b[1;32mdef\u001b[0m \u001b[0mmagic_deco\u001b[0m\u001b[1;33m(\u001b[0m\u001b[0marg\u001b[0m\u001b[1;33m)\u001b[0m\u001b[1;33m:\u001b[0m\u001b[1;33m\u001b[0m\u001b[1;33m\u001b[0m\u001b[0m\n\u001b[1;32m--> 187\u001b[1;33m         \u001b[0mcall\u001b[0m \u001b[1;33m=\u001b[0m \u001b[1;32mlambda\u001b[0m \u001b[0mf\u001b[0m\u001b[1;33m,\u001b[0m \u001b[1;33m*\u001b[0m\u001b[0ma\u001b[0m\u001b[1;33m,\u001b[0m \u001b[1;33m**\u001b[0m\u001b[0mk\u001b[0m\u001b[1;33m:\u001b[0m \u001b[0mf\u001b[0m\u001b[1;33m(\u001b[0m\u001b[1;33m*\u001b[0m\u001b[0ma\u001b[0m\u001b[1;33m,\u001b[0m \u001b[1;33m**\u001b[0m\u001b[0mk\u001b[0m\u001b[1;33m)\u001b[0m\u001b[1;33m\u001b[0m\u001b[1;33m\u001b[0m\u001b[0m\n\u001b[0m\u001b[0;32m    188\u001b[0m \u001b[1;33m\u001b[0m\u001b[0m\n\u001b[0;32m    189\u001b[0m         \u001b[1;32mif\u001b[0m \u001b[0mcallable\u001b[0m\u001b[1;33m(\u001b[0m\u001b[0marg\u001b[0m\u001b[1;33m)\u001b[0m\u001b[1;33m:\u001b[0m\u001b[1;33m\u001b[0m\u001b[1;33m\u001b[0m\u001b[0m\n",
      "\u001b[1;32mc:\\users\\adam\\appdata\\local\\programs\\python\\python38-32\\lib\\site-packages\\IPython\\core\\magics\\extension.py\u001b[0m in \u001b[0;36mload_ext\u001b[1;34m(self, module_str)\u001b[0m\n\u001b[0;32m     31\u001b[0m         \u001b[1;32mif\u001b[0m \u001b[1;32mnot\u001b[0m \u001b[0mmodule_str\u001b[0m\u001b[1;33m:\u001b[0m\u001b[1;33m\u001b[0m\u001b[1;33m\u001b[0m\u001b[0m\n\u001b[0;32m     32\u001b[0m             \u001b[1;32mraise\u001b[0m \u001b[0mUsageError\u001b[0m\u001b[1;33m(\u001b[0m\u001b[1;34m'Missing module name.'\u001b[0m\u001b[1;33m)\u001b[0m\u001b[1;33m\u001b[0m\u001b[1;33m\u001b[0m\u001b[0m\n\u001b[1;32m---> 33\u001b[1;33m         \u001b[0mres\u001b[0m \u001b[1;33m=\u001b[0m \u001b[0mself\u001b[0m\u001b[1;33m.\u001b[0m\u001b[0mshell\u001b[0m\u001b[1;33m.\u001b[0m\u001b[0mextension_manager\u001b[0m\u001b[1;33m.\u001b[0m\u001b[0mload_extension\u001b[0m\u001b[1;33m(\u001b[0m\u001b[0mmodule_str\u001b[0m\u001b[1;33m)\u001b[0m\u001b[1;33m\u001b[0m\u001b[1;33m\u001b[0m\u001b[0m\n\u001b[0m\u001b[0;32m     34\u001b[0m \u001b[1;33m\u001b[0m\u001b[0m\n\u001b[0;32m     35\u001b[0m         \u001b[1;32mif\u001b[0m \u001b[0mres\u001b[0m \u001b[1;33m==\u001b[0m \u001b[1;34m'already loaded'\u001b[0m\u001b[1;33m:\u001b[0m\u001b[1;33m\u001b[0m\u001b[1;33m\u001b[0m\u001b[0m\n",
      "\u001b[1;32mc:\\users\\adam\\appdata\\local\\programs\\python\\python38-32\\lib\\site-packages\\IPython\\core\\extensions.py\u001b[0m in \u001b[0;36mload_extension\u001b[1;34m(self, module_str)\u001b[0m\n\u001b[0;32m     78\u001b[0m             \u001b[1;32mif\u001b[0m \u001b[0mmodule_str\u001b[0m \u001b[1;32mnot\u001b[0m \u001b[1;32min\u001b[0m \u001b[0msys\u001b[0m\u001b[1;33m.\u001b[0m\u001b[0mmodules\u001b[0m\u001b[1;33m:\u001b[0m\u001b[1;33m\u001b[0m\u001b[1;33m\u001b[0m\u001b[0m\n\u001b[0;32m     79\u001b[0m                 \u001b[1;32mwith\u001b[0m \u001b[0mprepended_to_syspath\u001b[0m\u001b[1;33m(\u001b[0m\u001b[0mself\u001b[0m\u001b[1;33m.\u001b[0m\u001b[0mipython_extension_dir\u001b[0m\u001b[1;33m)\u001b[0m\u001b[1;33m:\u001b[0m\u001b[1;33m\u001b[0m\u001b[1;33m\u001b[0m\u001b[0m\n\u001b[1;32m---> 80\u001b[1;33m                     \u001b[0mmod\u001b[0m \u001b[1;33m=\u001b[0m \u001b[0mimport_module\u001b[0m\u001b[1;33m(\u001b[0m\u001b[0mmodule_str\u001b[0m\u001b[1;33m)\u001b[0m\u001b[1;33m\u001b[0m\u001b[1;33m\u001b[0m\u001b[0m\n\u001b[0m\u001b[0;32m     81\u001b[0m                     \u001b[1;32mif\u001b[0m \u001b[0mmod\u001b[0m\u001b[1;33m.\u001b[0m\u001b[0m__file__\u001b[0m\u001b[1;33m.\u001b[0m\u001b[0mstartswith\u001b[0m\u001b[1;33m(\u001b[0m\u001b[0mself\u001b[0m\u001b[1;33m.\u001b[0m\u001b[0mipython_extension_dir\u001b[0m\u001b[1;33m)\u001b[0m\u001b[1;33m:\u001b[0m\u001b[1;33m\u001b[0m\u001b[1;33m\u001b[0m\u001b[0m\n\u001b[0;32m     82\u001b[0m                         print((\"Loading extensions from {dir} is deprecated. \"\n",
      "\u001b[1;32mc:\\users\\adam\\appdata\\local\\programs\\python\\python38-32\\lib\\importlib\\__init__.py\u001b[0m in \u001b[0;36mimport_module\u001b[1;34m(name, package)\u001b[0m\n\u001b[0;32m    125\u001b[0m                 \u001b[1;32mbreak\u001b[0m\u001b[1;33m\u001b[0m\u001b[1;33m\u001b[0m\u001b[0m\n\u001b[0;32m    126\u001b[0m             \u001b[0mlevel\u001b[0m \u001b[1;33m+=\u001b[0m \u001b[1;36m1\u001b[0m\u001b[1;33m\u001b[0m\u001b[1;33m\u001b[0m\u001b[0m\n\u001b[1;32m--> 127\u001b[1;33m     \u001b[1;32mreturn\u001b[0m \u001b[0m_bootstrap\u001b[0m\u001b[1;33m.\u001b[0m\u001b[0m_gcd_import\u001b[0m\u001b[1;33m(\u001b[0m\u001b[0mname\u001b[0m\u001b[1;33m[\u001b[0m\u001b[0mlevel\u001b[0m\u001b[1;33m:\u001b[0m\u001b[1;33m]\u001b[0m\u001b[1;33m,\u001b[0m \u001b[0mpackage\u001b[0m\u001b[1;33m,\u001b[0m \u001b[0mlevel\u001b[0m\u001b[1;33m)\u001b[0m\u001b[1;33m\u001b[0m\u001b[1;33m\u001b[0m\u001b[0m\n\u001b[0m\u001b[0;32m    128\u001b[0m \u001b[1;33m\u001b[0m\u001b[0m\n\u001b[0;32m    129\u001b[0m \u001b[1;33m\u001b[0m\u001b[0m\n",
      "\u001b[1;32mc:\\users\\adam\\appdata\\local\\programs\\python\\python38-32\\lib\\importlib\\_bootstrap.py\u001b[0m in \u001b[0;36m_gcd_import\u001b[1;34m(name, package, level)\u001b[0m\n",
      "\u001b[1;32mc:\\users\\adam\\appdata\\local\\programs\\python\\python38-32\\lib\\importlib\\_bootstrap.py\u001b[0m in \u001b[0;36m_find_and_load\u001b[1;34m(name, import_)\u001b[0m\n",
      "\u001b[1;32mc:\\users\\adam\\appdata\\local\\programs\\python\\python38-32\\lib\\importlib\\_bootstrap.py\u001b[0m in \u001b[0;36m_find_and_load_unlocked\u001b[1;34m(name, import_)\u001b[0m\n",
      "\u001b[1;31mModuleNotFoundError\u001b[0m: No module named 'nb_black'"
     ]
    }
   ],
   "source": [
    "%load_ext nb_black"
   ]
  },
  {
   "cell_type": "markdown",
   "id": "dangerous-criterion",
   "metadata": {},
   "source": [
    "Import bibliotek *Python*:"
   ]
  },
  {
   "cell_type": "code",
   "execution_count": null,
   "id": "modular-elephant",
   "metadata": {},
   "outputs": [],
   "source": [
    "import numpy as np\n",
    "import matplotlib.pyplot as plt\n",
    "from IPython.core.display import HTML"
   ]
  },
  {
   "cell_type": "markdown",
   "id": "numerous-grill",
   "metadata": {},
   "source": [
    "Format wyświetlanych grafik:"
   ]
  },
  {
   "cell_type": "code",
   "execution_count": null,
   "id": "infinite-material",
   "metadata": {},
   "outputs": [],
   "source": [
    "HTML(\"\"\"\n",
    "<style>\n",
    ".output_png {\n",
    "    display: table-cell;\n",
    "    text-align: center;\n",
    "    vertical-align: middle;\n",
    "}\n",
    "</style>\n",
    "\"\"\")"
   ]
  },
  {
   "cell_type": "markdown",
   "id": "dramatic-exposure",
   "metadata": {},
   "source": [
    "# Obwód RLC"
   ]
  },
  {
   "cell_type": "markdown",
   "id": "innocent-customs",
   "metadata": {},
   "source": [
    "Co to jest **RLC**? \n",
    "**RLC** to skrót dla obwodów elektrycznych, w których skład wchodzą tylko trzy elementy pasywne: \n",
    "- rezystor (**R**),\n",
    "- cewka (**L**),\n",
    "- kondensator (**C**)."
   ]
  },
  {
   "cell_type": "markdown",
   "id": "prompt-management",
   "metadata": {},
   "source": [
    "Elementy **RLC** mogą być połączone na różne sposoby, mogą też występować obwody bez cewki **L** lub bez kondensatora **C**. Nas jednak będą interesowały najciekawsze układy - z wszystkimi trzema rodzajami elementów."
   ]
  },
  {
   "cell_type": "markdown",
   "id": "criminal-warrior",
   "metadata": {},
   "source": [
    "Pochylimy się głównie nad ich podłączeniem szeregowym w jednym oczku, ale warto zwrócić uwagę, że konfiguracji może być wiele - na przykład równoległe podłączenia oraz układy złożone z wielu oczek. Do badania charakterystyki użyjemy też innych elementów, takich jak przełącznik czy bezpiecznik."
   ]
  },
  {
   "cell_type": "markdown",
   "id": "understanding-payroll",
   "metadata": {},
   "source": [
    "![Rysunek 1. Szeregowy układ RLC](images/rlc_1.png) <center> Rysunek 1. Szeregowy układ RLC"
   ]
  },
  {
   "cell_type": "markdown",
   "id": "korean-portrait",
   "metadata": {},
   "source": [
    "<font color='red'>**??????????????????**</font> "
   ]
  },
  {
   "cell_type": "markdown",
   "id": "balanced-saturn",
   "metadata": {},
   "source": [
    "# Prawo Ohma"
   ]
  },
  {
   "cell_type": "markdown",
   "id": "tested-fifth",
   "metadata": {},
   "source": [
    "Z **prawa Ohma** wiemy, że natężenie $I$ jest wprost proporcjonalne do napięcia $U$:"
   ]
  },
  {
   "cell_type": "markdown",
   "id": "faced-version",
   "metadata": {},
   "source": [
    "$$U = IR.$$"
   ]
  },
  {
   "cell_type": "markdown",
   "id": "accurate-evidence",
   "metadata": {},
   "source": [
    "Możemy również przejść do równania różniczkowego. Będziemy mieli do czynienia z przewodnikiem o długości $dl$ oraz powierzchni przekroju $dS$"
   ]
  },
  {
   "cell_type": "markdown",
   "id": "hybrid-colorado",
   "metadata": {},
   "source": [
    "$$dI = \\frac{1}{R}dU$$"
   ]
  },
  {
   "cell_type": "markdown",
   "id": "hazardous-genre",
   "metadata": {},
   "source": [
    "Teraz możemy wyrazić natężenie prądu używając jego gęstości $\\vec{j}$"
   ]
  },
  {
   "cell_type": "markdown",
   "id": "outside-turner",
   "metadata": {},
   "source": [
    "$$dI = \\vec{j}d\\vec{S}$$"
   ]
  },
  {
   "cell_type": "markdown",
   "id": "light-development",
   "metadata": {},
   "source": [
    "Natomiast napięcie wyrazimy przy pomocy natężenie pola elektrycznego $\\vec{E}$"
   ]
  },
  {
   "cell_type": "markdown",
   "id": "incredible-ordinance",
   "metadata": {},
   "source": [
    "$$dU = \\vec{E}d\\vec{l}$$"
   ]
  },
  {
   "cell_type": "markdown",
   "id": "beginning-collar",
   "metadata": {},
   "source": [
    "Stąd:"
   ]
  },
  {
   "cell_type": "markdown",
   "id": "charged-nitrogen",
   "metadata": {},
   "source": [
    "$$\\vec{j}d\\vec{S} = \\frac{1}{R}\\vec{E}d\\vec{l}$$"
   ]
  },
  {
   "cell_type": "markdown",
   "id": "backed-advocate",
   "metadata": {},
   "source": [
    "Jeśli wybierzemy przekrój $dS$ prostopadle do kierunku płynącego prądu i podstawimy jako $\\frac{1}{R}$"
   ]
  },
  {
   "cell_type": "markdown",
   "id": "peaceful-coffee",
   "metadata": {},
   "source": [
    "$$\\frac{1}{R} = σ\\frac{dS}{dl}$$"
   ]
  },
  {
   "cell_type": "markdown",
   "id": "sustainable-continuity",
   "metadata": {},
   "source": [
    "dostaniemy"
   ]
  },
  {
   "cell_type": "markdown",
   "id": "interesting-ecuador",
   "metadata": {},
   "source": [
    "$$\\vec{j}=σ\\vec{E}$$"
   ]
  },
  {
   "cell_type": "markdown",
   "id": "painful-potato",
   "metadata": {},
   "source": [
    "Widzimy tutaj, że gęstość prądu jest powiązana z natężeniem pola elektrycznego w przewodniku."
   ]
  },
  {
   "cell_type": "markdown",
   "id": "naval-miniature",
   "metadata": {},
   "source": [
    "<font color='red'>**??????????????????**</font> "
   ]
  },
  {
   "cell_type": "markdown",
   "id": "simple-inspiration",
   "metadata": {},
   "source": [
    "# Równanie główne \n",
    "[[1]](#bib1)"
   ]
  },
  {
   "cell_type": "markdown",
   "id": "other-crisis",
   "metadata": {},
   "source": [
    "Rozpatrzmy układ szeregowy z jednym oczkiem, źródłem prądu i trzema elementami pasywnymi: opornikiem, cewką oraz kondensatorem. \n",
    "\n",
    "Korzystając z **drugiego prawa Kirchhoffa**, dzięki któremu wiemy, że całkowity spadek napięcia w obwodzie zamkniętym równy jest przyłożonej sile elektromotorycznej, możemy napisać:"
   ]
  },
  {
   "cell_type": "markdown",
   "id": "spoken-sweet",
   "metadata": {},
   "source": [
    "$$U_R + U_L + U_C = {\\mathcal {E}}(t).$$"
   ]
  },
  {
   "cell_type": "markdown",
   "id": "structural-conservation",
   "metadata": {},
   "source": [
    "Spadek napięcia $U_R$ na oporniku to według **prawa Ohma** iloczyn natężenia prądu $I$ oraz oporu $R$, stąd \n"
   ]
  },
  {
   "cell_type": "markdown",
   "id": "ethical-avatar",
   "metadata": {},
   "source": [
    "$$U_R = RI.$$"
   ]
  },
  {
   "cell_type": "markdown",
   "id": "devoted-award",
   "metadata": {},
   "source": [
    "Według **prawa Faradaya** spadek napięcia na cewce to iloczyn jej indukcyjności $L$ i prędkości zmian prądu w czasie $\\frac{dI}{dt}$, dlatego mamy "
   ]
  },
  {
   "cell_type": "markdown",
   "id": "sunset-proposition",
   "metadata": {},
   "source": [
    "$$U_L = L\\frac{dI}{dt}.$$"
   ]
  },
  {
   "cell_type": "markdown",
   "id": "sealed-model",
   "metadata": {},
   "source": [
    "Natomiast spadek napięcia na kondensatorze to iloraz ładunku kondensatora $q$ i jego pojemności $C$, stąd mamy"
   ]
  },
  {
   "cell_type": "markdown",
   "id": "premier-commitment",
   "metadata": {},
   "source": [
    "$$U_C=\\frac{Q}{C}.$$"
   ]
  },
  {
   "cell_type": "markdown",
   "id": "encouraging-psychology",
   "metadata": {},
   "source": [
    "Nasze równanie $U_R + U_L + U_C = {\\mathcal {E}}(t)$ możemy zapisać zatem jako"
   ]
  },
  {
   "cell_type": "markdown",
   "id": "professional-richards",
   "metadata": {},
   "source": [
    "$$L\\frac{dI}{dt} + RI + \\frac{Q}{C} = {\\mathcal {E}}.$$"
   ]
  },
  {
   "cell_type": "markdown",
   "id": "anonymous-hollywood",
   "metadata": {},
   "source": [
    "Wiemy, że zależność natężenia to ładunku kondensatora zapisujemy $I=\\frac{dQ}{dt}$, stąd różniczkując obustronnie względem $t$ dostaniemy"
   ]
  },
  {
   "cell_type": "markdown",
   "id": "lined-title",
   "metadata": {},
   "source": [
    "$$L\\frac{d^2}{dt^2}I(t)+R\\frac{d}{dt}I(t)+\\frac{1}{C}I(t)=\\frac{d}{dt}{\\mathcal {E}}(t).$$"
   ]
  },
  {
   "cell_type": "markdown",
   "id": "sudden-abraham",
   "metadata": {},
   "source": [
    "\n"
   ]
  },
  {
   "cell_type": "markdown",
   "id": "later-amplifier",
   "metadata": {},
   "source": [
    "# Rozwiązanie analityczne równania"
   ]
  },
  {
   "cell_type": "markdown",
   "id": "prescribed-drilling",
   "metadata": {},
   "source": [
    "Rozważymy przypadek, gdzie siła elektromotoryczna będzie prostą funkcją okresową, np. ${\\mathcal {E}}(t)=U_0 \\cos(\\omega t)$. Oznacza to, że mamy do czynienia z klasycznym przypadkiem prądu przemiennego. Zaniedbujemy na razie kwestię przesunięcia w fazie napięcia źródła, gdyż to nie jest tak istotne dla całości rozważania. Równanie ma wtedy postać\n",
    "\n",
    "$$L\\frac{d^2}{dt^2}I(t)+R\\frac{d}{dt}I(t)+\\frac{1}{C}I(t)=-U_0\\omega \\sin(\\omega t),$$\n",
    "\n",
    "gdyż ${\\mathcal {E}}'(t) = (U_0 \\cos(\\omega t))'=-U_0\\omega \\sin(\\omega t).$"
   ]
  },
  {
   "cell_type": "markdown",
   "id": "round-notification",
   "metadata": {},
   "source": [
    "### Rozwiązania zanikające  \n",
    "[[2]](#bib2)"
   ]
  },
  {
   "cell_type": "markdown",
   "id": "fitted-eugene",
   "metadata": {},
   "source": [
    "Na początku znajdujemy rozwiązania układu jednorodnego\n",
    "$$L\\frac{d^2I}{dt^2}+R\\frac{dI}{dt}+\\frac{I}{C}=0.$$"
   ]
  },
  {
   "cell_type": "markdown",
   "id": "prerequisite-memorabilia",
   "metadata": {},
   "source": [
    "Nasz wielomian charakterystyczny będzie postaci\n",
    "$$L\\lambda^2+R\\lambda+\\frac{1}{C}=0.$$\n",
    "\n",
    "$$\\Delta = R^2 - \\frac{4L}{C};$$\n",
    "$$\\lambda_{1,2} = \\frac{-R\\pm \\sqrt{R^2 - \\frac{4L}{C}}}{2L}.$$\n",
    "\n",
    "Możemy użyć uproszczonych zmiennych $\\alpha = \\frac{R}{2L}$ oraz $\\omega_0 = \\frac{1}{\\sqrt{LC}}$. Wtedy \n",
    "\n",
    "$$\\lambda_{1,2} = -\\alpha \\pm \\sqrt{\\alpha^2-\\omega_0^2}.$$\n"
   ]
  },
  {
   "cell_type": "markdown",
   "id": "surprising-uganda",
   "metadata": {},
   "source": [
    "*  Gdy $\\Delta < 0 \\iff \\omega_0 > \\alpha$ (tłumienie słabe) rozwiązanie ogólne równania to\n",
    "\n",
    "$$I(t) = e^{-\\alpha t}(C_1 \\cos(\\sqrt{\\omega_0^2-\\alpha^2}\\,t)+C_2 \\sin(\\sqrt{\\omega_0^2-\\alpha^2}\\, t)).$$\n",
    "\n",
    "* Gdy $\\Delta = 0 \\iff \\omega_0 = \\alpha$ rozwiązanie ogólne ma postać\n",
    "\n",
    "$$I(t) = C_1 e^{-\\alpha t} + C_2 t e^{-\\alpha t}.$$\n",
    "\n",
    "\n",
    "* Gdy $\\Delta > 0 \\iff \\omega_0 < \\alpha$ (tłumienie silne) otrzymujemy rozwiązanie\n",
    "\n",
    "$$I(t) = C_1 e^{-\\alpha + \\sqrt{\\alpha^2-\\omega_0^2} t} + C_2 e^{-\\alpha - \\sqrt{\\alpha^2-\\omega_0^2} t}.$$\n"
   ]
  },
  {
   "cell_type": "markdown",
   "id": "developing-abortion",
   "metadata": {},
   "source": [
    "### Rozwiązania \"stanu stabilnego\""
   ]
  },
  {
   "cell_type": "markdown",
   "id": "removed-cursor",
   "metadata": {},
   "source": [
    "Następnie szukamy funkcji $\\varphi(t)$ - liniowo niezależnego rozwiązania układu niejednorodnego. Stosujemy metodę przewidywania.\n",
    "\n",
    "Niech \n",
    "\n",
    "$$\\varphi(t) = D_1 \\cos(\\omega t) + D_2 \\sin(\\omega t),$$\n",
    "\n",
    "$$\\varphi ' (t)=\\omega(-D_1 \\sin(\\omega t) + D_2\\cos(\\omega t)),$$\n",
    "\n",
    "$$\\varphi '' (t) = \\omega^2 (-D_1 \\cos(\\omega t)-D_2\\sin(\\omega t)).$$\n",
    "\n",
    "Po podstawieniu do bazowego równania otrzymujemy\n",
    "\n",
    "$$(-D_1 L \\omega^2 + D_2 R \\omega + \\frac{D_1}{C})\\cos(\\omega t ) + (-D_2 L \\omega^2 - D_1 R \\omega + \\frac{D_2}{C})\\sin(\\omega t) = - U_0\\omega \\sin(\\omega t),$$\n",
    "\n",
    "dlatego\n",
    "\n",
    "$$\n",
    "\\left\\{\n",
    "    \\begin{array}\\\\\n",
    "        -D_1 L \\omega^2 + D_2 R \\omega + \\frac{D_1}{C} = 0\\\\\n",
    "        -D_2 L \\omega^2 - D_1 R \\omega + \\frac{D_2}{C} = -U_0 \\omega\n",
    "    \\end{array}.\n",
    "\\right.\n",
    "$$\n",
    "Ostatecznie \n",
    "$$\n",
    "\\left\\{\n",
    "    \\begin{array}\\\\\n",
    "        D_1 = U_0\\omega\\frac{R\\omega}{R^2\\omega^2+(L\\omega^2-\\frac{1}{C})^2}\\\\\n",
    "        D_2 = U_0\\omega\\frac{L\\omega^2-\\frac{1}{C}}{R^2\\omega^2+(L\\omega^2-\\frac{1}{C})^2}\n",
    "    \\end{array}.\n",
    "\\right.\n",
    "$$\n",
    "\n",
    "Równie dobrze [[3]](#bib3) można jednak zastosować zapis\n",
    "\n",
    "$$\\varphi(t) = A \\cos(\\omega t - \\theta).$$\n",
    "\n",
    "Znajdujemy zatem amplitudę i przesunięcie fazowe, prosto wyprowadzając zależności $A = \\sqrt{D_1^2+D_2^2}$ i $\\theta = \\arctan{\\frac{D_2}{D_1}}$. Zakładamy przy okazji, że $\\omega>0$, bo zerowe nie da żadnych ciekawych efektów, a ujemne jest równoznaczne z przesunięciem w fazie źródła (kosinus akurat w ogóle się by nie zmienił). Łatwiej będzie zatem analizować zachowanie układu pisząc\n",
    "\n",
    "$$\\varphi(t) = \\frac{U_0}{\\sqrt{R^2+(L\\omega-\\frac{1}{C\\omega })^2}} \\cos(\\omega t - \\arctan{(\\frac{L\\omega}{R}-\\frac{1}{RC\\omega})}).$$\n",
    "\n",
    "W bardziej klasycznej formie można to przedstawić jako\n",
    "\n",
    "$$\\varphi(t) = \\frac{\\omega}{L}\\cdot\\frac{U_0}{\\sqrt{4\\alpha^2\\omega^2+(\\omega_0^2-\\omega^2 })^2} \\cos(\\omega t - \\arctan{(\\frac{2\\alpha\\omega}{\\omega_0^2-\\omega^2}}).$$"
   ]
  },
  {
   "cell_type": "markdown",
   "id": "finnish-billion",
   "metadata": {},
   "source": [
    "### Ogólne rozwiązania"
   ]
  },
  {
   "cell_type": "markdown",
   "id": "asian-condition",
   "metadata": {},
   "source": [
    "I rozwiązania ogólne układów niejednorodnych to odpowiednio dla wskazanych przypadków [[2]](#bib2):\n",
    "\n",
    "* $I(t) = e^{-\\alpha t}(C_1 \\cos(\\sqrt{\\omega_0^2-\\alpha^2}\\,t)+C_2 \\sin(\\sqrt{\\omega_0^2-\\alpha^2}\\, t)) + \\frac{\\omega}{L}\\cdot\\frac{U_0}{\\sqrt{4\\alpha^2\\omega^2+(\\omega_0^2-\\omega^2 })^2} \\cos(\\omega t - \\arctan{(\\frac{2\\alpha\\omega}{\\omega_0^2-\\omega^2}}),$\n",
    "\n",
    "* $I(t) = C_1 e^{-\\alpha t} + C_2 t e^{-\\alpha t} + \\frac{\\omega}{L}\\cdot\\frac{U_0}{\\sqrt{4\\alpha^2\\omega^2+(\\omega_0^2-\\omega^2 })^2} \\cos(\\omega t - \\arctan{(\\frac{2\\alpha\\omega}{\\omega_0^2-\\omega^2}}),$\n",
    "\n",
    "* $I(t) = I(t) = C_1 e^{-\\alpha + \\sqrt{\\alpha^2-\\omega_0^2}\\,t} + C_2 e^{-\\alpha - \\sqrt{\\alpha^2-\\omega_0^2}\\,t} + \\frac{\\omega}{L}\\cdot\\frac{U_0}{\\sqrt{4\\alpha^2\\omega^2+(\\omega_0^2-\\omega^2 })^2} \\cos(\\omega t - \\arctan{(\\frac{2\\alpha\\omega}{\\omega_0^2-\\omega^2}}).$\n",
    "\n",
    "Stałe $C_1, C_2$ wyznaczamy na podstawie warunków początkowych $I(0), \\frac{dI}{dt}(0)$."
   ]
  },
  {
   "cell_type": "markdown",
   "id": "hispanic-puzzle",
   "metadata": {},
   "source": [
    "# Częstotliwość rezonansowa"
   ]
  },
  {
   "cell_type": "markdown",
   "id": "english-january",
   "metadata": {},
   "source": [
    "Jeżeli przyjrzymy się rozwiązaniom, wyraźnie widać, że ich pierwsze człony zawsze wygasają (choć dla małego parametru $\\alpha$ w pierwszym przypadku, nie następuje to szybko). Można natomiast zauważyć, że od charakterystyki elementów składowych **RLC** oraz **źródła prądu** zależy amplituda ostatniego członu. Możemy postarać się znaleźć częstotliwość źródła prądu przemiennego, dla którego następuje rezonans - amplituda jest maksymalna."
   ]
  },
  {
   "cell_type": "markdown",
   "id": "fifth-auditor",
   "metadata": {},
   "source": [
    "Zapiszmy jeszcze raz\n",
    "\n",
    "$$A = \\frac{U_0}{\\sqrt{R^2+(L\\omega-\\frac{1}{C\\omega })^2}}.$$\n",
    "\n",
    "Chcemy znaleźć ekstremum, więc policzymy pochodną i przyrównamy ją do zera. Powyżej użyta jest pierwsza z podanych postaci funkcji, gdyż dla niej łatwiej jest liczyć pochodną.\n",
    "\n",
    "$$\\frac{dA}{d\\omega} = \\frac{U_0 L^2(\\frac{1}{(CL)^2 \\omega^3}-\\omega) }{(\\sqrt{R^2+(L\\omega-\\frac{1}{C\\omega })^2})^3}=0 \\iff \\omega=\\frac{1}{\\sqrt{LC}}=\\omega_0$$\n",
    "\n",
    "\n",
    "Otrzymujemy zatem potencjalne ekstremum w punkcie\n",
    "\n",
    "$$\\omega_r =\\frac{1}{\\sqrt{LC}}.$$\n",
    "\n",
    "Badając punkty wokół tego $\\omega_r$ okazuje się, że to istotnie maksimum [[4]](#bib4).\n"
   ]
  },
  {
   "cell_type": "markdown",
   "id": "centered-suffering",
   "metadata": {},
   "source": [
    "Szukana częstotliwość rezonansowa źródła to zatem ostatecznie\n",
    "\n",
    "$$f_r =\\frac{1}{2\\pi\\sqrt{LC}}.$$\n"
   ]
  },
  {
   "cell_type": "markdown",
   "id": "southeast-reputation",
   "metadata": {},
   "source": [
    "### Wizualizacja zjawiska"
   ]
  },
  {
   "cell_type": "markdown",
   "id": "interior-transsexual",
   "metadata": {},
   "source": [
    "Poniżej możemy zobaczyć jak w zależności od częstotliwości źródła wygląda opisana amplituda. Przyjmujemy jakieś parametry układu i rzeczwiście widzimy w wyznaczonym punkcie wyraźny rezonans."
   ]
  },
  {
   "cell_type": "code",
   "execution_count": null,
   "id": "rapid-occasions",
   "metadata": {},
   "outputs": [],
   "source": [
    "def resonance_plot(R, L, C, U0, title):\n",
    "    rng_bounds = 0.01, 1 / np.sqrt(L1 * C1) * 4\n",
    "\n",
    "    omega_rng = np.arange(*rng_bounds, 0.5)\n",
    "\n",
    "    def amplitude_res(omega, R, L, C, U0):\n",
    "        amplitude = U0 / np.sqrt(R ** 2 + (L * omega - 1 / (C * omega)) ** 2)\n",
    "        return amplitude\n",
    "\n",
    "    def res_freq_an(R, L, C, U0):\n",
    "        freq = 1 / (2 * np.pi * np.sqrt(L * C))\n",
    "        return freq\n",
    "\n",
    "    plt.figure()\n",
    "    plt.subplot()\n",
    "    plt.plot(omega_rng / 2 / np.pi, amplitude_res(omega_rng, R, L, C, U0), color='C0', label=\"Natężenie\")\n",
    "    plt.axvline(x=res_freq_an(R, L, C, U0), color='C1', label=\"Wyznaczona częstotliwość $f_r$\")\n",
    "    plt.xlabel('Częstotliwość źródła [Hz]')\n",
    "    plt.ylabel('Amplituda niegasnącego rozwiązania [A]')\n",
    "    plt.title(title)\n",
    "    plt.grid()\n",
    "    plt.legend()\n",
    "    plt.show()"
   ]
  },
  {
   "cell_type": "code",
   "execution_count": null,
   "id": "specified-motivation",
   "metadata": {},
   "outputs": [],
   "source": [
    "R1, L1, C1, U01 = 20, 1, 0.001, 30\n",
    "resonance_plot(R1, L1, C1, U01, 'Ustalone drgania układu RLC z kosinusoidalnym źródłem')"
   ]
  },
  {
   "cell_type": "markdown",
   "id": "varied-stanley",
   "metadata": {},
   "source": [
    "<center> Wykres 1."
   ]
  },
  {
   "cell_type": "markdown",
   "id": "focused-decision",
   "metadata": {},
   "source": [
    "Można patrzeć na ten wykres jako na opis drgań już po upływie pewnego czasu - kiedy rozwiązania układu jednorodnego wygasną."
   ]
  },
  {
   "cell_type": "markdown",
   "id": "republican-enhancement",
   "metadata": {},
   "source": [
    "Gdy spróbujemy manipulować danymi, kształty wykresu ulegną zmianie, ale zawsze wyznaczony punkt będzie punktem rezonansu."
   ]
  },
  {
   "cell_type": "code",
   "execution_count": null,
   "id": "distinct-lancaster",
   "metadata": {},
   "outputs": [],
   "source": [
    "R2, L2, C2, U02 = 100, 1, 0.01, 30\n",
    "resonance_plot(R2, L2, C2, U02, 'Ustalone drgania układu RLC z kosinusoidalnym źródłem - przypadek 2.')"
   ]
  },
  {
   "cell_type": "markdown",
   "id": "retired-settle",
   "metadata": {},
   "source": [
    "<center> Wykres 2."
   ]
  },
  {
   "cell_type": "code",
   "execution_count": null,
   "id": "satellite-peace",
   "metadata": {},
   "outputs": [],
   "source": []
  },
  {
   "cell_type": "markdown",
   "id": "supreme-brass",
   "metadata": {},
   "source": [
    "# Metody numeryczne\n",
    "[[5]](#bib5)"
   ]
  },
  {
   "cell_type": "markdown",
   "id": "neither-roommate",
   "metadata": {},
   "source": [
    "Metody numeryczne rozwiązują problemy korzystając z operacji na liczbach. Wyniki są zazwyczaj przybliżone, lecz może je określić sami, ze względu na nasze potrzeby."
   ]
  },
  {
   "cell_type": "code",
   "execution_count": null,
   "id": "adapted-panic",
   "metadata": {},
   "outputs": [],
   "source": [
    "def preparation(R, L, C, U0, omega, phase):\n",
    "    def form(t, i, i_prim):\n",
    "        return -(U0 * omega * np.sin(omega * t + phase) + R * i_prim + i / C) / L\n",
    "\n",
    "    return form"
   ]
  },
  {
   "cell_type": "markdown",
   "id": "forced-sender",
   "metadata": {},
   "source": [
    "# Metoda Eulera \n",
    "[[6]](#bib6)"
   ]
  },
  {
   "cell_type": "markdown",
   "id": "steady-gabriel",
   "metadata": {},
   "source": [
    "Metoda Eulera pomaga rozwiązywać równania różniczkowe. Opiera się na interpretacji geometrycznej równania.\n",
    "Została ona ujawniona w 1768 roku w podręczniku Leonharda Eulera pt. Institutiones calculi differentialis, czyli „Kształcenie w rachunku różniczkowym”."
   ]
  },
  {
   "cell_type": "code",
   "execution_count": null,
   "id": "chief-credits",
   "metadata": {},
   "outputs": [],
   "source": [
    "def euler_second(t0, tn, dt, init_condit, form):\n",
    "    grid_t = np.arange(t0, tn, dt)\n",
    "    grid_i = grid_t.copy()\n",
    "    grid_i.fill(0)\n",
    "    grid_i_prim = grid_t.copy()\n",
    "    grid_i_prim.fill(0)\n",
    "\n",
    "    grid_i[0] = init_condit[0]\n",
    "    grid_i_prim[0] = init_condit[1]\n",
    "\n",
    "    for ind, t in enumerate(grid_t[1:]):\n",
    "        prev_i = grid_i[ind - 1]\n",
    "        prev_i_prim = grid_i_prim[ind - 1]\n",
    "        grid_i_prim[ind] = prev_i_prim + dt * form(t, prev_i, prev_i_prim)\n",
    "        grid_i[ind] = prev_i + dt * prev_i_prim\n",
    "\n",
    "    return grid_t, grid_i"
   ]
  },
  {
   "cell_type": "markdown",
   "id": "apparent-finance",
   "metadata": {},
   "source": [
    "# Metoda MidPoint\n",
    "[[7]](#bib7)"
   ]
  },
  {
   "cell_type": "markdown",
   "id": "russian-helena",
   "metadata": {},
   "source": [
    "Metoda Midpoint zostałą opracowana na podstwie metody Eulera, \n",
    "aczkolwiek zastosowano w niej rozwinęcie w szereg Taylora z dokładnością o jeden krok wiecej niż w metodzie Eulera.\n",
    "W metodzie tej nachylenie jest szacowane na podstawie wartości 'y' w środku przedziału."
   ]
  },
  {
   "cell_type": "code",
<<<<<<< HEAD
   "execution_count": 186,
   "metadata": {},
   "outputs": [
    {
     "data": {
      "application/javascript": [
       "\n",
       "            setTimeout(function() {\n",
       "                var nbb_cell_id = 186;\n",
       "                var nbb_unformatted_code = \"def midpoint_second(t0, tn, dt, init_condit, form):\\n    grid_t = np.arange(t0, tn, dt)\\n    grid_i = grid_t.copy()\\n    grid_i.fill(0)\\n    grid_i_prim = grid_t.copy()\\n    grid_i_prim.fill(0)\\n\\n    grid_i[0] = init_condit[0]\\n    grid_i_prim[0] = init_condit[1]\\n\\n    for ind, t in enumerate(grid_t[1:]):\\n        prev_i = grid_i[ind - 1]\\n        prev_i_prim = grid_i_prim[ind - 1]\\n        grid_i_prim[ind] = prev_i_prim + dt * form(\\n            t + dt / 2,\\n            prev_i+dt*prev_i_prim/2,\\n            prev_i_prim + dt * form(t, prev_i, prev_i_prim)/2,\\n        )\\n        grid_i[ind] = prev_i + dt * (prev_i_prim+ grid_i_prim[ind]) / 2\\n\\n    return grid_t, grid_i\";\n",
       "                var nbb_formatted_code = \"def midpoint_second(t0, tn, dt, init_condit, form):\\n    grid_t = np.arange(t0, tn, dt)\\n    grid_i = grid_t.copy()\\n    grid_i.fill(0)\\n    grid_i_prim = grid_t.copy()\\n    grid_i_prim.fill(0)\\n\\n    grid_i[0] = init_condit[0]\\n    grid_i_prim[0] = init_condit[1]\\n\\n    for ind, t in enumerate(grid_t[1:]):\\n        prev_i = grid_i[ind - 1]\\n        prev_i_prim = grid_i_prim[ind - 1]\\n        grid_i_prim[ind] = prev_i_prim + dt * form(\\n            t + dt / 2,\\n            prev_i + dt * prev_i_prim / 2,\\n            prev_i_prim + dt * form(t, prev_i, prev_i_prim) / 2,\\n        )\\n        grid_i[ind] = prev_i + dt * (prev_i_prim + grid_i_prim[ind]) / 2\\n\\n    return grid_t, grid_i\";\n",
       "                var nbb_cells = Jupyter.notebook.get_cells();\n",
       "                for (var i = 0; i < nbb_cells.length; ++i) {\n",
       "                    if (nbb_cells[i].input_prompt_number == nbb_cell_id) {\n",
       "                        if (nbb_cells[i].get_text() == nbb_unformatted_code) {\n",
       "                             nbb_cells[i].set_text(nbb_formatted_code);\n",
       "                        }\n",
       "                        break;\n",
       "                    }\n",
       "                }\n",
       "            }, 500);\n",
       "            "
      ],
      "text/plain": [
       "<IPython.core.display.Javascript object>"
      ]
     },
     "metadata": {},
     "output_type": "display_data"
    }
   ],
=======
   "execution_count": null,
   "id": "small-collar",
   "metadata": {},
   "outputs": [],
>>>>>>> refs/remotes/origin/master
   "source": [
    "def midpoint_second(t0, tn, dt, init_condit, form):\n",
    "    grid_t = np.arange(t0, tn, dt)\n",
    "    grid_i = grid_t.copy()\n",
    "    grid_i.fill(0)\n",
    "    grid_i_prim = grid_t.copy()\n",
    "    grid_i_prim.fill(0)\n",
    "\n",
    "    grid_i[0] = init_condit[0]\n",
    "    grid_i_prim[0] = init_condit[1]\n",
    "\n",
    "    for ind, t in enumerate(grid_t[1:]):\n",
    "        prev_i = grid_i[ind - 1]\n",
    "        prev_i_prim = grid_i_prim[ind - 1]\n",
    "        grid_i_prim[ind] = prev_i_prim + dt * form(\n",
    "            t + dt / 2,\n",
    "            prev_i + dt * prev_i_prim / 2,\n",
    "            prev_i_prim + dt * form(t, prev_i, prev_i_prim) / 2,\n",
    "        )\n",
    "        grid_i[ind] = prev_i + dt * (prev_i_prim + grid_i_prim[ind]) / 2\n",
    "\n",
    "    return grid_t, grid_i"
   ]
  },
  {
   "cell_type": "code",
   "execution_count": null,
<<<<<<< HEAD
   "metadata": {},
   "outputs": [],
   "source": []
  },
  {
   "cell_type": "code",
   "execution_count": 203,
   "metadata": {},
   "outputs": [
    {
     "data": {
      "application/javascript": [
       "\n",
       "            setTimeout(function() {\n",
       "                var nbb_cell_id = 203;\n",
       "                var nbb_unformatted_code = \"adam = euler_second(\\n    0, 1, 0.001, (1, 0.2), preparation(10, 1, 0.0001, 30, 70, -np.pi / 2)\\n)\\newa = midpoint_second(\\n    0, 1, 0.001, (1, 0.2), preparation(10, 1, 0.0001, 30, 70, -np.pi / 2)\\n)\\nmateo = euler_second(\\n    0, 1, 0.0001, (1, 0.2), preparation(10, 1, 0.0001, 30, 70, -np.pi / 2)\\n)\";\n",
       "                var nbb_formatted_code = \"adam = euler_second(\\n    0, 1, 0.001, (1, 0.2), preparation(10, 1, 0.0001, 30, 70, -np.pi / 2)\\n)\\newa = midpoint_second(\\n    0, 1, 0.001, (1, 0.2), preparation(10, 1, 0.0001, 30, 70, -np.pi / 2)\\n)\\nmateo = euler_second(\\n    0, 1, 0.0001, (1, 0.2), preparation(10, 1, 0.0001, 30, 70, -np.pi / 2)\\n)\";\n",
       "                var nbb_cells = Jupyter.notebook.get_cells();\n",
       "                for (var i = 0; i < nbb_cells.length; ++i) {\n",
       "                    if (nbb_cells[i].input_prompt_number == nbb_cell_id) {\n",
       "                        if (nbb_cells[i].get_text() == nbb_unformatted_code) {\n",
       "                             nbb_cells[i].set_text(nbb_formatted_code);\n",
       "                        }\n",
       "                        break;\n",
       "                    }\n",
       "                }\n",
       "            }, 500);\n",
       "            "
      ],
      "text/plain": [
       "<IPython.core.display.Javascript object>"
      ]
     },
     "metadata": {},
     "output_type": "display_data"
    }
   ],
=======
   "id": "female-thermal",
   "metadata": {},
   "outputs": [],
>>>>>>> refs/remotes/origin/master
   "source": [
    "adam = euler_second(\n",
    "    0, 1, 0.001, (1, 0.2), preparation(10, 1, 0.0001, 30, 70, -np.pi / 2)\n",
    ")\n",
    "ewa = midpoint_second(\n",
    "    0, 1, 0.001, (1, 0.2), preparation(10, 1, 0.0001, 30, 70, -np.pi / 2)\n",
    ")\n",
    "mateo = euler_second(\n",
    "    0, 1, 0.0001, (1, 0.2), preparation(10, 1, 0.0001, 30, 70, -np.pi / 2)\n",
    ")"
   ]
  },
  {
   "cell_type": "code",
<<<<<<< HEAD
   "execution_count": 206,
   "metadata": {},
   "outputs": [
    {
     "data": {
      "image/png": "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\n",
      "text/plain": [
       "<Figure size 432x288 with 1 Axes>"
      ]
     },
     "metadata": {
      "needs_background": "light"
     },
     "output_type": "display_data"
    },
    {
     "data": {
      "application/javascript": [
       "\n",
       "            setTimeout(function() {\n",
       "                var nbb_cell_id = 206;\n",
       "                var nbb_unformatted_code = \"plt.plot(*adam)\\n\\nplt.plot(*ewa)\\nplt.plot(*mateo)\\nplt.show()\";\n",
       "                var nbb_formatted_code = \"plt.plot(*adam)\\n\\nplt.plot(*ewa)\\nplt.plot(*mateo)\\nplt.show()\";\n",
       "                var nbb_cells = Jupyter.notebook.get_cells();\n",
       "                for (var i = 0; i < nbb_cells.length; ++i) {\n",
       "                    if (nbb_cells[i].input_prompt_number == nbb_cell_id) {\n",
       "                        if (nbb_cells[i].get_text() == nbb_unformatted_code) {\n",
       "                             nbb_cells[i].set_text(nbb_formatted_code);\n",
       "                        }\n",
       "                        break;\n",
       "                    }\n",
       "                }\n",
       "            }, 500);\n",
       "            "
      ],
      "text/plain": [
       "<IPython.core.display.Javascript object>"
      ]
     },
     "metadata": {},
     "output_type": "display_data"
    }
   ],
=======
   "execution_count": null,
   "id": "expensive-backing",
   "metadata": {},
   "outputs": [],
>>>>>>> refs/remotes/origin/master
   "source": [
    "plt.plot(*adam)\n",
    "\n",
    "plt.plot(*ewa)\n",
    "plt.plot(*mateo)\n",
    "plt.show()"
   ]
  },
  {
   "cell_type": "code",
   "execution_count": 213,
   "metadata": {},
   "outputs": [
    {
     "data": {
      "application/javascript": [
       "\n",
       "            setTimeout(function() {\n",
       "                var nbb_cell_id = 213;\n",
       "                var nbb_unformatted_code = \"def cum_diff(arr1, arr2):\\n    diffs = arr1 - arr2[::10]\\n    abs_diffs = np.abs(diffs)\\n    return np.cumsum(abs_diffs)\";\n",
       "                var nbb_formatted_code = \"def cum_diff(arr1, arr2):\\n    diffs = arr1 - arr2[::10]\\n    abs_diffs = np.abs(diffs)\\n    return np.cumsum(abs_diffs)\";\n",
       "                var nbb_cells = Jupyter.notebook.get_cells();\n",
       "                for (var i = 0; i < nbb_cells.length; ++i) {\n",
       "                    if (nbb_cells[i].input_prompt_number == nbb_cell_id) {\n",
       "                        if (nbb_cells[i].get_text() == nbb_unformatted_code) {\n",
       "                             nbb_cells[i].set_text(nbb_formatted_code);\n",
       "                        }\n",
       "                        break;\n",
       "                    }\n",
       "                }\n",
       "            }, 500);\n",
       "            "
      ],
      "text/plain": [
       "<IPython.core.display.Javascript object>"
      ]
     },
     "metadata": {},
     "output_type": "display_data"
    }
   ],
   "source": [
    "def cum_diff(arr1, arr2):\n",
    "    diffs = arr1 - arr2[::10]\n",
    "    abs_diffs = np.abs(diffs)\n",
    "    return np.cumsum(abs_diffs)"
   ]
  },
  {
   "cell_type": "code",
   "execution_count": 214,
   "metadata": {},
   "outputs": [
    {
     "data": {
      "text/plain": [
       "[<matplotlib.lines.Line2D at 0x1f0020a1070>]"
      ]
     },
     "execution_count": 214,
     "metadata": {},
     "output_type": "execute_result"
    },
    {
     "data": {
      "image/png": "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\n",
      "text/plain": [
       "<Figure size 432x288 with 1 Axes>"
      ]
     },
     "metadata": {
      "needs_background": "light"
     },
     "output_type": "display_data"
    },
    {
     "data": {
      "application/javascript": [
       "\n",
       "            setTimeout(function() {\n",
       "                var nbb_cell_id = 214;\n",
       "                var nbb_unformatted_code = \"plt.plot(adam[0], cum_diff(adam[1], mateo[1]))\\nplt.plot(adam[0], cum_diff(ewa[1], mateo[1]))\";\n",
       "                var nbb_formatted_code = \"plt.plot(adam[0], cum_diff(adam[1], mateo[1]))\\nplt.plot(adam[0], cum_diff(ewa[1], mateo[1]))\";\n",
       "                var nbb_cells = Jupyter.notebook.get_cells();\n",
       "                for (var i = 0; i < nbb_cells.length; ++i) {\n",
       "                    if (nbb_cells[i].input_prompt_number == nbb_cell_id) {\n",
       "                        if (nbb_cells[i].get_text() == nbb_unformatted_code) {\n",
       "                             nbb_cells[i].set_text(nbb_formatted_code);\n",
       "                        }\n",
       "                        break;\n",
       "                    }\n",
       "                }\n",
       "            }, 500);\n",
       "            "
      ],
      "text/plain": [
       "<IPython.core.display.Javascript object>"
      ]
     },
     "metadata": {},
     "output_type": "display_data"
    }
   ],
   "source": [
    "plt.plot(adam[0], cum_diff(adam[1], mateo[1]))\n",
    "plt.plot(adam[0], cum_diff(ewa[1], mateo[1]))"
   ]
  },
  {
   "cell_type": "markdown",
   "id": "exposed-mathematics",
   "metadata": {},
   "source": [
    "# Bibliografia"
   ]
  },
  {
   "cell_type": "markdown",
   "id": "handled-soccer",
   "metadata": {},
   "source": [
    "<a id=\"bib1\">[1]</a> M. Gewert; Z. Skoczylas, *Równania różniczkowe liniowe drugiego rzędu*, [w:] *Równania różniczkowe zwyczajne*, Wrocław 2016, s. 92-94.\n",
    "\n",
    "<a id=\"bib2\">[2]</a> Ł. Płociniczak, *Ordinary differential equations in science and technology*, 2020, s. 50-57; 62.\n",
    "\n",
    "<a id=\"bib3\">[3]</a> Tamże, s. 63.\n",
    "\n",
    "<a id=\"bib4\">[4]</a> M. Szulim, *Rezonans w obwodach elektrycznych*, *Wykład: Obwody i sygnały 1*. [dostęp: 01.01.2022]. Dostęp w Internecie: https://zoise.wel.wat.edu.pl/dydaktyka/WEL%20niestacjonarne/Wyklady/07_Rezonans_obwod_elektryczny.pdf.\n",
    "\n",
    "...71-73; 85-105.\n",
    "\n",
    "<a id=\"bib5\">[5]</a> https://pl.wikipedia.org/wiki/Metoda_numeryczna\n",
    "\n",
    "<a id=\"bib6\">[6]</a> https://pl.wikipedia.org/wiki/Metoda_Eulera\n",
    "\n",
    "<a id=\"bib7\">[7]</a> http://www.if.pw.edu.pl/~agatka/numeryczne/wyklad_08.pdf; https://edu.pjwstk.edu.pl/wyklady/fiz/scb/Wyklad2/w2.xml"
   ]
  },
  {
   "cell_type": "markdown",
   "id": "capable-offering",
   "metadata": {},
   "source": [
    "Schematy układów zostały wygenerowane z pomocą strony Circuit Diagram. [dostęp: 01.01.2022]. Dostęp w Internecie: https://www.circuit-diagram.org/editor/."
   ]
  },
  {
   "cell_type": "code",
   "execution_count": null,
   "id": "nervous-element",
   "metadata": {},
   "outputs": [],
   "source": []
  }
 ],
 "metadata": {
  "kernelspec": {
   "display_name": "Python 3",
   "language": "python",
   "name": "python3"
  },
  "language_info": {
   "codemirror_mode": {
    "name": "ipython",
    "version": 3
   },
   "file_extension": ".py",
   "mimetype": "text/x-python",
   "name": "python",
   "nbconvert_exporter": "python",
   "pygments_lexer": "ipython3",
   "version": "3.8.2"
  }
 },
 "nbformat": 4,
 "nbformat_minor": 5
}
