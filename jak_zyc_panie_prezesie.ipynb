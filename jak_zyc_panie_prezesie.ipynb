{
 "cells": [
  {
   "cell_type": "markdown",
   "id": "rational-height",
   "metadata": {},
   "source": [
    "Zadania:\n",
    "- **Wstęp**\n",
    "Opis równania obwodu RLC (Adam); wizualizacja; obrazki; co to układ RLC?; drgania\n",
    "- **Opis zjawiska/podstawy teoretyczne**\n",
    "Równania; Prawo Ohma (Adam), Faradaya (Adam); prawa Kirchhoffa (Mateusz); wzór dla oczka RLC wyprowadzony z praw (razem); równania analityczne (razem); implementacja; równania numeryczne\n",
    "- **Wyniki**\n",
    "wykresy; zdjęcie obwodu, nasze dane z obwodu; opisy danych\n",
    "- **Podsumowanie i wnioski**\n",
    "\n"
   ]
  },
  {
   "cell_type": "markdown",
   "id": "eligible-pantyhose",
   "metadata": {},
   "source": [
    "**Die Resonanz; Fuse(bezpiecznik); Czy układ wybuchnie przy włączaniu?; równolegle oprócz szeregowo; układy na więcej oczek; plotujemy prąd i natężenie na oporniku i spróbujemy też  na innych.**"
   ]
  },
  {
   "cell_type": "markdown",
   "id": "vulnerable-provider",
   "metadata": {},
   "source": [
    "- **Literautura**"
   ]
  },
  {
   "cell_type": "markdown",
   "id": "monthly-electricity",
   "metadata": {},
   "source": [
    "- **Źródła**"
   ]
  }
 ],
 "metadata": {
  "kernelspec": {
   "display_name": "",
   "name": ""
  },
  "language_info": {
   "name": ""
  }
 },
 "nbformat": 4,
 "nbformat_minor": 5
}
