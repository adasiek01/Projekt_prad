{
 "cells": [
  {
   "cell_type": "markdown",
   "id": "welsh-vancouver",
   "metadata": {},
   "source": [
    "Zadania:\n",
    "- **Wstęp**\n",
    "Opis równania obwodu RLC (Adam); wizualizacja; obrazki; co to układ RLC?; drgania\n",
    "- **Opis zjawiska/podstawy teoretyczne**\n",
    "Równania; Prawo Ohma (Adam), Faradaya (Adam); prawa Kirchhoffa (Mateusz); wzór dla oczka RLC wyprowadzony z praw (razem); równania analityczne (razem); implementacja; równania numeryczne\n",
    "- **Wyniki**\n",
    "wykresy; zdjęcie obwodu, nasze dane z obwodu; opisy danych\n",
    "- **Podsumowanie i wnioski**\n",
    "\n"
   ]
  },
  {
   "cell_type": "markdown",
   "id": "metallic-benefit",
   "metadata": {},
   "source": [
    "**Die Resonanz; Fuse(bezpiecznik); Czy układ wybuchnie przy włączaniu?; równolegle oprócz szeregowo; układy na więcej oczek; plotujemy prąd i natężenie na oporniku i spróbujemy też  na innych, równanie Szokleja-dioda. Obwód RLC z diodą (jedno oczko).**"
   ]
  },
  {
   "cell_type": "markdown",
   "id": "spoken-occasions",
   "metadata": {},
   "source": [
    "- **Literautura**"
   ]
  },
  {
   "cell_type": "markdown",
   "id": "north-bread",
   "metadata": {},
   "source": [
    "- **Źródła**"
   ]
  }
 ],
 "metadata": {
  "kernelspec": {
   "display_name": "",
   "name": ""
  },
  "language_info": {
   "name": ""
  }
 },
 "nbformat": 4,
 "nbformat_minor": 5
}
